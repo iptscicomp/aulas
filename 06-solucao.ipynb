{
 "cells": [
  {
   "cell_type": "markdown",
   "metadata": {},
   "source": [
    "# Problemas para a aula 6\n",
    "\n",
    "Este notebook apresenta algumas das soluções dos problemas propostos\n",
    "<!-- TEASER_END -->"
   ]
  },
  {
   "cell_type": "markdown",
   "metadata": {},
   "source": [
    "<!-- TEASER_END -->"
   ]
  },
  {
   "cell_type": "code",
   "execution_count": null,
   "metadata": {},
   "outputs": [],
   "source": [
    "using PyPlot\n",
    "using Jacobi"
   ]
  },
  {
   "cell_type": "markdown",
   "metadata": {},
   "source": [
    "# Problemas\n",
    "\n",
    "## Problema 1\n",
    "\n",
    "Faça uma função para calcular a integral usando a regra do ponto médio com pontos cujo espaçamento não é igual\n"
   ]
  },
  {
   "cell_type": "markdown",
   "metadata": {},
   "source": [
    "### Solução\n",
    "\n",
    "Na regra do ponto médio, a função é calculada no meio do intervalo. Neste caso, o valor da função no ponto médio não está definido. Então este valor teria que ser interpolado. Usando uma interpolação linear, obtemos o método do trapézio!!! Por isso que o método do trapézio tem precisão pior que o método do ponto médio.\n"
   ]
  },
  {
   "cell_type": "markdown",
   "metadata": {},
   "source": [
    "## Problema 2\n",
    "Faça uma função para calcular a integral usando a regra do trapézio com pontos cujo espaçamento não é igual\n"
   ]
  },
  {
   "cell_type": "code",
   "execution_count": null,
   "metadata": {},
   "outputs": [],
   "source": [
    "function trapezio(x, y::AbstractVector{T}) where {T}\n",
    "    \n",
    "    A = zero(T)\n",
    "    n = length(y)\n",
    "    \n",
    "    for i = 2:n\n",
    "        δx =  x[i] - x[i-1]\n",
    "        yₘ = (y[i] + y[i-1]) / 2\n",
    "        δA = δx * yₘ\n",
    "        A += δA\n",
    "    end\n",
    "        \n",
    "    return A\n",
    "end\n"
   ]
  },
  {
   "cell_type": "code",
   "execution_count": null,
   "metadata": {},
   "outputs": [],
   "source": [
    "# Exemplo: integral de 0 a π de sin(x)\n",
    "\n",
    "# 1. Solução exata:\n",
    "Ie = -(cos(π) - cos(0))\n",
    "randunif(n, a, b) = rand(n) .* (b-a) .+ a\n",
    "function traprand(a, b, f, n)\n",
    "    \n",
    "    x = sort([a; randunif(n-2, a, b); b])\n",
    "    y = f.(x)\n",
    "    \n",
    "    return trapezio(x, y)\n",
    "end\n",
    "# Gerar pontos aleatórios:\n",
    "n = [3; 5; 7; 10:5:100; 110:10:500; 520:20:1000; 1050:50:3000]\n",
    "\n",
    "Ic = traprand.(0.0, π, sin, n);\n",
    "err = abs.(Ic .- Ie);"
   ]
  },
  {
   "cell_type": "code",
   "execution_count": null,
   "metadata": {},
   "outputs": [],
   "source": [
    "tr = loglog(n, err, \"bo\")\n",
    "text(200, 0.005, L\"$\\mathcal{O}(n^{-2})$\")\n",
    "nn1 = 50:1000\n",
    "ee1 = 80 .* nn1.^(-2)\n",
    "quad = plot(nn1, ee1, \"r--\")\n"
   ]
  },
  {
   "cell_type": "markdown",
   "metadata": {},
   "source": [
    "## Problema 3\n",
    "\n",
    "Calcule usando os diversos métodos apresentados a seguinte integral:\n",
    "\n",
    "$$\n",
    "\\int_{-1}^1 \\left(1- | x |\\right) \\: dx\n",
    "$$\n",
    "\n",
    "\n"
   ]
  },
  {
   "cell_type": "code",
   "execution_count": null,
   "metadata": {},
   "outputs": [],
   "source": [
    "function midrule(a, b, f, n)\n",
    "    dx = (b-a) / n\n",
    "    x = range(a, b, length=n+1)\n",
    "    s = 0.0\n",
    "    for i in 1:n\n",
    "        s += f(x[i]+dx/2)\n",
    "    end\n",
    "    \n",
    "    return dx * s\n",
    "end\n",
    "\n",
    "function trapezoidal(a, b, f, n)\n",
    "    x = range(a, b, length=n+1)\n",
    "    \n",
    "    s = f(x[1])/2 + f(x[end])/2\n",
    "    \n",
    "    for i in 2:n\n",
    "        s += f(x[i])\n",
    "    end\n",
    "    \n",
    "    return (b-a) * s/n\n",
    "end\n",
    "    \n",
    "# Detalhe n tem que ser divisível por 2.\n",
    "function simpsonsrule(a, b, f, n)\n",
    "    x = range(a, b, length=n+1)\n",
    "    \n",
    "    s = f(x[1]) + f(x[end])\n",
    "    w, w2 = 4,2\n",
    "    for i = 2:n\n",
    "        s += w*f(x[i])\n",
    "        w, w2 = w2, w\n",
    "    end\n",
    "    \n",
    "    return s * (b-a)/(3n)\n",
    "end\n",
    "\n",
    "function romberg(a, b, f, n)\n",
    "    R1 = zeros(n)\n",
    "    R2 = zeros(n)\n",
    "    h = Float64(b-a)\n",
    "    R1[1] = h/2 * (f(a) + f(b))\n",
    "    for i in 2:n\n",
    "        s = 0.0\n",
    "        for k in 1:(2^(i-2))\n",
    "            s += f(a + (k-0.5)*h)\n",
    "        end\n",
    "        R2[1] = 0.5 * (R1[1] + h * s)\n",
    "        for k in 2:i\n",
    "            R2[k] = R2[k-1] + (R2[k-1] - R1[k-1]) / (4^(k-1) - 1)\n",
    "        end\n",
    "        for k in 1:i\n",
    "            R1[k] = R2[k]\n",
    "        end\n",
    "        h = h/2\n",
    "    end\n",
    "    \n",
    "    return R2[n]\n",
    "    \n",
    "end\n"
   ]
  },
  {
   "cell_type": "markdown",
   "metadata": {},
   "source": [
    "### Solução"
   ]
  },
  {
   "cell_type": "code",
   "execution_count": null,
   "metadata": {},
   "outputs": [],
   "source": [
    "n1 = 2:10#; 12:2:40; 45:5:200; 210:10:500; 520:20:1000; 1050:50:2000]\n",
    "a = -1.0\n",
    "b = 1.0\n",
    "f(x) = 1.0 - abs(x)\n",
    "\n",
    "Ie = 1.0"
   ]
  },
  {
   "cell_type": "markdown",
   "metadata": {},
   "source": [
    "### Regra do trapézio:"
   ]
  },
  {
   "cell_type": "code",
   "execution_count": null,
   "metadata": {},
   "outputs": [],
   "source": [
    "err1 = abs.(trapezoidal.(a, b, f, n1) .- Ie;)"
   ]
  },
  {
   "cell_type": "code",
   "execution_count": null,
   "metadata": {},
   "outputs": [],
   "source": []
  },
  {
   "cell_type": "code",
   "execution_count": null,
   "metadata": {},
   "outputs": [],
   "source": [
    "plot(n1, err1, \"bo-\")\n"
   ]
  },
  {
   "cell_type": "markdown",
   "metadata": {},
   "source": [
    "#### Usando simetria"
   ]
  },
  {
   "cell_type": "code",
   "execution_count": null,
   "metadata": {},
   "outputs": [],
   "source": [
    "err1b = abs.(2*trapezoidal.(0, 1, f, n1) .- Ie;)"
   ]
  },
  {
   "cell_type": "markdown",
   "metadata": {},
   "source": [
    "#### Só n ímpar:\n"
   ]
  },
  {
   "cell_type": "code",
   "execution_count": null,
   "metadata": {},
   "outputs": [],
   "source": [
    "n1c = 1:2:101\n",
    "err1c = abs.(midrule.(a, b, f, n1c) .- Ie;);\n"
   ]
  },
  {
   "cell_type": "code",
   "execution_count": null,
   "metadata": {},
   "outputs": [],
   "source": [
    "loglog(n1c, err1c, \"bo\")\n",
    "nn1 = 20:80\n",
    "ee1 = 5 .* nn1.^(-2)\n",
    "quad = plot(nn1, ee1, \"r--\")\n",
    "text(40, 0.005, L\"$\\mathcal{O}(n^{-2})$\")\n"
   ]
  },
  {
   "cell_type": "code",
   "execution_count": null,
   "metadata": {},
   "outputs": [],
   "source": []
  },
  {
   "cell_type": "markdown",
   "metadata": {},
   "source": [
    "### Regra do ponto médio"
   ]
  },
  {
   "cell_type": "code",
   "execution_count": null,
   "metadata": {},
   "outputs": [],
   "source": [
    "n2 = 1:2:101\n",
    "err1 = abs.(midrule.(a, b, f, n2) .- Ie;)"
   ]
  },
  {
   "cell_type": "markdown",
   "metadata": {},
   "source": [
    "### Romberg"
   ]
  },
  {
   "cell_type": "code",
   "execution_count": null,
   "metadata": {},
   "outputs": [],
   "source": [
    "n = 1:10\n",
    "err3 = abs.(romberg.(-1,1,f,n) .- Ie)"
   ]
  },
  {
   "cell_type": "markdown",
   "metadata": {},
   "source": [
    "### Método de Gauss"
   ]
  },
  {
   "cell_type": "code",
   "execution_count": null,
   "metadata": {},
   "outputs": [],
   "source": [
    "n4a = 1:50\n",
    "z4a = zgj.(n4a);\n",
    "w4a = wgj.(z4a);\n",
    "integr(z,w,f) = sum(f.(z) .* w)\n",
    "\n",
    "err4a = abs.(integr.(z4a, w4a, f) .- Ie);"
   ]
  },
  {
   "cell_type": "code",
   "execution_count": null,
   "metadata": {},
   "outputs": [],
   "source": [
    "loglog(n4a, err4a, \"bo-\")"
   ]
  },
  {
   "cell_type": "code",
   "execution_count": null,
   "metadata": {},
   "outputs": [],
   "source": []
  },
  {
   "cell_type": "markdown",
   "metadata": {},
   "source": [
    "#### Usando a simetria"
   ]
  },
  {
   "cell_type": "code",
   "execution_count": null,
   "metadata": {},
   "outputs": [],
   "source": [
    "ξ2z(ξ) = (ξ+1.0)/2\n",
    "z4b = [ξ2z.(z) for z in z4a];\n",
    "err4b = abs.(integr.(z4b, w4a, f) .- Ie)"
   ]
  },
  {
   "cell_type": "code",
   "execution_count": null,
   "metadata": {},
   "outputs": [],
   "source": [
    "#### Gauss-Lobatto-Jacobi\n",
    "n4c = 2:50\n",
    "z4c = zglj.(n4c);\n",
    "w4c = wglj.(z4c);\n"
   ]
  },
  {
   "cell_type": "code",
   "execution_count": null,
   "metadata": {},
   "outputs": [],
   "source": [
    "err4c = abs.(integr.(z4c, w4c, f) .- Ie);\n",
    "loglog(n4c, err4c, \"bo-\")\n",
    "plot(n4a, err4a, \"gs--\")\n",
    "nn1 = 20:80\n",
    "ee1 = 5 .* nn1.^(-2)\n",
    "quad = plot(nn1, ee1, \"r--\")\n",
    "text(40, 0.005, L\"$\\mathcal{O}(n^{-2})$\")"
   ]
  },
  {
   "cell_type": "markdown",
   "metadata": {},
   "source": [
    "## Problema 4\n",
    "\n",
    "Em Pitometria, calcular a vazão correponde a integrar o perfil de velocidades. Deste modo, \n",
    "\n",
    "$$\n",
    "Q = \\int_0^R 2\\pi r\\cdot u(r) \\:dr\n",
    "$$\n",
    "\n",
    "Encontre os pesos e os nós de integração usando o método de Gauss (com peso). Dica: mapeie $0\\le r\\le R$ para uma variável $\\xi$ de modo que os limites de integração sejam $-1 \\le \\xi \\le 1$.\n",
    "\n",
    "### Desafio\n",
    "\n",
    "No problema anterior, foram utilzados polinômios. Tente encontrar os pesos e nós para sequências de funções do tipo\n",
    "\n",
    "$$\n",
    "1, \\:\\ln x, \\:x, \\:x^2, \\:x^3, \\:x^4, \\:\\text{etc}\n",
    "$$"
   ]
  },
  {
   "cell_type": "markdown",
   "metadata": {},
   "source": [
    "### Solução\n",
    "\n",
    "Primeiro, vamos fazer o seguinte mapemanto:\n",
    "\n",
    "$$\n",
    "0 \\le r \\le R \\quad \\Longrightarrow \\quad -1 \\le \\xi \\le 1\n",
    "$$\n",
    "\n",
    "Definindo \n",
    "\n",
    "$$\n",
    "r = \\frac{1+\\xi}{2}\\cdot R\n",
    "$$\n",
    "\n",
    "com este mapeamento, obtemos:\n",
    "\n",
    "$$\n",
    "\\delta r = \\frac{R}{2} \\cdot \\delta\\xi\n",
    "$$\n",
    "\n",
    "Com estas transformações, obtemos:\n",
    "\n",
    "$$\n",
    "Q = \\int_0^R 2\\pi r\\cdot u(r) \\:dr = 2\\pi \\int_{-1}^1  r(\\xi) \\cdot u[r(\\xi)] J(\\xi)\\:d\\xi  = \\bar{V} A = \\bar{V}\\pi R^2\\\\\n",
    "\\bar{V}= \\frac{Q}{A}=\\frac{2\\pi}{\\pi R^2} \\int_{-1}^1 \\frac{1+\\xi}{2}\\cdot R \\cdot u[r(\\xi)] \\cdot \\frac{R}{2} d\\xi = \\frac{1}{2} \\int_{-1}^1 u(\\xi) (1+\\xi)\\:d\\xi\n",
    "$$\n",
    "\n",
    "\n",
    "\n"
   ]
  },
  {
   "cell_type": "markdown",
   "metadata": {},
   "source": [
    "A velocidade média tem, então a seguinte forma:\n",
    "\n",
    "$$\n",
    "\\bar{V}= \\frac{Q}{A}= \\frac{1}{2} \\int_{-1}^1 u(\\xi) (1+\\xi)\\:d\\xi\n",
    "$$\n",
    "\n",
    "Incorporando o peso $(1+\\xi)$ pode-se chegar à seguinte regra de quadratura de Gauss:\n",
    "\n",
    "$$\n",
    "\\bar{V} = \\frac{1}{2} \\sum_{i=1}^Q w_i^{0,1} \\cdot u\\left(\\xi_i^{0,1}\\right)\n",
    "$$\n",
    "\n",
    "onde $\\xi_i^{0,\\beta}$ é $w_i^{0,\\beta}$ são os nós e pesos da quadratura de Gauss Jacobi com função peso $w(x) = (1+x)$.\n",
    "\n",
    "Incorporando o fator 1/2 ao peso, e lembrando que $r = (1+\\xi)/2$"
   ]
  },
  {
   "cell_type": "code",
   "execution_count": null,
   "metadata": {},
   "outputs": [],
   "source": [
    "n = 1:28\n",
    "\n",
    "ξ = zgj.(n, 0, 1)\n",
    "w1 = wgj.(ξ, 0, 1)\n",
    "\n",
    "r = [(1 .+ x) / 2 for x in ξ];\n",
    "w = [w ./ 2 for w in w1];"
   ]
  },
  {
   "cell_type": "code",
   "execution_count": null,
   "metadata": {},
   "outputs": [],
   "source": [
    "r[1:5]"
   ]
  },
  {
   "cell_type": "code",
   "execution_count": null,
   "metadata": {},
   "outputs": [],
   "source": [
    "w[1:5]"
   ]
  },
  {
   "cell_type": "markdown",
   "metadata": {},
   "source": [
    "#### Observação:\n",
    "\n",
    "Uma condição que os pesos devem observar é:\n",
    "\n",
    "$$\n",
    "\\sum_{i=1}^Q w_i \\equiv 1\n",
    "$$"
   ]
  },
  {
   "cell_type": "code",
   "execution_count": null,
   "metadata": {},
   "outputs": [],
   "source": [
    "sum.(w)"
   ]
  },
  {
   "cell_type": "markdown",
   "metadata": {},
   "source": [
    "#### Exemplo:\n",
    "\n",
    "$$\n",
    "U(r) = r^{\\frac{1}{7}}\n",
    "$$\n",
    "\n",
    "Se a tubulação tiver 2 m de diâmetro, qual a velocidade média?\n",
    "\n",
    "**Solução exata**:\n",
    "$$\n",
    "\\bar{V} = \\frac{2\\pi}{\\pi R^2}\\int_0^R U(r) r \\:dr\n",
    "$$\n",
    "ou seja\n",
    "$$\n",
    "\\bar{V} = 2\\int_0^1 r\\cdot r^{\\frac{1}{7}} \\:dr = \\frac{14}{15}\n",
    "$$\n",
    "\n",
    "**Solução com quadratura de Gauss Jacobi**\n"
   ]
  },
  {
   "cell_type": "code",
   "execution_count": null,
   "metadata": {},
   "outputs": [],
   "source": [
    "nq = length(w)\n",
    "u(r) = (1.0-r)^(1/7)\n",
    "V = integr.(r, w, u)\n",
    "errv = abs.(V .- 49/60);"
   ]
  },
  {
   "cell_type": "code",
   "execution_count": null,
   "metadata": {},
   "outputs": [],
   "source": [
    "loglog(n, errv, \"bo-\")"
   ]
  },
  {
   "cell_type": "markdown",
   "metadata": {},
   "source": [
    "#### Incluindo o ponto central\n",
    "\n",
    "Durante a pitometria, é comum incluir o ponto central pois esta medição pode ser utilizada para se fazer a monitoração da vazão. Os pontos da quadratura utilizada a acima não incluem o centro. Assim, uma medição extra é necessária. Como a medição é feita ao longo de 1 diâmetro, na ida e vola, 2 pontos a mais são medidos. Incluindo este ponto na regra de quadratura, haverá uma economia de medição:\n",
    "\n",
    "Número de medições por eixo:\n",
    "\n",
    " * Hoje: $4\\times Q + 2$\n",
    " * Incluindo o centro: $4 \\times (Q-1) + 2$\n",
    " \n",
    " Economia de 4 pontos na medição. Debaixo do sol/chuva/vento e em posição de stress isso pode fazer uma grande diferença.\n",
    " \n",
    "O ponto central, $r=0$ corresponde a $\\xi=-1$, assim as funções do pacote Jacobi são:\n",
    "\n",
    " * `zgrjm`\n",
    " * `wgrjm`"
   ]
  },
  {
   "cell_type": "code",
   "execution_count": null,
   "metadata": {},
   "outputs": [],
   "source": [
    "nr = 1:28\n",
    "\n",
    "ξr = zgrjm.(nr, 0, 1)\n",
    "w1r = wgrjm.(ξr, 0, 1)\n",
    "\n",
    "rr = [(1 .+ x) / 2 for x in ξr];\n",
    "wr = [w ./ 2 for w in w1r];"
   ]
  },
  {
   "cell_type": "code",
   "execution_count": null,
   "metadata": {},
   "outputs": [],
   "source": [
    "Vr = integr.(rr, wr, u)\n",
    "errvr = abs.(Vr .- 49/60);"
   ]
  },
  {
   "cell_type": "code",
   "execution_count": null,
   "metadata": {},
   "outputs": [],
   "source": [
    "gj = loglog(n, errv, \"bo:\", label=\"Gauss-Jacobi\")\n",
    "grj = plot(nr, errvr, \"rs-\", label=\"Gauss-Radau-Jacobi\")\n",
    "xlabel(\"Número de nós\")\n",
    "ylabel(\"Erro\")\n",
    "legend()\n"
   ]
  },
  {
   "cell_type": "code",
   "execution_count": null,
   "metadata": {},
   "outputs": [],
   "source": [
    "plot(n, errvr./errv, \"bo--\")\n",
    "xlabel(\"Número de nós\")\n",
    "ylabel(L\"$\\varepsilon_{GRJ}/\\varepsilon_{GJ}$\")\n",
    "title(\"Comparação do erro de integração GRJ/GJ \")"
   ]
  },
  {
   "cell_type": "code",
   "execution_count": null,
   "metadata": {},
   "outputs": [],
   "source": [
    "ξr[4]"
   ]
  },
  {
   "cell_type": "code",
   "execution_count": null,
   "metadata": {},
   "outputs": [],
   "source": []
  }
 ],
 "metadata": {
  "@webio": {
   "lastCommId": "93b75d85182f4919937987621c37eb14",
   "lastKernelId": "139cdba9-6a3a-483b-ba96-f8bba7d42b28"
  },
  "kernelspec": {
   "display_name": "Julia 1.1.0",
   "language": "julia",
   "name": "julia-1.1"
  },
  "language_info": {
   "file_extension": ".jl",
   "mimetype": "application/julia",
   "name": "julia",
   "version": "1.1.0"
  }
 },
 "nbformat": 4,
 "nbformat_minor": 2
}
