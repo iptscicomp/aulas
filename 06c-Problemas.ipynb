{
 "cells": [
  {
   "cell_type": "markdown",
   "metadata": {},
   "source": [
    "# Problemas para a aula 6\n",
    "\n",
    "\n",
    "## Pacotes Julia relevantes\n",
    "\n",
    " * Integração adaptativa `QuadGK` <https://github.com/JuliaMath/QuadGK.jl>\n",
    " * Integração adaptativa p e h com `Cubature` <https://github.com/stevengj/Cubature.jl>\n",
    " * Integração adaptativa com `Cuba` <https://github.com/giordano/Cuba.jl>\n",
    " * Integração adaptativa h com `HCubature` <https://github.com/stevengj/HCubature.jl>\n",
    " * Quadratura de Gauss `Jacobi`  <https://github.com/pjabardo/Jacobi.jl>\n",
    " * Quadratura de Gauss Rápida `FastGaussQuadrature` <https://github.com/JuliaApproximation/FastGaussQuadrature.jl>\n",
    " * Pacote geral de aproximação, cálculo de derivadas e integrais usando aproximações da alta ordem `ApproxFun` <https://github.com/JuliaApproximation/ApproxFun.jl>\n",
    " "
   ]
  },
  {
   "cell_type": "markdown",
   "metadata": {},
   "source": [
    "<!-- TEASER_END -->"
   ]
  },
  {
   "cell_type": "markdown",
   "metadata": {},
   "source": [
    "# Problemas\n",
    "\n",
    "## Problema 1\n",
    "\n",
    "Faça uma função para calcular a integral usando a regra do ponto médio com pontos cujo espaçamento não é igual\n"
   ]
  },
  {
   "cell_type": "code",
   "execution_count": null,
   "metadata": {},
   "outputs": [],
   "source": []
  },
  {
   "cell_type": "markdown",
   "metadata": {},
   "source": [
    "## Problema 2\n",
    "Faça uma função para calcular a integral usando a regra do trapézio com pontos cujo espaçamento não é igual\n"
   ]
  },
  {
   "cell_type": "code",
   "execution_count": null,
   "metadata": {},
   "outputs": [],
   "source": []
  },
  {
   "cell_type": "markdown",
   "metadata": {},
   "source": [
    "## Problema 3\n",
    "\n",
    "Calcule usando os diversos métodos apresentados a seguinte integral:\n",
    "\n",
    "$$\n",
    "\\int_{-1}^1 \\left(1- | x |\\right) \\: dx\n",
    "$$\n",
    "\n",
    "\n"
   ]
  },
  {
   "cell_type": "code",
   "execution_count": null,
   "metadata": {},
   "outputs": [],
   "source": []
  },
  {
   "cell_type": "markdown",
   "metadata": {},
   "source": [
    "## Problema 4\n",
    "\n",
    "Em Pitometria, calcular a vazão correponde a integrar o perfil de velocidades. Deste modo, \n",
    "\n",
    "$$\n",
    "Q = \\int_0^R 2\\pi r\\cdot u(r) \\:dr\n",
    "$$\n",
    "\n",
    "Encontre os pesos e os nós de integração usando o método de Gauss (com peso). Dica: mapeie $0\\le r\\le R$ para uma variável $\\xi$ de modo que os limites de integração sejam $-1 \\le \\xi \\le 1$.\n",
    "\n",
    "### Desafio\n",
    "\n",
    "No problema anterior, foram utilzados polinômios. Tente encontrar os pesos e nós para sequências de funções do tipo\n",
    "\n",
    "$$\n",
    "1, \\:\\ln x, \\:x, \\:x^2, \\:x^3, \\:x^4, \\:\\text{etc}\n",
    "$$"
   ]
  },
  {
   "cell_type": "code",
   "execution_count": null,
   "metadata": {},
   "outputs": [],
   "source": []
  }
 ],
 "metadata": {
  "@webio": {
   "lastCommId": "f728c11b066044beacdb74b2bfde9cde",
   "lastKernelId": "e64db0f2-5f22-41df-a150-0d6a013202ab"
  },
  "kernelspec": {
   "display_name": "Julia 1.1.0",
   "language": "julia",
   "name": "julia-1.1"
  },
  "language_info": {
   "file_extension": ".jl",
   "mimetype": "application/julia",
   "name": "julia",
   "version": "1.1.0"
  }
 },
 "nbformat": 4,
 "nbformat_minor": 2
}
