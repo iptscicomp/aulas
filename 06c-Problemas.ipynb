{
 "cells": [
  {
   "cell_type": "markdown",
   "metadata": {},
   "source": [
    "## Pacotes Julia relevantes\n",
    "\n",
    " * Integração adaptativa `QuadGK` <https://github.com/JuliaMath/QuadGK.jl>\n",
    " * Integração adaptativa p e h com `Cubature` <https://github.com/stevengj/Cubature.jl>\n",
    " * Integração adaptativa com `Cuba` <https://github.com/giordano/Cuba.jl>\n",
    " * Integração adaptativa h com `HCubature` <https://github.com/stevengj/HCubature.jl>\n",
    " * Quadratura de Gauss `Jacobi`  <https://github.com/pjabardo/Jacobi.jl>\n",
    " * Quadratura de Gauss Rápida `FastGaussQuadrature` <https://github.com/JuliaApproximation/FastGaussQuadrature.jl>\n",
    " * Pacote geral de aproximação, cálculo de derivadas e integrais usando aproximações da alta ordem `ApproxFun` <https://github.com/JuliaApproximation/ApproxFun.jl>\n",
    " "
   ]
  },
  {
   "cell_type": "markdown",
   "metadata": {},
   "source": [
    "# Problemas\n",
    "\n",
    "## Problema 1\n",
    "\n",
    "Faça uma função para calcular a integral usando a regra do ponto médio com pontos cujo espaçamento não é igual\n"
   ]
  },
  {
   "cell_type": "code",
   "execution_count": null,
   "metadata": {},
   "outputs": [],
   "source": []
  },
  {
   "cell_type": "markdown",
   "metadata": {},
   "source": [
    "## Problema 2\n",
    "Faça uma função para calcular a integral usando a regra do trapézio com pontos cujo espaçamento não é igual\n"
   ]
  },
  {
   "cell_type": "code",
   "execution_count": null,
   "metadata": {},
   "outputs": [],
   "source": []
  },
  {
   "cell_type": "markdown",
   "metadata": {},
   "source": [
    "## Problema 3\n",
    "\n",
    "Calcule usando os diversos métodos apresentados a seguinte integral:\n",
    "\n",
    "$$\n",
    "\\int_{-1}^1 \\left(1- | x |\\right) \\: dx\n",
    "$$\n",
    "\n",
    "\n"
   ]
  },
  {
   "cell_type": "code",
   "execution_count": null,
   "metadata": {},
   "outputs": [],
   "source": []
  }
 ],
 "metadata": {
  "@webio": {
   "lastCommId": "adc2764a7f6e4d578d3999b89538f77a",
   "lastKernelId": "7b2e9dbd-79f0-4ba6-991c-9aeccbf9ce34"
  },
  "kernelspec": {
   "display_name": "Julia 1.1.0",
   "language": "julia",
   "name": "julia-1.1"
  },
  "language_info": {
   "file_extension": ".jl",
   "mimetype": "application/julia",
   "name": "julia",
   "version": "1.1.0"
  }
 },
 "nbformat": 4,
 "nbformat_minor": 2
}
