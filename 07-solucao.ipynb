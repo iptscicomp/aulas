{
 "cells": [
  {
   "cell_type": "markdown",
   "metadata": {},
   "source": [
    "# Problemas da aula 7\n",
    "\n",
    "Aqui estão minhas soluções para os problemas propostos na aula 7.\n",
    "\n",
    "<!-- TEASER_END -->"
   ]
  },
  {
   "cell_type": "code",
   "execution_count": null,
   "metadata": {},
   "outputs": [],
   "source": [
    "using PyPlot"
   ]
  },
  {
   "cell_type": "markdown",
   "metadata": {},
   "source": [
    "## Problema 1\n",
    "\n",
    "Encontre uma expressão para a segunda derivada numérica para pontos igualmente espaçados com espaçamento h"
   ]
  },
  {
   "cell_type": "markdown",
   "metadata": {},
   "source": [
    "### Solução\n",
    "\n",
    "$$\n",
    "\\frac{dy_{i+1/2}}{dx} \\approx \\frac{y_{i+1}-y_i}{h}\\\\\n",
    "\\frac{dy_{i-1/2}}{dx} \\approx \\frac{y_i - y_{i-1}}{h}\\\\\n",
    "$$\n",
    "\n",
    "$$\n",
    "\\frac{d^2y_i}{dx^2} \\approx \\frac{ \\frac{dy_{i+1/2}}{dx} - \\frac{dy_{i-1/2}}{dx}}{h} = \\frac{y_{i+1} - 2y_i + y_{i-1}}{h^2}\n",
    "$$\n",
    "\n"
   ]
  },
  {
   "cell_type": "code",
   "execution_count": null,
   "metadata": {},
   "outputs": [],
   "source": [
    "function hseq(h₀, α, n)\n",
    "    h1 = h₀\n",
    "    \n",
    "    h = zeros(n)\n",
    "    h[1] = h1\n",
    "    for i in 2:n\n",
    "        h1 *= α\n",
    "        h[i] = h1\n",
    "    end\n",
    "    \n",
    "    return h\n",
    "end\n"
   ]
  },
  {
   "cell_type": "code",
   "execution_count": null,
   "metadata": {},
   "outputs": [],
   "source": [
    "d2fun(f, h) = x-> (f(x+h) - 2f(x) + f(x-h)) / h^2\n",
    "d2fun(x, f, h) = (f(x+h) - 2f(x) + f(x-h)) / h^2\n",
    "function d2fun2(x, f, h)\n",
    "    yp1 = f(x+h)\n",
    "    y = f(x)\n",
    "    ym1 = f(x-h)\n",
    "    \n",
    "    return ( (yp1-y)/h + (ym1 - y)/h ) /h\n",
    "end\n"
   ]
  },
  {
   "cell_type": "code",
   "execution_count": null,
   "metadata": {},
   "outputs": [],
   "source": [
    "f(x) = sin(x)\n",
    "df(x) = cos(x)\n",
    "d2f(x) = -sin(x)\n",
    "h = hseq(0.4, 0.8, 50);"
   ]
  },
  {
   "cell_type": "code",
   "execution_count": null,
   "metadata": {},
   "outputs": [],
   "source": [
    "x0 = 3π/8\n",
    "\n",
    "d2ye = d2f(x0)\n",
    "\n",
    "d2y = d2fun.(x0, f, h)\n",
    "err = abs.(d2y .- d2ye);\n"
   ]
  },
  {
   "cell_type": "code",
   "execution_count": null,
   "metadata": {},
   "outputs": [],
   "source": [
    "loglog(h, err, \"bo\")\n",
    "hh = 10.0 .^(-3:0.1:-1);\n",
    "ee = hh.^2\n",
    "plot(hh, ee, \"r:\")\n",
    "text(1e-2, 1e-3, L\"$\\mathcal{O}(h^2)$\")"
   ]
  },
  {
   "cell_type": "code",
   "execution_count": null,
   "metadata": {},
   "outputs": [],
   "source": [
    "h = 0.00001\n",
    "a1 = d2fun(x0, f, h)\n",
    "a2 = d2fun2(x0, f, h)\n",
    "a1 - d2ye, a2 - d2ye"
   ]
  },
  {
   "cell_type": "markdown",
   "metadata": {},
   "source": [
    "## Problema 2\n",
    "\n",
    "No notebook `07b-derivada-numerica.ipynb` foi construída um operador (uma matriz) para calcular as derivadas em todos os pontos. Use uma matriz tridiagonal para calcular a derivada $df/dx$ de uma função qualquer para $n$ nós igualmente espaçados entre os pontos a e b.\n",
    "\n"
   ]
  },
  {
   "cell_type": "code",
   "execution_count": null,
   "metadata": {},
   "outputs": [],
   "source": [
    "using LinearAlgebra\n",
    "using SparseArrays"
   ]
  },
  {
   "cell_type": "code",
   "execution_count": null,
   "metadata": {},
   "outputs": [],
   "source": [
    "makex(a,b,n) = range(a,b,length=n+1)\n",
    "\n",
    "function makeoperator(a, b, n)\n",
    "    h = (b-a) / n\n",
    "    ih = 1 / h\n",
    "    \n",
    "    d = zeros(n+1)\n",
    "    d[1] = -ih\n",
    "    d[end] = ih\n",
    "    \n",
    "    up = fill(0.5*ih, n)\n",
    "    up[1] = ih\n",
    "    \n",
    "    lo = fill(-0.5*ih, n)\n",
    "    lo[end] = -ih\n",
    "    return Tridiagonal(lo, d, up)\n",
    "end\n"
   ]
  },
  {
   "cell_type": "code",
   "execution_count": null,
   "metadata": {},
   "outputs": [],
   "source": [
    "a = -π\n",
    "b =  π\n",
    "n = 20\n",
    "x = makex(a, b, n)\n",
    "D = makeoperator(a, b, n)\n",
    "\n",
    "f(x) = sin(x)\n",
    "df(x) = cos(x)\n",
    "d2f(x) = -sin(x)\n",
    "d3f(x) = -cos(x)\n",
    "d4f(x) =  sin(x)\n",
    "\n",
    "y = f.(x)\n",
    "dye = df.(x)\n",
    "d2ye = d2f.(x)\n",
    "d3ye = d3f.(x);\n",
    "d4ye = d4f.(x);"
   ]
  },
  {
   "cell_type": "code",
   "execution_count": null,
   "metadata": {},
   "outputs": [],
   "source": [
    "dy = D * y\n",
    "plot(x, dye, \"ro\")\n",
    "plot(x, dy, \"b.\")\n",
    "\n",
    "err = dy - dye;"
   ]
  },
  {
   "cell_type": "markdown",
   "metadata": {},
   "source": [
    "## Problema 3\n",
    "\n",
    "Use a matriz do problema anterior para calcular a segunda e terceira derivada. Compare com a solução analítica de alguma função simples\n"
   ]
  },
  {
   "cell_type": "code",
   "execution_count": null,
   "metadata": {},
   "outputs": [],
   "source": [
    "\n",
    "d2y = D * dy;\n",
    "d3y = D *  d2y;\n",
    "d4y = D * d3y;"
   ]
  },
  {
   "cell_type": "code",
   "execution_count": null,
   "metadata": {},
   "outputs": [],
   "source": [
    "plot(x, d2ye, \"ro\")\n",
    "plot(x, d2y, \"b.-\")"
   ]
  },
  {
   "cell_type": "code",
   "execution_count": null,
   "metadata": {},
   "outputs": [],
   "source": [
    "plot(x, d3ye, \"ro\")\n",
    "plot(x, d3y, \"b.-\")"
   ]
  },
  {
   "cell_type": "code",
   "execution_count": null,
   "metadata": {},
   "outputs": [],
   "source": [
    "plot(x, y, \"ro\")\n",
    "plot(x, d4y, \"b.-\")"
   ]
  },
  {
   "cell_type": "code",
   "execution_count": null,
   "metadata": {},
   "outputs": [],
   "source": [
    "Dm = Matrix(D)\n"
   ]
  },
  {
   "cell_type": "code",
   "execution_count": null,
   "metadata": {},
   "outputs": [],
   "source": [
    "D2 = Dm * Dm\n",
    "D2[7,:]"
   ]
  },
  {
   "cell_type": "markdown",
   "metadata": {},
   "source": [
    "**Este esquema é inconsistente**\n",
    "\n",
    "\n",
    "Apesar de parecer simples, este esqueme de simplesmente multiplicar operadores não funciona. Não é apenas que o erro é grande. O erro não converge para zero. Isto é muito comum em análise numérica!!!\n",
    "\n",
    "Este esquema tem outro problema: a banda da matriz resultante é maior. Ao se resolver equações diferenciais usando diferenças finitas, a equação diferencial é substituída por um sistema linear. E quanto maior a largura de banda pior!!!"
   ]
  },
  {
   "cell_type": "markdown",
   "metadata": {},
   "source": [
    "## Problema 4\n",
    "Um dos problemas da matriz empregada no problema 2 é que nas extremidades, a derivada é aproximada por um esquema de 1a ordem. Deduza uma expressão de segunda ordem para as duas extremidades. Calcule a segunda e terceira derivada e compare os erros, inclusive no meio do domínio.\n",
    "\n",
    "Dica: agora a matriz tridiagonal não será o suficiente. Pode-se usar matrizes cheias mas aí existe um desperdício de memória e tempo computacional. Uma alternativa é utilizar matrizes esparsas <https://docs.julialang.org/en/v1/stdlib/SparseArrays/>. Outra possibilidade melhor é utilizar matrizes em banda. Um pacote Julia para este tipo de matriz está disponível em <https://github.com/JuliaMatrices/BandedMatrices.jl>"
   ]
  },
  {
   "cell_type": "markdown",
   "metadata": {},
   "source": [
    "### Solução\n",
    "\n",
    "Usando os três primeiros nós para achar os polinômios de Lagrange, temos:\n",
    "\n",
    "$$\n",
    "h_1(x) = \\frac{(x-x_2)(x-x_3)}{(x_1-x_2)(x_1-x_3)} = \\frac{(x-x_2)(x-x_3)}{2h^2}\\\\\n",
    "h_2(x) = \\frac{(x-x_1)(x-x_3)}{(x_2-x_1)(x_2-x_3)} = -\\frac{(x-x_1)(x-x_3)}{h^2}\\\\\n",
    "h_3(x) = \\frac{(x-x_1)(x-x_2)}{(x_3-x_1)(x_3-x_1)} = \\frac{(x-x_1)(x-x_2)}{2h^2}\\\\\n",
    "$$\n",
    "\n",
    "Calculando a derivada no nó 1, temos"
   ]
  },
  {
   "cell_type": "code",
   "execution_count": null,
   "metadata": {},
   "outputs": [],
   "source": [
    "using SymPy\n",
    "\n",
    "@vars x x1 x2 x3 h"
   ]
  },
  {
   "cell_type": "code",
   "execution_count": null,
   "metadata": {},
   "outputs": [],
   "source": [
    "H1  = (x-x2)*(x-x3)/( (x1-x2)*(x1-x3) )\n",
    "H2  = (x-x1)*(x-x3)/( (x2-x1)*(x2-x3) )\n",
    "H3  = (x-x1)*(x-x2)/( (x3-x1)*(x3-x2) )\n",
    "\n",
    "dH1 = diff(H1, x)\n",
    "dH2 = diff(H2, x)\n",
    "dH3 = diff(H3, x);"
   ]
  },
  {
   "cell_type": "code",
   "execution_count": null,
   "metadata": {},
   "outputs": [],
   "source": [
    "subs(dH1, x=>x1, x1=>0, x2=>h, x3=>2h)"
   ]
  },
  {
   "cell_type": "code",
   "execution_count": null,
   "metadata": {},
   "outputs": [],
   "source": [
    "subs(dH2, x=>x1, x1=>0, x2=>h, x3=>2h)"
   ]
  },
  {
   "cell_type": "code",
   "execution_count": null,
   "metadata": {},
   "outputs": [],
   "source": [
    "subs(dH3, x=>x1, x1=>0, x2=>h, x3=>2h)"
   ]
  },
  {
   "cell_type": "code",
   "execution_count": null,
   "metadata": {},
   "outputs": [],
   "source": [
    "subs(dH1, x=>x3, x1=>0, x2=>h, x3=>2h)"
   ]
  },
  {
   "cell_type": "code",
   "execution_count": null,
   "metadata": {},
   "outputs": [],
   "source": [
    "subs(dH2, x=>x3, x1=>0, x2=>h, x3=>2h)"
   ]
  },
  {
   "cell_type": "code",
   "execution_count": null,
   "metadata": {},
   "outputs": [],
   "source": [
    "subs(dH3, x=>x3, x1=>0, x2=>h, x3=>2h)"
   ]
  },
  {
   "cell_type": "code",
   "execution_count": null,
   "metadata": {},
   "outputs": [],
   "source": [
    "using BandedMatrices"
   ]
  },
  {
   "cell_type": "code",
   "execution_count": null,
   "metadata": {},
   "outputs": [],
   "source": [
    "function makeoperator2(a, b, n)\n",
    "    h = (b-a) / n\n",
    "    \n",
    "    D = BandedMatrix(Zeros(n+1, n+1), (2, 2))\n",
    "    \n",
    "    D[1,1] = -3/2h\n",
    "    D[1,2] = 2/h\n",
    "    D[1,3] = -1/2h\n",
    "    \n",
    "    D[end,end] = 3/2h\n",
    "    D[end,end-1] = -2/h\n",
    "    D[end,end-2] = 1/2h\n",
    "    \n",
    "    for i in 2:n\n",
    "        D[i,i+1] = 1/2h\n",
    "        D[i,i-1] = -1/2h\n",
    "    end\n",
    "    \n",
    "    return D\n",
    "    \n",
    "end\n"
   ]
  },
  {
   "cell_type": "code",
   "execution_count": null,
   "metadata": {},
   "outputs": [],
   "source": [
    "n = 20\n",
    "D = makeoperator2(a, b, n)\n",
    "x = makex(a,b,n)\n",
    "y = f.(x)\n",
    "dye = df.(x)\n",
    "dy = D * y\n",
    "\n",
    "plot(x, dye, \"ro\")\n",
    "plot(x, dy, \"b.\")"
   ]
  },
  {
   "cell_type": "code",
   "execution_count": null,
   "metadata": {},
   "outputs": [],
   "source": [
    "d2ye = d2f.(x)\n",
    "d3ye = d3f.(x)\n",
    "d4ye = d4f.(x)\n",
    "d2y = D*dy\n",
    "d3y = D*d2y\n",
    "d4y = D*d3y;"
   ]
  },
  {
   "cell_type": "code",
   "execution_count": null,
   "metadata": {},
   "outputs": [],
   "source": [
    "plot(x, d2ye, \"ro\")\n",
    "plot(x, d2y, \"b.\")\n",
    "\n"
   ]
  },
  {
   "cell_type": "code",
   "execution_count": null,
   "metadata": {},
   "outputs": [],
   "source": [
    "plot(x, d3ye, \"ro\")\n",
    "plot(x, d3y, \"b.\")"
   ]
  },
  {
   "cell_type": "markdown",
   "metadata": {},
   "source": [
    "## Problema 5\n",
    "\n",
    "A técnica básica para resolver equações não lineares do tipo\n",
    "\n",
    "$$\n",
    "f(x) = 0\n",
    "$$\n",
    "\n",
    "é o método de Newton-Raphson. Neste método, a partir de um chute inicial $x_0$, é feita uma estimativa $x_1$, em seguida, $x_2$, $\\ldots$, $\\x_n$ e se tivermos sorte este processo converge para uma solução do problema.\n",
    "\n",
    "Como $x_0$ não é solução do problema, queremos encontrar $\\Delta x$ que forneça uma estimativa melhor da solução:\n",
    "\n",
    "$$\n",
    "f(x + \\Delta x) = 0 \\:\\Longrightarrow\\: f(x+\\Delta x) \\approx f(x) + \\Delta x\\cdot f'(x) = 0 \\:\\Longrightarrow\\: \\Delta x = -\\frac{f(x)}{f'(x)}\n",
    "$$\n",
    "\n",
    "\n",
    "Escreva uma função `newtonraphson` que recebe uma função e um chute inicial para encontrar um zero."
   ]
  },
  {
   "cell_type": "code",
   "execution_count": null,
   "metadata": {},
   "outputs": [],
   "source": [
    "using ForwardDiff"
   ]
  },
  {
   "cell_type": "code",
   "execution_count": null,
   "metadata": {},
   "outputs": [],
   "source": [
    "function newtonraphson(f, df, x0, err=1e-10, maxiter=100)\n",
    "    niter = 0\n",
    "    for i = 1:maxiter\n",
    "        dx = f(x0) / df(x0)\n",
    "        x0 -= dx\n",
    "        niter = i\n",
    "        if abs(dx) < err\n",
    "            break\n",
    "        end\n",
    "    end\n",
    "    \n",
    "    return x0, niter\n",
    "end\n"
   ]
  },
  {
   "cell_type": "code",
   "execution_count": null,
   "metadata": {},
   "outputs": [],
   "source": [
    "function plotnewton(f, df, x0, a, b, err=1e-5, maxiter=10)\n",
    "    nn = 200\n",
    "    xx = range(a,b, length=nn)\n",
    "    yy = f.(xx)\n",
    "    \n",
    "    plot(xx, yy)\n",
    "    axhline(\"k\")\n",
    "    for i = 1:maxiter\n",
    "        y = f(x0)\n",
    "        dy = df(x0)\n",
    "        dx = y / dy\n",
    "        plot([x0, x0], [0.0, y], \"k:\")\n",
    "        plot([x0, x0-dx], [y, 0.0], \"k-\")\n",
    "        x0 = x0 - dx\n",
    "    end\n",
    "        \n",
    "        \n",
    "end"
   ]
  },
  {
   "cell_type": "code",
   "execution_count": null,
   "metadata": {},
   "outputs": [],
   "source": [
    "# Raíz quadrada de 2\n",
    "a = 2.0\n",
    "g(x) = x*x-a\n",
    "dg(x) = 2x\n",
    "newtonraphson(g, dg, 1.0)"
   ]
  },
  {
   "cell_type": "code",
   "execution_count": null,
   "metadata": {},
   "outputs": [],
   "source": [
    "plotnewton(g, dg, 2, 1.3, 2.0)"
   ]
  },
  {
   "cell_type": "markdown",
   "metadata": {},
   "source": [
    "#### Usando ForwardDiff"
   ]
  },
  {
   "cell_type": "code",
   "execution_count": null,
   "metadata": {},
   "outputs": [],
   "source": [
    "\n",
    "function newtonraphson2(f, x0, err=1e-10, maxiter=100)\n",
    "    niter = 0\n",
    "    for i = 1:maxiter\n",
    "        dx = f(x0) / ForwardDiff.derivative(f,x0)\n",
    "        x0 -= dx\n",
    "        niter = i\n",
    "        if abs(dx) < err\n",
    "            break\n",
    "        end\n",
    "    end\n",
    "    \n",
    "    return x0, niter\n",
    "    \n",
    "\n",
    "end"
   ]
  },
  {
   "cell_type": "code",
   "execution_count": null,
   "metadata": {},
   "outputs": [],
   "source": [
    "newtonraphson2(g, 2.0)"
   ]
  }
 ],
 "metadata": {
  "@webio": {
   "lastCommId": "5760db917a3b417a80e3150389cd3c27",
   "lastKernelId": "9c8327c2-1217-462c-8836-07f1994859c1"
  },
  "kernelspec": {
   "display_name": "Julia 1.1.0",
   "language": "julia",
   "name": "julia-1.1"
  },
  "language_info": {
   "file_extension": ".jl",
   "mimetype": "application/julia",
   "name": "julia",
   "version": "1.1.0"
  }
 },
 "nbformat": 4,
 "nbformat_minor": 2
}
