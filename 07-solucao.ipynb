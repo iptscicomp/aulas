{
 "cells": [
  {
   "cell_type": "markdown",
   "metadata": {},
   "source": [
    "# Problemas da aula 7"
   ]
  },
  {
   "cell_type": "code",
   "execution_count": null,
   "metadata": {},
   "outputs": [],
   "source": [
    "using PyPlot"
   ]
  },
  {
   "cell_type": "markdown",
   "metadata": {},
   "source": [
    "## Problema 1\n",
    "\n",
    "Encontre uma expressão para a segunda derivada numérica para pontos igualmente espaçados com espaçamento h"
   ]
  },
  {
   "cell_type": "markdown",
   "metadata": {},
   "source": [
    "### Solução\n",
    "\n",
    "$$\n",
    "\\frac{dy_{i+1/2}}{dx} \\approx \\frac{y_{i+1}-y_i}{h}\\\\\n",
    "\\frac{dy_{i-1/2}}{dx} \\approx \\frac{y_i - y_{i-1}}{h}\\\\\n",
    "$$\n",
    "\n",
    "$$\n",
    "\\frac{d^2y_i}{dx^2} \\approx \\frac{ \\frac{dy_{i+1/2}}{dx} - \\frac{dy_{i-1/2}}{dx}}{h} = \\frac{y_{i+1} - 2y_i + y_{i-1}}{h^2}\n",
    "$$\n",
    "\n"
   ]
  },
  {
   "cell_type": "code",
   "execution_count": null,
   "metadata": {},
   "outputs": [],
   "source": [
    "function hseq(h₀, α, n)\n",
    "    h1 = h₀\n",
    "    \n",
    "    h = zeros(n)\n",
    "    h[1] = h1\n",
    "    for i in 2:n\n",
    "        h1 *= α\n",
    "        h[i] = h1\n",
    "    end\n",
    "    \n",
    "    return h\n",
    "end\n"
   ]
  },
  {
   "cell_type": "code",
   "execution_count": null,
   "metadata": {},
   "outputs": [],
   "source": [
    "d2fun(f, h) = x-> (f(x+h) - 2f(x) + f(x-h)) / h^2\n",
    "d2fun(x, f, h) = (f(x+h) - 2f(x) + f(x-h)) / h^2\n",
    "function d2fun2(x, f, h)\n",
    "    yp1 = f(x+h)\n",
    "    y = f(x)\n",
    "    ym1 = f(x-h)\n",
    "    \n",
    "    return ( (yp1-y)/h + (ym1 - y)/h ) /h\n",
    "end\n"
   ]
  },
  {
   "cell_type": "code",
   "execution_count": null,
   "metadata": {},
   "outputs": [],
   "source": [
    "f = sin\n",
    "df = cos\n",
    "d2f(x) = -sin(x)\n",
    "h = hseq(0.4, 0.8, 50);"
   ]
  },
  {
   "cell_type": "code",
   "execution_count": null,
   "metadata": {},
   "outputs": [],
   "source": [
    "x0 = 3π/8\n",
    "\n",
    "d2ye = d2f(x0)\n",
    "\n",
    "d2y = d2fun.(x0, f, h)\n",
    "err = abs.(d2y .- d2ye);\n"
   ]
  },
  {
   "cell_type": "code",
   "execution_count": null,
   "metadata": {},
   "outputs": [],
   "source": [
    "loglog(h, err, \"bo\")\n",
    "hh = 10.0 .^(-3:0.1:-1);\n",
    "ee = hh.^2\n",
    "plot(hh, ee, \"r:\")\n",
    "text(1e-2, 1e-3, L\"$\\mathcal{O}(h^2)$\")"
   ]
  },
  {
   "cell_type": "code",
   "execution_count": null,
   "metadata": {},
   "outputs": [],
   "source": [
    "h = 0.000001\n",
    "a1 = d2fun(x0, f, h)\n",
    "a2 = d2fun2(x0, f, h)\n",
    "a1 - d2ye, a2 - d2ye"
   ]
  },
  {
   "cell_type": "markdown",
   "metadata": {},
   "source": [
    "## Problema 2\n",
    "\n",
    "No notebook `07b-derivada-numerica.ipynb` foi construída um operador (uma matriz) para calcular as derivadas em todos os pontos. Use uma matriz tridiagonal para calcular a derivada $df/dx$ de uma função qualquer para $n$ nós igualmente espaçados entre os pontos a e b.\n",
    "\n"
   ]
  },
  {
   "cell_type": "code",
   "execution_count": null,
   "metadata": {},
   "outputs": [],
   "source": [
    "using LinearAlgebra\n",
    "using SparseArrays"
   ]
  },
  {
   "cell_type": "code",
   "execution_count": null,
   "metadata": {},
   "outputs": [],
   "source": [
    "function makeoperator(a, b, n)\n",
    "    h = (b-a) / n\n",
    "    ih = 1 / h\n",
    "    \n",
    "    d = zeros(n+1)\n",
    "    d[1] = -ih\n",
    "    d[end] = ih\n",
    "    \n",
    "    up = fill(0.5*ih, n)\n",
    "    up[1] = ih\n",
    "    \n",
    "    lo = fill(-0.5*ih, n)\n",
    "    lo[end] = -ih\n",
    "    x = range(a, b, length=n+1)\n",
    "    return x, Tridiagonal(lo, d, up)\n",
    "end\n"
   ]
  },
  {
   "cell_type": "code",
   "execution_count": null,
   "metadata": {},
   "outputs": [],
   "source": [
    "x, D = makeoperator(-π, π, 5000)\n",
    "\n",
    "f = sin\n",
    "df = cos\n",
    "d2f(x) = -sin(x)\n",
    "d3f(x) = -cos(x)\n",
    "\n",
    "y = f.(x)\n",
    "dye = df.(x)\n",
    "d2ye = d2f.(x)\n",
    "d3ye = d3f.(x);"
   ]
  },
  {
   "cell_type": "code",
   "execution_count": null,
   "metadata": {},
   "outputs": [],
   "source": [
    "sparse(D)"
   ]
  },
  {
   "cell_type": "code",
   "execution_count": null,
   "metadata": {},
   "outputs": [],
   "source": [
    "dy = D * y;"
   ]
  },
  {
   "cell_type": "code",
   "execution_count": null,
   "metadata": {},
   "outputs": [],
   "source": [
    "plot(x, dye, \"ro\")\n",
    "plot(x, dy, \"b.\")"
   ]
  },
  {
   "cell_type": "markdown",
   "metadata": {},
   "source": [
    "## Problema 3\n",
    "\n",
    "Use a matriz do problema anterior para calcular a segunda e terceira derivada. Compare com a solução analítica de alguma função simples\n"
   ]
  },
  {
   "cell_type": "code",
   "execution_count": null,
   "metadata": {},
   "outputs": [],
   "source": [
    "\n",
    "d2y = D * dy;\n",
    "d3y = (D*D*D) *  y;"
   ]
  },
  {
   "cell_type": "code",
   "execution_count": null,
   "metadata": {},
   "outputs": [],
   "source": [
    "plot(x, d2ye, \"ro\")\n",
    "plot(x, d2y, \"b.-\")"
   ]
  },
  {
   "cell_type": "code",
   "execution_count": null,
   "metadata": {},
   "outputs": [],
   "source": [
    "plot(x, d3ye, \"ro\")\n",
    "plot(x, d3y, \"b.-\")"
   ]
  },
  {
   "cell_type": "code",
   "execution_count": null,
   "metadata": {},
   "outputs": [],
   "source": [
    "D*D"
   ]
  },
  {
   "cell_type": "markdown",
   "metadata": {},
   "source": [
    "## Problema 4\n",
    "Um dos problemas da matriz empregada no problema 2 é que nas extremidades, a derivada é aproximada por um esquema de 1a ordem. Deduza uma expressão de segunda ordem para as duas extremidades. Calcule a segunda e terceira derivada e compare os erros, inclusive no meio do domínio.\n",
    "\n",
    "Dica: agora a matriz tridiagonal não será o suficiente. Pode-se usar matrizes cheias mas aí existe um desperdício de memória e tempo computacional. Uma alternativa é utilizar matrizes esparsas <https://docs.julialang.org/en/v1/stdlib/SparseArrays/>. Outra possibilidade melhor é utilizar matrizes em banda. Um pacote Julia para este tipo de matriz está disponível em <https://github.com/JuliaMatrices/BandedMatrices.jl>"
   ]
  },
  {
   "cell_type": "markdown",
   "metadata": {},
   "source": [
    "### Solução\n",
    "\n"
   ]
  },
  {
   "cell_type": "markdown",
   "metadata": {},
   "source": [
    "## Problema 5\n",
    "\n",
    "A técnica básica para resolver equações não lineares do tipo\n",
    "\n",
    "$$\n",
    "f(x) = 0\n",
    "$$\n",
    "\n",
    "é o método de Newton-Raphson. Neste método, a partir de um chute inicial $x_0$, é feita uma estimativa $x_1$, em seguida, $x_2$, $\\ldots$, $\\x_n$ e se tivermos sorte este processo converge para uma solução do problema.\n",
    "\n",
    "Como $x_0$ não é solução do problema, queremos encontrar $\\Delta x$ que forneça uma estimativa melhor da solução:\n",
    "\n",
    "$$\n",
    "f(x + \\Delta x) = 0 \\:\\Longrightarrow\\: f(x+\\Delta x) \\approx f(x) + \\Delta x\\cdot f'(x) = 0 \\:\\Longrightarrow\\: \\Delta x = -\\frac{f(x)}{f'(x)}\n",
    "$$\n",
    "\n",
    "\n",
    "Escreva uma função `newtonraphson` que recebe uma função e um chute inicial para encontrar um zero."
   ]
  },
  {
   "cell_type": "code",
   "execution_count": null,
   "metadata": {},
   "outputs": [],
   "source": [
    "using Fo"
   ]
  },
  {
   "cell_type": "code",
   "execution_count": null,
   "metadata": {},
   "outputs": [],
   "source": [
    "function newtonraphson(f, df, x0, err=1e-10, maxiter=100)\n",
    "    niter = 0\n",
    "    for i = 1:maxiter\n",
    "        dx = f(x0) / df(x0)\n",
    "        x0 -= dx\n",
    "        niter = i\n",
    "        if abs(dx) < err\n",
    "            break\n",
    "        end\n",
    "    end\n",
    "    \n",
    "    return x0, niter\n",
    "end\n"
   ]
  },
  {
   "cell_type": "code",
   "execution_count": null,
   "metadata": {},
   "outputs": [],
   "source": [
    "# Raíz quadrada de 2\n",
    "a = 2.0\n",
    "f(x) = x*x-a\n",
    "df(x) = 2x\n",
    "newtonraphson(f, df, 1.0)"
   ]
  },
  {
   "cell_type": "code",
   "execution_count": null,
   "metadata": {},
   "outputs": [],
   "source": [
    "function plotnewton(f, df, x0, a, b, err=1e-5, maxiter=10)\n",
    "    nn = 200\n",
    "    xx = range(a,b, length=nn)\n",
    "    yy = f.(xx)\n",
    "    \n",
    "    plot(xx, yy)\n",
    "    axhline(\"k\")\n",
    "    for i = 1:maxiter\n",
    "        y = f(x0)\n",
    "        dy = df(x0)\n",
    "        dx = y / dy\n",
    "        plot([x0, x0], [0.0, y], \"k:\")\n",
    "        plot([x0, x0-dx], [y, 0.0], \"k-\")\n",
    "        x0 = x0 - dx\n",
    "    end\n",
    "        \n",
    "        \n",
    "end"
   ]
  },
  {
   "cell_type": "code",
   "execution_count": null,
   "metadata": {},
   "outputs": [],
   "source": [
    "plotnewton(f, df, 2.0, 1.3, 2.0)"
   ]
  },
  {
   "cell_type": "markdown",
   "metadata": {},
   "source": [
    "#### Usando ForwardDiff"
   ]
  },
  {
   "cell_type": "code",
   "execution_count": null,
   "metadata": {},
   "outputs": [],
   "source": [
    "using ForwardDiff\n",
    "\n",
    "function newtonraphson2(f, x0, err=1e-10, maxiter=100)\n",
    "    niter = 0\n",
    "    for i = 1:maxiter\n",
    "        dx = f(x0) / ForwardDiff.derivative(f,x0)\n",
    "        x0 -= dx\n",
    "        niter = i\n",
    "        if abs(dx) < err\n",
    "            break\n",
    "        end\n",
    "    end\n",
    "    \n",
    "    return x0, niter\n",
    "    \n",
    "\n",
    "end"
   ]
  },
  {
   "cell_type": "code",
   "execution_count": null,
   "metadata": {},
   "outputs": [],
   "source": [
    "newtonraphson2(f, 2.0)"
   ]
  },
  {
   "cell_type": "code",
   "execution_count": null,
   "metadata": {},
   "outputs": [],
   "source": []
  }
 ],
 "metadata": {
  "@webio": {
   "lastCommId": "756da4c66827420bb9198a3c7c9022d3",
   "lastKernelId": "2616fcab-46ec-4033-bf12-545fc0cb6617"
  },
  "kernelspec": {
   "display_name": "Julia 1.1.0",
   "language": "julia",
   "name": "julia-1.1"
  },
  "language_info": {
   "file_extension": ".jl",
   "mimetype": "application/julia",
   "name": "julia",
   "version": "1.1.0"
  }
 },
 "nbformat": 4,
 "nbformat_minor": 2
}
