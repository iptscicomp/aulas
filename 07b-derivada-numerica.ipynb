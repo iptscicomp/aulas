{
 "cells": [
  {
   "cell_type": "markdown",
   "metadata": {},
   "source": [
    "# Derivadas numéricas\n",
    "\n",
    "Existem várias abordagens para as derivadas númericas. Caso a função seja aproximada como \n",
    "\n",
    "$$\n",
    "f(x) \\approx y^\\delta = \\sum_{i=1}^n a_i \\phi_i(x)\n",
    "$$\n",
    "\n",
    "A derivada será aproximada por:\n",
    "\n",
    "$$\n",
    "\\frac{df}{dx}(x) \\approx \\sum_{i=1}^n a_i \\frac{d\\phi_i}{dx}(x)\n",
    "$$\n",
    "\n",
    "<!-- TEASER_END -->\n"
   ]
  },
  {
   "cell_type": "markdown",
   "metadata": {},
   "source": [
    "## Série de Taylor\n",
    "Outra possibilidade é usar a série de Taylor para estimar as derivadas numéricas:\n",
    "\n",
    "$$\n",
    "f(x+h) = f(x) + hf'(x) + h^2 \\frac{f''(x)}{2!} + h^3 \\frac{f'''(x)}{3!}  + \\cdots + h^n \\frac{f^{(n)}(x)}{n!} + \\ldots\n",
    "$$\n",
    "\n",
    "Com isso, \n",
    "\n",
    "$$\n",
    "f'(x) = \\frac{f(x+h) - f(x)}{h} - h \\frac{f''(x)}{2!} - h^2 \\frac{f'''(x)}{3!}  - \\cdots - h^{n-1} \\frac{f^{(n)}(x)}{n!} - \\ldots\n",
    "$$\n",
    "\n",
    "Se $h$ for pequeno, podemos desprezar os termos com derivadas superiores e\n",
    "\n",
    "$$\n",
    "f'(x) \\approx \\frac{f(x+h) - f(x)}{h} \n",
    "$$\n",
    "\n",
    "Olhando a expressão exata, esta aproximação tem erro de ordem $\\mathcal{O}(h)$. Isto pode ser melhorado. Usando a axpressão para $f(x-h)$\n",
    "\n",
    "$$\n",
    "f(x-h) = f(x) - hf'(x) + h^2 \\frac{f''(x)}{2!} - h^3 \\frac{f'''(x)}{3!}  + \\cdots + (-1)^n h^n \\frac{f^{(n)}(x)}{n!} + \\ldots\n",
    "$$\n",
    "\n",
    "de modo que \n",
    "\n",
    "$$\n",
    "f'(x) = \\frac{f(x) - f(x-h)}{h} + h \\frac{f''(x)}{2!} - h^2 \\frac{f'''(x)}{3!}  + \\cdots + (-1)^n h^{n-1} \\frac{f^{(n)}(x)}{n!} + \\ldots\n",
    "$$\n",
    "\n",
    "Tirando a média das duas estimativas:\n",
    "\n",
    "$$\n",
    "f'(x) = \\frac{f(x+h) - f(x-h)}{2h} - h^2 \\frac{f'''(x)}{3!} + \\ldots\n",
    "$$\n",
    "\n",
    "nesta expressão a *estimativa* da derivada tem erro de ordem $\\mathcal{O}(h^2)$\n",
    "\n"
   ]
  },
  {
   "cell_type": "markdown",
   "metadata": {},
   "source": [
    "## Usando polinômios de Lagrange (aproximação tipo h)\n",
    "\n",
    "A abordagem usando séries de Taylor se torna rapidamente chato e trabalhoso. Uma abordagem mais fácil e que chega a resultados semelhantes é utilizar polinômios de Lagrange com os pontos próximos do ponto onde se quer calcular a derivada.\n",
    "\n",
    "Dados os pontos $x_i$, $1\\le i \\le n$, com com valores \n",
    "\n",
    "Usando aproximação linear entre os pontos $i$ e $i+1$, chegamos à seguinte estimativa da derivada (diferença para a frente):\n",
    "\n",
    "$$\n",
    "y'_i \\approx \\frac{y_{i+1} - y_i}{h}\n",
    "$$\n",
    "\n",
    "entre os pontos $i-1$ e $i$ (diferença para trás):\n",
    "$$\n",
    "y'_i \\approx \\frac{y_{i} - y_{i-1}}{h}\n",
    "$$\n",
    "\n",
    "novamente, pode-se tirar a média para se obter a estimativa com erro $\\mathcal{O}(h^2)$\n",
    "\n",
    "Por outro lado passando uma parâbola nos pontos $i-1$, $i$ e $i+1$, \n",
    "\n",
    "$$\n",
    "y = \\sum_{k=-1}^1 y_{i+k} h_{k}^{(i)}(x)\\\\\n",
    "h_{-1}^{(i)}(x) = \\frac{(x-x_{i-1})(x - x_i)}{2h^2}\\\\\n",
    "h_{0}^{(i)}(x) = \\frac{(x-x_{i-1})(x - x_{i+1})}{h^2}\\\\\n",
    "h_{1}^{(i)}(x) = \\frac{(x-x_{i})(x - x_{i-1})}{2h^2}\\\\\n",
    "$$\n",
    "\n",
    "chega-se à seguinte estimativa para a derivada no ponto $i$ (diferenças centradas):\n",
    "\n",
    "$$\n",
    "y'_i = \\frac{y_{i+1} - y_{i-1}}{2h}\n",
    "$$\n",
    "\n",
    "que foi a estimativa de segunda ordem já obtida. Incluindo mais pontos pode-se chegar a uma família de estimativas de derivadas de diversas ordens.\n",
    "\n"
   ]
  },
  {
   "cell_type": "code",
   "execution_count": null,
   "metadata": {},
   "outputs": [],
   "source": [
    "using PyPlot"
   ]
  },
  {
   "cell_type": "code",
   "execution_count": null,
   "metadata": {},
   "outputs": [],
   "source": [
    "derivf(f, x, h) = (f(x+h) - f(x))/h\n",
    "derivb(f, x, h) = (f(x) - f(x-h))/h\n",
    "deriv(f, x, h) = (f(x+h) - f(x-h))/(2h)\n"
   ]
  },
  {
   "cell_type": "code",
   "execution_count": null,
   "metadata": {},
   "outputs": [],
   "source": [
    "h0 = 1.0\n",
    "h = [h0]\n",
    "α = 0.9\n",
    "for i in 1:100\n",
    "    h0 = h0 * α\n",
    "    push!(h, h0)\n",
    "end"
   ]
  },
  {
   "cell_type": "code",
   "execution_count": null,
   "metadata": {},
   "outputs": [],
   "source": [
    "x0 = 3π/8\n",
    "de = cos(x0)\n",
    "\n",
    "df = derivf.(sin, x0, h)\n",
    "db = derivb.(sin, x0, h)\n",
    "d2 = deriv.(sin, x0, h);\n"
   ]
  },
  {
   "cell_type": "code",
   "execution_count": null,
   "metadata": {},
   "outputs": [],
   "source": [
    "errf = abs.(df.-de)\n",
    "errb = abs.(db.-de)\n",
    "err2 = abs.(d2.-de);\n"
   ]
  },
  {
   "cell_type": "code",
   "execution_count": null,
   "metadata": {},
   "outputs": [],
   "source": [
    "lf = loglog(h, errf, \"b-\", label=\"Diferença para frente\")\n",
    "lb = plot(h, errb, \"g--\", label=\"Diferença para trás\")\n",
    "l2 = plot(h, err2, \"r-\", label=\"Diferença centrada\")\n",
    "xlabel(\"h\")\n",
    "ylabel(\"Erro\")\n",
    "title(\"Derivada numérico da função seno em x = $(round(x0,digits=2))\")\n",
    "plot(h, 0.1*h, \"k:\")\n",
    "text(1e-4, 2e-6, L\"$\\mathcal{O}(h)$\")\n",
    "plot(h, 0.01*h.^2, \"k:\")\n",
    "text(1e-4, 5e-11, L\"$\\mathcal{O}(h^2)$\")\n",
    "legend()"
   ]
  },
  {
   "cell_type": "markdown",
   "metadata": {},
   "source": [
    "### Exemplo de programação funcional\n",
    "\n",
    "Uma função que retorna outra função:"
   ]
  },
  {
   "cell_type": "code",
   "execution_count": null,
   "metadata": {},
   "outputs": [],
   "source": [
    "derivf(f, h) = x->(f(x+h) - f(x))/h\n",
    "derivb(f, h) = x->(f(x) - f(x-h))/h\n",
    "deriv(f, h) = x->(f(x+h)-f(x-h))/(2h)"
   ]
  },
  {
   "cell_type": "code",
   "execution_count": null,
   "metadata": {},
   "outputs": [],
   "source": []
  },
  {
   "cell_type": "code",
   "execution_count": null,
   "metadata": {},
   "outputs": [],
   "source": [
    "hh = 0.4\n",
    "dsin = deriv(sin, hh)\n",
    "dsinf = derivf(sin, hh)\n",
    "x = 0:0.01:2π\n",
    "\n",
    "y1 = cos.(x)\n",
    "y2 = dsin.(x)\n",
    "y3 = dsinf.(x)\n",
    "ly2 = plot(x, y2, \"r-\", label=\"Dif. centrada\")\n",
    "ly3 = plot(x, y3, \"g-\", label=\"Dif. frente\")\n",
    "ly1 = plot(x, y1, \"k:\", label=\"cos(x)\")\n",
    "xlabel(\"x\")\n",
    "ylabel(\"y\")\n",
    "legend()\n"
   ]
  },
  {
   "cell_type": "code",
   "execution_count": null,
   "metadata": {},
   "outputs": [],
   "source": []
  },
  {
   "cell_type": "markdown",
   "metadata": {},
   "source": [
    "## Derivadas em vários pontos: Operadores\n",
    "\n",
    "Dado $y_i$ com $1 \\le i \\le n$ no pontos $x_i = i\\cdot h + x_0$, pode-se usar fórmulas como a utilizada acima para calcular as derivadas pode-se chegar a uma expressão matricial para o cálculo das derivadas:\n",
    "\n",
    "$$\n",
    "\\left\\{y'\\right\\} = \\left[D\\right]\\left\\{y\\right\\}\n",
    "$$\n",
    "\n",
    "onde $\\left\\{y\\right\\}$ é o vetor coluna = $\\{y_1, y_2, \\ldots, y_n\\}^T$, $\\left\\{y'\\right\\}$ é o vetor coluna = $\\{y'_1, y'_2, \\ldots, y'_n\\}^T$, e $[D]$ é uma matriz. Usando diferenças centradas:\n",
    "\n",
    "$$\n",
    "D = \\frac{1}{2h}\\left[\\begin{matrix}\n",
    "-2 &  2  & 0 & 0 & 0 & 0 &\\cdots & 0\\\\\n",
    "-1 &  0  & 1 & 0 & 0 & 0 & \\cdots & 0\\\\\n",
    " 0 & -1  & 0 & 1 & 0 & 0 & \\cdots & 0\\\\\n",
    " 0 &  0  & -1& 0 & 1 & 0 & \\cdots & 0\\\\\n",
    " \\vdots\\\\\n",
    " 0 &\\cdots& -1 & 0 & 1 & 0 & 0 & 0 \\\\\n",
    " 0 &\\cdots& 0 & -1 & 0 & 1  & 0 & 0 \\\\\n",
    " 0 &\\cdots&  0 & 0 & -1 & 0 & 1  & 0 \\\\\n",
    " 0 &\\cdots&  0 & 0 & 0 & -1 & 0 & 1 \\\\\n",
    " 0 &\\cdots&  0 & 0 & 0 & 0 & -2 & 2 \\\\\n",
    "   \\end{matrix}\\right]\n",
    "$$ \n",
    "\n",
    "Nos primeiro e último pontos não se pode usar a mesma expressão para a derivada. Assim, foi empregada uma expressão de primeira ordem mas outras possibilidades existem.\n",
    "\n",
    "Com estas expressões, resolver uma equação diferencial se torna uma operação matricial.\n",
    "\n",
    "Para se conseguir uma precisão maior, basta aumentar o número de nós, reduzindo o valor de $h$."
   ]
  },
  {
   "cell_type": "markdown",
   "metadata": {},
   "source": [
    "## Interpolação de Lagrange tipo p\n",
    "\n",
    "Na estimativaa da derivada apresentada acima, foram utilizadas aproximações locais utilizando polinômios definidos em faixas. Neste caso, para se aumentar a precisão (convergir para a solução exata), aumentam-se o número de faixas e portanto se reduz seu tamanho ($h$): aproximação tipo $h$, com erro da ordem de $\\mathcal{O}(h^p)$.\n",
    "\n",
    "Em algumas situações, é interessante definir uma aproximação sobre todo o domínio de interesse. Neste caso para se melhorar a convergência, aumenta-se o número de nós, e portanto a ordem do polinômio utilizado. *CUIDADO* que simplesmente utilizar polinômios de ordem superior pode causar problemas: lembre-se da função de Runge!\n",
    "\n",
    "Assim, outra distribuição de nós é necessária. Um exemplo é são os zeros do polinômio de Chebyshev. Mas outra distribuição melhor corresponde aos nós da quadratura de Gauss Lobatto Jacobi. \n",
    "\n",
    "\n",
    "Curiosamente, esta distribuição, corresponde à distribuição de cargas elétricas pontuais em uma reta."
   ]
  },
  {
   "cell_type": "markdown",
   "metadata": {},
   "source": [
    "Dados os nós da quadratura, pode-se obter os polinômios de Lagrange para calcular as derivadas:\n",
    "\n",
    "\n",
    "$$\n",
    "y(x) = \\sum_{i=1}^Q y_i h_i^Q(x)\n",
    "$$\n",
    "\n",
    "onde \n",
    "\n",
    "$$\n",
    "h_i^Q(x) = \\prod_{k=1,k\\ne i}^Q \\frac{x-x_k}{x_i-x_k}\n",
    "$$\n",
    "\n",
    "A derivada vale\n",
    "\n",
    "$$\n",
    "\\frac{dy}{dx}(x) = \\sum_{i=1}^Q y_i \\frac{dh_i^Q}{dx}(x)\n",
    "$$\n",
    "\n",
    "Se for necessário calcular a derivada apenas nos próprios nós:\n",
    "$$\n",
    "\\left.\\frac{dy}{dx}(x)\\right|_{x=x_k} = \\sum_{i=1}^Q y_i \\frac{dh_i^Q}{dx}(x_k)\n",
    "$$\n",
    "\n",
    "Os valores \n",
    "\n",
    "$$\n",
    "\\frac{dh_i^Q}{dx}(x_k)\n",
    "$$\n",
    "\n",
    "formam a matriz de derivada $D_{ki}$. Assim, para se calcular as derivadas nos nós:\n",
    "\n",
    "$$\n",
    "\\left\\{y'\\right\\} = \\left[D\\right]\\left\\{y\\right\\}\n",
    "$$\n",
    "\n",
    "Os elementos da matrix $D_{ik}$ são calculados utilizando expressões explícitas. O Pacote [`Jacobi`](https://github.com/pjabardo/Jacobi.jl) calcula a matriz de derivadas para diversos casos."
   ]
  },
  {
   "cell_type": "code",
   "execution_count": null,
   "metadata": {},
   "outputs": [],
   "source": [
    "using Jacobi"
   ]
  },
  {
   "cell_type": "code",
   "execution_count": null,
   "metadata": {},
   "outputs": [],
   "source": [
    "# n nós:\n",
    "\n",
    "n = 10\n",
    "zn  = zglj(n)\n",
    "Dn = dglj(zn)\n"
   ]
  },
  {
   "cell_type": "code",
   "execution_count": null,
   "metadata": {},
   "outputs": [],
   "source": [
    "f = sin\n",
    "df = cos\n",
    "\n",
    "y = f.(zn)\n",
    "dye = df.(zn)\n",
    "dy = Dn * y\n",
    "\n",
    "err = maximum(abs, dy - dye)"
   ]
  },
  {
   "cell_type": "code",
   "execution_count": null,
   "metadata": {},
   "outputs": [],
   "source": [
    "function calcderiverrP(f, df, n)\n",
    "    \n",
    "    z = zglj(n)\n",
    "    D = dglj(z)\n",
    "    \n",
    "    fz = f.(z)\n",
    "    dfe = df.(z)\n",
    "    dfz = D * fz\n",
    "    \n",
    "    err = maximum(abs, dfz-dfe)\n",
    "    \n",
    "    return err\n",
    "end\n",
    "\n",
    "function calcderiverrH(f, df, n)\n",
    "    h = 2/n\n",
    "    z = range(-1, 1, length=n+1)\n",
    "    z1 = z[2:n]\n",
    "    fz = f.(z)\n",
    "    dfe = df.(z1)\n",
    "    dfz = zeros(n-1)\n",
    "    \n",
    "    for i in 2:n\n",
    "        dfz[i-1] = (fz[i+1] - fz[i-1])/(2h)\n",
    "    end\n",
    "    \n",
    "    return maximum(abs, dfz-dfe)\n",
    "    \n",
    "    \n",
    "    \n",
    "end\n"
   ]
  },
  {
   "cell_type": "code",
   "execution_count": null,
   "metadata": {},
   "outputs": [],
   "source": [
    "f = sin\n",
    "df = cos\n"
   ]
  },
  {
   "cell_type": "code",
   "execution_count": null,
   "metadata": {},
   "outputs": [],
   "source": [
    "n1 = 2:200\n",
    "errH = calcderiverrH.(f, df, n1);"
   ]
  },
  {
   "cell_type": "code",
   "execution_count": null,
   "metadata": {},
   "outputs": [],
   "source": [
    "n = 2:30\n",
    "errP = calcderiverrP.(f, df, n);"
   ]
  },
  {
   "cell_type": "code",
   "execution_count": null,
   "metadata": {},
   "outputs": [],
   "source": [
    "lh = loglog(n1, errH, \"r-\", label=\"Diferenças centradas\")\n",
    "xlabel(\"Numero de nós\")\n",
    "ylabel(\"Erro máximo da derivada\")\n",
    "title(\"Convergência H e P\")\n",
    "lp = plot(n, errP, \"bo:\", label=\"Gauss-Lobatto-Jacobi\")\n",
    "nn = 20:150\n",
    "hh = nn.^(-2)\n",
    "plot(nn, 0.3*hh, \"r:\")\n",
    "text(60, 1e-5, L\"$\\mathcal{O}(n^{-2})$\")\n",
    "legend()\n"
   ]
  },
  {
   "cell_type": "code",
   "execution_count": null,
   "metadata": {},
   "outputs": [],
   "source": []
  }
 ],
 "metadata": {
  "@webio": {
   "lastCommId": "6114b97806534143ab73877dd94e6fda",
   "lastKernelId": "74bc00cd-fd4f-4d74-9aac-267dfe442095"
  },
  "kernelspec": {
   "display_name": "Julia 1.1.0",
   "language": "julia",
   "name": "julia-1.1"
  },
  "language_info": {
   "file_extension": ".jl",
   "mimetype": "application/julia",
   "name": "julia",
   "version": "1.1.0"
  }
 },
 "nbformat": 4,
 "nbformat_minor": 2
}
