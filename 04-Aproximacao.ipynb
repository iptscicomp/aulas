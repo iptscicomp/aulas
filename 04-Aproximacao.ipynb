{
 "cells": [
  {
   "cell_type": "markdown",
   "metadata": {},
   "source": [
    "# Aproximação\n",
    "\n",
    "Como aproximar um conjunto de dados usando uma sequência de funções simples?\n",
    "\n",
    " * Polinômios\n",
    " * Interpolação - Introdução\n",
    " * Interpolação de Lagrange\n",
    " * Método dos mínimos quadrados\n",
    " * Códigos"
   ]
  },
  {
   "cell_type": "markdown",
   "metadata": {},
   "source": [
    "## Polinômios\n",
    "\n",
    "$$\n",
    "p_n(x) = a_0 + a_1 x + a_2 x^2 + a_3 x^3 + \\ldots a_n x^n = \\sum_{i=0}^n a_i x^i\n",
    "$$\n",
    "Um polinômio é dado por seus coeficientes $a_i$.\n",
    "Em Julia, a indexação começa em 1, portanto é conveniente reescrever a definição acima como:\n",
    "\n",
    "$$\n",
    "p_n(x) = a_1 + a_2 x + a_3 x^2 + a_4 x^3 + \\ldots a_n x^{n-1} + a_{n+1} x^n = \\sum_{i=1}^{n+1} a_i x^{i-1}\n",
    "$$\n",
    "\n"
   ]
  },
  {
   "cell_type": "code",
   "execution_count": null,
   "metadata": {},
   "outputs": [],
   "source": [
    "function polyval1(a, x)\n",
    "    n = length(a)\n",
    "    \n",
    "    y = 0.0\n",
    "    for i in 1:n\n",
    "        y += a[i] * x^(i-1)\n",
    "    end\n",
    "    \n",
    "    return y\n",
    "end\n"
   ]
  },
  {
   "cell_type": "markdown",
   "metadata": {},
   "source": [
    "### Método de Horner\n",
    "\n",
    "Maneira mais eficiente e mais precisa de calcular o valor de um polinômio:\n",
    "\n",
    "$$\n",
    "p_n(x) = a_1 + x\\left(a_2 + x\\left(a_3 + x\\left(\\ldots + a_{n+1} x\\right) \\right) \\right)\n",
    "$$"
   ]
  },
  {
   "cell_type": "code",
   "execution_count": null,
   "metadata": {},
   "outputs": [],
   "source": [
    "function polyval2(a, x)\n",
    "    \n",
    "    y = a[end]\n",
    "    \n",
    "    for i = (lastindex(a)-1):-1:1\n",
    "        y = a[i] + x * y\n",
    "    end\n",
    "    \n",
    "    return y\n",
    "    \n",
    "end\n"
   ]
  },
  {
   "cell_type": "code",
   "execution_count": null,
   "metadata": {},
   "outputs": [],
   "source": [
    "a1 = rand(3)\n",
    "a2 = rand(6)\n",
    "a3 = rand(15)\n",
    "a4 = rand(30);\n"
   ]
  },
  {
   "cell_type": "code",
   "execution_count": null,
   "metadata": {},
   "outputs": [],
   "source": [
    "using PyPlot"
   ]
  },
  {
   "cell_type": "code",
   "execution_count": null,
   "metadata": {},
   "outputs": [],
   "source": [
    "using BenchmarkTools"
   ]
  },
  {
   "cell_type": "code",
   "execution_count": null,
   "metadata": {},
   "outputs": [],
   "source": [
    "x = 0.5\n",
    "y1 = polyval1(a3, x)\n",
    "y2 = polyval2(a3, x)\n",
    "y1≈y2"
   ]
  },
  {
   "cell_type": "code",
   "execution_count": null,
   "metadata": {},
   "outputs": [],
   "source": [
    "@btime polyval1(a1, x)\n",
    "@btime polyval2(a1, x)"
   ]
  },
  {
   "cell_type": "code",
   "execution_count": null,
   "metadata": {},
   "outputs": [],
   "source": [
    "@btime polyval1(a2, x)\n",
    "@btime polyval2(a2, x)"
   ]
  },
  {
   "cell_type": "code",
   "execution_count": null,
   "metadata": {},
   "outputs": [],
   "source": [
    "@btime polyval1(a3, x)\n",
    "@btime polyval2(a3, x)"
   ]
  },
  {
   "cell_type": "code",
   "execution_count": null,
   "metadata": {},
   "outputs": [],
   "source": [
    "typeof(a3)\n",
    "@btime polyval2(a4, x)"
   ]
  },
  {
   "cell_type": "markdown",
   "metadata": {},
   "source": [
    "### E os tipos dos dados???"
   ]
  },
  {
   "cell_type": "code",
   "execution_count": null,
   "metadata": {},
   "outputs": [],
   "source": [
    "a5 = rand(-5:5, 7)"
   ]
  },
  {
   "cell_type": "code",
   "execution_count": null,
   "metadata": {},
   "outputs": [],
   "source": [
    "polyval1(a5, 2)"
   ]
  },
  {
   "cell_type": "code",
   "execution_count": null,
   "metadata": {},
   "outputs": [],
   "source": [
    "polyval1(a5, 2.0)"
   ]
  },
  {
   "cell_type": "code",
   "execution_count": null,
   "metadata": {},
   "outputs": [],
   "source": [
    "polyval2(a5, 2.0)"
   ]
  },
  {
   "cell_type": "code",
   "execution_count": null,
   "metadata": {},
   "outputs": [],
   "source": [
    "polyval2(a5, 2)"
   ]
  },
  {
   "cell_type": "code",
   "execution_count": null,
   "metadata": {},
   "outputs": [],
   "source": [
    "a6 = [1//2, 2//3, 3//4, 4//5]"
   ]
  },
  {
   "cell_type": "code",
   "execution_count": null,
   "metadata": {},
   "outputs": [],
   "source": [
    "@code_warntype polyval2(a6, 0.5)"
   ]
  },
  {
   "cell_type": "code",
   "execution_count": null,
   "metadata": {},
   "outputs": [],
   "source": [
    "function polyval3(a::Vector{T}, x::S) where {T,S}\n",
    "    R = promote_type(T,S)\n",
    "    \n",
    "    y = convert(R, a[end])\n",
    "    \n",
    "    for i = (lastindex(a)-1):-1:1\n",
    "        y = a[i] + x * y\n",
    "    end\n",
    "    \n",
    "    return y\n",
    "    \n",
    "end\n"
   ]
  },
  {
   "cell_type": "code",
   "execution_count": null,
   "metadata": {},
   "outputs": [],
   "source": [
    "@code_warntype polyval3(a6, 0.5)"
   ]
  },
  {
   "cell_type": "code",
   "execution_count": null,
   "metadata": {},
   "outputs": [],
   "source": [
    "@btime polyval2(a6, 0.5+0.2im)"
   ]
  },
  {
   "cell_type": "code",
   "execution_count": null,
   "metadata": {},
   "outputs": [],
   "source": [
    "@btime polyval3(a6, 0.5+0.2im)"
   ]
  },
  {
   "cell_type": "markdown",
   "metadata": {},
   "source": [
    "### Polynomials.jl"
   ]
  },
  {
   "cell_type": "code",
   "execution_count": null,
   "metadata": {},
   "outputs": [],
   "source": [
    "using Polynomials"
   ]
  },
  {
   "cell_type": "code",
   "execution_count": null,
   "metadata": {},
   "outputs": [],
   "source": [
    "p = Poly([1,2,3], :z)"
   ]
  },
  {
   "cell_type": "code",
   "execution_count": null,
   "metadata": {},
   "outputs": [],
   "source": [
    "p(1//2 + 3//4im)"
   ]
  },
  {
   "cell_type": "code",
   "execution_count": null,
   "metadata": {},
   "outputs": [],
   "source": [
    "roots(p)"
   ]
  },
  {
   "cell_type": "code",
   "execution_count": null,
   "metadata": {},
   "outputs": [],
   "source": [
    "p2 = poly([1,2]) # Raízes"
   ]
  },
  {
   "cell_type": "code",
   "execution_count": null,
   "metadata": {},
   "outputs": [],
   "source": [
    "roots(p2)"
   ]
  },
  {
   "cell_type": "code",
   "execution_count": null,
   "metadata": {},
   "outputs": [],
   "source": [
    "polyint(p)"
   ]
  },
  {
   "cell_type": "code",
   "execution_count": null,
   "metadata": {},
   "outputs": [],
   "source": [
    "polyder(p)"
   ]
  },
  {
   "cell_type": "code",
   "execution_count": null,
   "metadata": {},
   "outputs": [],
   "source": [
    "degree(p)"
   ]
  },
  {
   "cell_type": "markdown",
   "metadata": {},
   "source": [
    "# Interpolação\n",
    "\n",
    "Dado um conjunto de n pontos $(x_i, y_i)$, qual o poliômio que passa por todos?\n",
    "\n",
    "$$\n",
    "y_i = a_0 + a_1 x_i + a_2 x_i^2 + \\ldots a_n x_i^n \\qquad i=1, \\ldots, m\n",
    "$$"
   ]
  },
  {
   "cell_type": "markdown",
   "metadata": {},
   "source": [
    "## Vandermonde\n",
    "\n",
    "Com n+1 pontos distintos, se o polinômio for de grau n, pode-se montar o seguinte sistema linear:\n",
    "\n",
    "$$\n",
    "\\begin{bmatrix}\n",
    "1 & x_0 & x_0^2 & \\cdots & x_0^n \\\\\n",
    "1 & x_1 & x_1^2 & \\cdots & x_1^n \\\\\n",
    "\\vdots & \\vdots & \\vdots & \\ddots & \\vdots\\\\\n",
    "1 & x_n & x_n^2 & \\cdots & x_n^n\\\\\n",
    "\\end{bmatrix}\\cdot\n",
    "\\left\\{ \\begin{matrix} a_0 \\\\ a_1 \\\\ \\vdots \\\\ a_n\\\\ \\end{matrix}\\right\\}\n",
    "= \\left\\{\\begin{matrix} y_0 \\\\ y_1 \\\\ \\vdots \\\\ y_n\\\\\\end{matrix}\\right\\}\n",
    "$$\n",
    "\n",
    "Mas esta é uma operação cara, $\\mathcal{O}(n^3)$!"
   ]
  },
  {
   "cell_type": "markdown",
   "metadata": {},
   "source": [
    "## Outra possibilidade\n",
    "\n",
    "$$\n",
    "y = f(x) \\approx a_0 + a_1(x-x_0) + a_2(x-x_0)(x-x_1) + \\cdots + a_n(x-x_0)(x-x_1)\\cdots(x - x_{n-1})\n",
    "$$\n",
    "\n",
    "Com isso chegamos ao seguinte sistema linear triangular:\n",
    "$$\n",
    "\\begin{bmatrix}\n",
    "1 & 0 & 0 &  0 &\\cdots & 0\\\\\n",
    "1 & (x_1-x_0) & 0 & 0 &  \\cdots & 0\\\\\n",
    "1 & (x_2 - x_0) &  (x_2 - x_0)(x_2 - x_1) & 0 & \\cdots & 0\\\\\n",
    "\\vdots & \\vdots & \\vdots & \\vdots & \\ddots & \\vdots\\\\\n",
    "1 & (x_n - x_0) &  (x_n - x_0)(x_n - x_1) & (x_n - x_0)(x_n - x_1)(x_n-x_2) & \\cdots &(x_n-x_0)(x_n-x_1)\\cdots(x_n-x_{n-1})\\\\\n",
    "\\end{bmatrix}\\cdot\\left\\{\\begin{matrix} a_0\\\\ a_1 \\\\ a_2 \\\\ \\vdots \\\\ a_n\\end{matrix}\\right\\} = \n",
    "\\left\\{\\begin{matrix} y_0\\\\ y_1 \\\\ y_2 \\\\ \\vdots \\\\ y_n\\end{matrix}\\right\\}\n",
    "$$\n",
    "\n",
    "Resolver este sistema é muito mais barato: $\\mathcal{O}(n^2)$"
   ]
  },
  {
   "cell_type": "markdown",
   "metadata": {},
   "source": [
    "## Interpolação de Lagrange:\n",
    "\n",
    "$$\n",
    "y = \\sum_{i=1}^n h_i(x)\n",
    "$$\n",
    "\n",
    "onde $h_i(x)$ é o interpolador de Lagrange:\n",
    "\n",
    "$$\n",
    "h_k(x) = \\prod_{i=1\\ldots n,}^n \\frac{x - x_i}{x_k - x_i} \\qquad i\\ne k\n",
    "$$\n",
    "\n",
    "Propriedade:\n",
    "$$\n",
    "h_i(x_i) = \\delta_{ij} \\quad \\text{onde} \\quad \\delta_{ij} = \\left\\{\\begin{matrix}1, \\: i=j \\\\ 0, i\\ne j\\\\ \\end{matrix}\\right.\n",
    "$$"
   ]
  },
  {
   "cell_type": "code",
   "execution_count": null,
   "metadata": {},
   "outputs": [],
   "source": [
    "function lagrange1(k, z, x)\n",
    "    \n",
    "    h = 1.0\n",
    "    \n",
    "    n = length(z)\n",
    "    \n",
    "    for i = 1:n\n",
    "        if i != k\n",
    "            h *= (x - z[i]) / (z[k] - z[i])\n",
    "        end\n",
    "    end\n",
    "    \n",
    "    return h\n",
    "end\n",
    "    \n",
    "    "
   ]
  },
  {
   "cell_type": "code",
   "execution_count": null,
   "metadata": {},
   "outputs": [],
   "source": [
    "function lagrange2(k, z, x)\n",
    "    \n",
    "    h = 1.0\n",
    "    n = length(z)\n",
    "    for i = 1:(k-1)\n",
    "        h *= (x - z[i]) / (z[k] - z[i])\n",
    "    end\n",
    "    \n",
    "    for i = (k+1):n\n",
    "        h *= (x - z[i]) / (z[k] - z[i])\n",
    "    end\n",
    "    return h\n",
    "end"
   ]
  },
  {
   "cell_type": "code",
   "execution_count": null,
   "metadata": {},
   "outputs": [],
   "source": [
    "N = 10\n",
    "x = range(-1.0, 1.0, step=0.2)\n",
    "#x = [cos(k*π/N) for k in 0:N]\n",
    "xx = range(-1.0, 1.0, step=0.005)\n",
    "\n",
    "\n"
   ]
  },
  {
   "cell_type": "code",
   "execution_count": null,
   "metadata": {},
   "outputs": [],
   "source": [
    "hh = [lagrange2.(k, Ref(x), xx) for k in 1:length(x)];"
   ]
  },
  {
   "cell_type": "code",
   "execution_count": null,
   "metadata": {},
   "outputs": [],
   "source": [
    "for i in 1:length(x)\n",
    "    plot(xx, hh[i])\n",
    "end\n"
   ]
  },
  {
   "cell_type": "code",
   "execution_count": null,
   "metadata": {},
   "outputs": [],
   "source": [
    "plot(xx, hh[5])\n",
    "axhline(y=0, color=\"black\", linestyle = \"--\")\n",
    "axhline(y=1, color=\"black\", linestyle = \"--\")\n",
    "\n",
    "for xv in x\n",
    "    axvline(x=xv, color=\"red\", linestyle=\"--\")\n",
    "end\n"
   ]
  },
  {
   "cell_type": "markdown",
   "metadata": {},
   "source": [
    "### Vamos organizar a interpolação de Lagrange"
   ]
  },
  {
   "cell_type": "code",
   "execution_count": null,
   "metadata": {},
   "outputs": [],
   "source": [
    "struct Lagrange\n",
    "    x::Vector{Float64}\n",
    "    y::Vector{Float64}\n",
    "    Lagrange(x, y) = new(copy(x), copy(y))\n",
    "end\n",
    "Base.Broadcast.broadcastable(lgr::Lagrange) = Ref(lgr)\n",
    "\n",
    "function lagrange(k, z, x)\n",
    " h = 1.0\n",
    "    n = length(z)\n",
    "    for i = 1:(k-1)\n",
    "        h *= (x - z[i]) / (z[k] - z[i])\n",
    "    end\n",
    "    \n",
    "    for i = (k+1):n\n",
    "        h *= (x - z[i]) / (z[k] - z[i])\n",
    "    end\n",
    "    return h\n",
    "end\n",
    "\n",
    "function interp(lgr::Lagrange, x)\n",
    "    \n",
    "    y = lgr.y[1] * lagrange(1, lgr.x, x)\n",
    "    \n",
    "    for i = 2:length(lgr.x)\n",
    "        y += lgr.y[i] * lagrange(i, lgr.x, x)\n",
    "    end\n",
    "    \n",
    "    return y\n",
    "end\n",
    "\n",
    "    \n",
    "(lgr::Lagrange)(x) = interp(lgr, x)    "
   ]
  },
  {
   "cell_type": "code",
   "execution_count": null,
   "metadata": {},
   "outputs": [],
   "source": [
    "x1 = range(-1, 1, step=0.2)\n",
    "y1 = sin.(π.*x1);\n",
    "xx = range(-1, 1, step=0.005)\n"
   ]
  },
  {
   "cell_type": "code",
   "execution_count": null,
   "metadata": {},
   "outputs": [],
   "source": [
    "lgr = Lagrange(x1, y1)\n",
    "yy = sin.(π.*xx);\n",
    "yy1 = lgr.(xx);"
   ]
  },
  {
   "cell_type": "code",
   "execution_count": null,
   "metadata": {},
   "outputs": [],
   "source": [
    "\n",
    "plot(x1, y1, \"ro\")\n",
    "plot(xx, yy, \"r-\")\n",
    "plot(xx, yy1, \"b--\")"
   ]
  },
  {
   "cell_type": "markdown",
   "metadata": {},
   "source": [
    "## Interpolação Linear\n",
    "\n"
   ]
  },
  {
   "cell_type": "code",
   "execution_count": null,
   "metadata": {},
   "outputs": [],
   "source": [
    "x2 = range(-1, 1, step=0.2)\n",
    "y2 = sin.(π.*x2);\n",
    "\n",
    "plot(x2, y2, \"ro\")\n",
    "plot(x2, y2, \"b-\")"
   ]
  },
  {
   "cell_type": "code",
   "execution_count": null,
   "metadata": {},
   "outputs": [],
   "source": [
    "struct LinearInterp\n",
    "    x::Vector{Float64}\n",
    "    y::Vector{Float64}\n",
    "    LinearInterp(x, y) = new(copy(x), copy(y))\n",
    "end\n",
    "Base.Broadcast.broadcastable(lin::LinearInterp) = Ref(lin)\n",
    "\n",
    "function interp1(lin::LinearInterp, x)\n",
    "    \n",
    "    if x < lin.x[1] || x > lin.x[end]\n",
    "        error(\"Fora do Range\")\n",
    "    end\n",
    "    \n",
    "    index = 2\n",
    "    n = length(lin.x)\n",
    "    for i = 2:n\n",
    "        if lin.x[i] >= x\n",
    "            index = i\n",
    "            break\n",
    "        end\n",
    "    end\n",
    "    i1 = index-1\n",
    "    return lin.y[i1] + (lin.y[index] - lin.y[i1]) * (x - lin.x[i1]) / (lin.x[index] - lin.x[i1])\n",
    "    \n",
    "end\n",
    "    \n",
    "function interp2(lin::LinearInterp, x)\n",
    "    index = searchsortedfirst(lin.x, x)\n",
    "    if index == 1\n",
    "        index = 2\n",
    "    end\n",
    "    i1 = index-1\n",
    "    return lin.y[i1] + (lin.y[index] - lin.y[i1]) * (x - lin.x[i1]) / (lin.x[index] - lin.x[i1])\n",
    "    \n",
    "end\n",
    "\n",
    "(lin::LinearInterp)(x) = interp2(lin, x)\n"
   ]
  },
  {
   "cell_type": "code",
   "execution_count": null,
   "metadata": {},
   "outputs": [],
   "source": [
    "lin = LinearInterp(x2, y2)\n",
    "yy2 = interp1.(lin, xx);\n",
    "plot(x2, y2, \"ro\")\n",
    "plot(xx, yy2, \"b-\")"
   ]
  },
  {
   "cell_type": "code",
   "execution_count": null,
   "metadata": {},
   "outputs": [],
   "source": [
    "@btime yy2 .= interp1.(lin, xx);"
   ]
  },
  {
   "cell_type": "code",
   "execution_count": null,
   "metadata": {},
   "outputs": [],
   "source": [
    "@btime yy2 .= interp2.(lin, xx);"
   ]
  },
  {
   "cell_type": "code",
   "execution_count": null,
   "metadata": {},
   "outputs": [],
   "source": [
    "xx2 = reverse(xx)"
   ]
  },
  {
   "cell_type": "code",
   "execution_count": null,
   "metadata": {},
   "outputs": [],
   "source": [
    "@btime yy2 .= interp1.(lin, xx2);"
   ]
  },
  {
   "cell_type": "code",
   "execution_count": null,
   "metadata": {},
   "outputs": [],
   "source": [
    "@btime yy2 .= interp2.(lin, xx2);"
   ]
  },
  {
   "cell_type": "code",
   "execution_count": null,
   "metadata": {},
   "outputs": [],
   "source": [
    "xx3 = 2*rand(length(xx)) .- 1.0;"
   ]
  },
  {
   "cell_type": "code",
   "execution_count": null,
   "metadata": {},
   "outputs": [],
   "source": [
    "@btime yy2 .= interp1.(lin, xx3);"
   ]
  },
  {
   "cell_type": "code",
   "execution_count": null,
   "metadata": {},
   "outputs": [],
   "source": [
    "@btime yy2 .= interp2.(lin, xx3);"
   ]
  },
  {
   "cell_type": "markdown",
   "metadata": {},
   "source": [
    "# Pacotes\n",
    "\n",
    " * [Interpolations](https://github.com/JuliaMath/Interpolations.jl)\n",
    " * [Dierckx](https://github.com/kbarbary/Dierckx.jl)\n",
    " * [GridInterpolations](https://github.com/sisl/GridInterpolations.jl)"
   ]
  },
  {
   "cell_type": "markdown",
   "metadata": {},
   "source": [
    "## Exercícios\n",
    "\n",
    "### Problema 1\n",
    "\n",
    "Interpole a função de Runge com $-1 \\le x \\le 1$:\n",
    "$$\n",
    "f(x) = \\frac{1}{1 + 25x^2}\n",
    "$$\n",
    "\n",
    " 1. Use 11 pontos uniformemente distribuídos\n",
    " 2. Aumente o número de pontos\n",
    " 3. Tente usar os pontos $x_k = \\cos\\left(\\frac{k\\pi}{N}\\right)$ para $k = 0\\ldots N$.\n",
    " 4. Brinque com o número de pontos\n",
    "\n",
    "### Problema 2\n",
    "\n",
    "Procure na Net o método de diferenças divididas de Newton a interpole a função anterior nos mesmos pontos. Este método é simplesmente um jeito inteligente de resolver a matriz apresentada lá em cima.\n",
    "\n",
    "### Problema 3\n",
    "\n",
    "Use a biblioteca Interpolations.jl e Dierckx.jl para fazer as interpolações. Compare a interpolação linear com os splines.\n",
    "\n"
   ]
  },
  {
   "cell_type": "code",
   "execution_count": null,
   "metadata": {},
   "outputs": [],
   "source": [
    "f(x) = 1.0 / (1.0 + 25x^2)\n"
   ]
  }
 ],
 "metadata": {
  "@webio": {
   "lastCommId": "71bba5cd098a4a1da60af9c2b4bd3847",
   "lastKernelId": "29ed1d6d-0e98-4da6-b20f-1e13efc03e93"
  },
  "kernelspec": {
   "display_name": "Julia 1.1.0",
   "language": "julia",
   "name": "julia-1.1"
  },
  "language_info": {
   "file_extension": ".jl",
   "mimetype": "application/julia",
   "name": "julia",
   "version": "1.1.0"
  }
 },
 "nbformat": 4,
 "nbformat_minor": 2
}
