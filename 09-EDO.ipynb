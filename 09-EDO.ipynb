{
 "cells": [
  {
   "cell_type": "markdown",
   "metadata": {},
   "source": [
    "# Aula 9: Solução numérica de equações diferenciais ordinárias"
   ]
  },
  {
   "cell_type": "markdown",
   "metadata": {},
   "source": [
    "## Instrodução\n",
    "\n",
    "### Equações diferenciais\n",
    "\n",
    "São equações que envolvem as derivadas das funções. Se houver apenas uma variável independente, a equação se chama equação diferencial ordinária. Caso contrário , é uma equação diferencial parcial.\n",
    "\n",
    "\n",
    "Exemplo de equação diferencial ordinária: oscilador \n",
    "\n",
    "$$\n",
    "\\frac{d^2x}{dt^2} + 2\\zeta\\omega_n \\frac{dx}{dt} + \\omega_n^2 x = 0\n",
    "$$\n",
    "\n",
    "Exemplo de equação diferencial parcial: equação do calor\n",
    "$$\n",
    "\\frac{\\partial u}{\\partial t} = \\alpha \\frac{\\partial^2 u}{\\partial x^2}\n",
    "$$\n",
    "<!-- TEASER_END -->"
   ]
  },
  {
   "cell_type": "markdown",
   "metadata": {},
   "source": [
    "### Condições iniciais e de contorno\n",
    "\n",
    "Seja a equação diferencial simples a seguir:\n",
    "$$\n",
    "\\frac{dx}{dt} = 1\n",
    "$$\n",
    "\n",
    "Esta equação pode ser facilmente integrada:\n",
    "$$\n",
    "x = t + C\n",
    "$$\n",
    "\n",
    "À equação diferencial acima corresponde a uma família de soluções com diferentes valores da constante $C$. Para se chegar a uma única solução, precisamos impor uma condição:\n",
    "$$\n",
    "t=t_0 \\longrightarrow x=x_0\n",
    "$$\n",
    "\n",
    "Se a equação for \n",
    "$$\n",
    "\\frac{d^2x}{dt^2} = 1\n",
    "$$\n",
    "integrando uma vez chegamos a\n",
    "$$\n",
    "\\frac{dx}{dt} = t + C_1\n",
    "$$\n",
    "integrando novamente\n",
    "$$\n",
    "x = \\frac{t^2}{2} + C_1\\cdot t + C_2\n",
    "$$\n",
    "\n",
    "Perceba que agora existem duas constantes que precisam ser estabelecidas. Para tanto é preciso ter alguma informação extra como por exemplo\n",
    "$$\n",
    "t = t_0 \\longrightarrow x=x_0\\\\\n",
    "t = t_1 \\longrightarrow x=x_1\\\\\n",
    "$$\n",
    "\n",
    "Mas também poderia ser algo do tipo\n",
    "$$\n",
    "t = t_0 \\longrightarrow x=x_0\\\\\n",
    "t = t_1 \\longrightarrow \\frac{dx}{dt}=\\alpha_1\\\\\n",
    "$$\n",
    "\n",
    "Aumentando a ordem de derivada, aumenta-se a quantidade de condições extra que devem ser obedecidas. Em geral, o número de condições necessária é igual à ordem da derivada maior. \n",
    "\n",
    "Para resolver as equações acima basta integrar o lado direito diretamente. Existem outros casos onde isso não é possível. Em geral um problema de primeira ordem é escrito como\n",
    "$$\n",
    "\\frac{dx}{dt} = f(x,t)\n",
    "$$\n",
    "com \n",
    "$$\n",
    "t = t_0 \\longrightarrow x=x_0\n",
    "$$\n",
    "\n",
    "Qual o tipo de condições necessária vai depender do tipo de problema mas em geral dois casos são comuns:\n",
    "\n",
    " * Deseja-se conhecer a função entre dois pontos $t_0$ e $t_1$. Este caso é conhecido como um problema de valor de contorno e as condições na variável e/ou suas derivadas são impostas nas duas extremidades do domínio.\n",
    " * As condições na variável e suas derivadas é conhecida em um ponto só. Este é um problema de valor inicial\n",
    " \n",
    "O problema de valor inicial é muito mais simples e será o objeto de estudo desta aula. Alguns problemas de valor de contorno serão vistos mais à frente. "
   ]
  },
  {
   "cell_type": "markdown",
   "metadata": {},
   "source": [
    "### Sistemas de equações diferenciais ordinárias\n",
    " \n",
    " Até o momento foram tratadas equações que envolviam apenas uma função desconhecida e suas derivadas. Mas em geral, mais de uma função desconhecida pode existir e então temos um sistema de equações diferenciais ordinárias:\n",
    " \n",
    "$$\n",
    "\\frac{dx_i}{dt} = f_i(x_1, x_2, \\ldots, x_n, t) \\qquad i=1,2, \\ldots, n\n",
    "$$\n",
    "\n",
    "Este é um sistema de equações diferenciais ordinárias de primeira ordem.\n",
    "\n",
    "Um outro problema é a resolução de equações diferenciais ordinárias de ordem superior:\n",
    "$$\n",
    "\\frac{dx^{(n)}}{dt} = f\\left(t, x, \\frac{dx}{dt},  \\frac{d^2x}{dt^2}, \\ldots,  \\frac{dx^{(n-1)}}{dt}\\right)\n",
    "$$\n",
    "\n",
    "Chamando \n",
    "$$\n",
    "\\begin{align*}\n",
    "y_1 &= x\\\\\n",
    "y_2 &= \\frac{dy_1}{dt} = \\frac{dx}{dt}\\\\\n",
    "y_3 &= \\frac{dy_2}{dt} = \\frac{d^2x}{dt^2}\\\\\n",
    "\\vdots &= \\vdots \\\\\n",
    "y_n &= \\frac{dy_{n-1}}{dt} = \\frac{d^n x}{dt^n}\\\\\n",
    "\\end{align*}\n",
    "$$\n",
    "\n",
    "Com estas definições, o problema original de ordem superior se transforma no seguinte sistema de equações diferenciais ordinárias:\n",
    "\n",
    "$$\n",
    "\\begin{align*}\n",
    "\\frac{dy_1}{dt} &= y_2\\\\\n",
    "\\frac{dy_2}{dt} &= y_3\\\\\n",
    "\\vdots &= \\vdots \\\\\n",
    "\\frac{dy_{n-1}}{dt} &= y_n\\\\\n",
    "\\frac{dy_n}{dt} &= f\\left(t, x, \\frac{dx}{dt},  \\frac{d^2x}{dt^2}, \\ldots,  \\frac{dx^{(n-1)}}{dt}\\right) = f\\left(t, y_1, y_2, \\ldots, y_{n-1}\\right)\n",
    "\\end{align*}\n",
    "$$\n",
    "\n",
    "com condições iniciais\n",
    "$$\n",
    "t=t_0\\longrightarrow \\left.y_i\\right|_0 = \\left.\\frac{d^{i-1}x}{dt^{i-1}}\\right|_0 = \\alpha_i\n",
    "$$\n",
    "\n",
    "### O Problema que vamos resolver\n",
    "Como foi mostrado acima, um problema de ordem superior pode ser reescrito como um sistema de primeira ordem. Assim, todos o métodos numéricos aqui desenvolvidos serão utilizados para resolver sistemas de equações diferenciais ordinárias.\n",
    "\n",
    "Inicialmente iremos desenvolver os métodos para uma única equação diferencial ordinária de ordem 1."
   ]
  },
  {
   "cell_type": "markdown",
   "metadata": {},
   "source": [
    "## Método de Euler\n",
    "\n",
    "Seja a equação diferencial ordinária\n",
    "$$\n",
    "\\frac{dy}{dt} = f(t,y), \\quad a\\le t \\le b, \\quad y(a) = \\alpha\n",
    "$$\n",
    "\n",
    "Dividindo o domínio em $N$ partes iguais, com\n",
    "$$\n",
    "t_i = a + ih, \\quad i=0, 1, 2, \\ldots, N\n",
    "$$\n",
    "com $h = (b-a) / N$ sendo o passo de integração.\n",
    "\n",
    "A função $y(t)$ pode ser expandida em série de Taylor:\n",
    "$$\n",
    "y(t_{i+1}) = y(t_i) + h\\cdot y'(t_i) + \\frac{h^2}{2}y''(\\xi_i)\n",
    "$$\n",
    "\n",
    "Desprezando o termo do resto e usando a definição da equação diferencial, temos\n",
    "$$\n",
    "y(t_{i+1}) = y(t_i) + h\\cdot f\\left[t_i, y(t_i)\\right]\n",
    "$$\n",
    "\n"
   ]
  },
  {
   "cell_type": "code",
   "execution_count": null,
   "metadata": {},
   "outputs": [],
   "source": [
    "using PyPlot"
   ]
  },
  {
   "cell_type": "code",
   "execution_count": null,
   "metadata": {},
   "outputs": [],
   "source": [
    "function euler(f, t, u0)\n",
    "    \n",
    "    N = length(t)\n",
    "    u = zeros(N)\n",
    "    u[1] = u0\n",
    "    \n",
    "    for i = 2:N\n",
    "        h = t[i] - t[i-1]\n",
    "        u[i] = u[i-1] + h*f(t[i-1], u[i-1])\n",
    "    end\n",
    "    return u\n",
    "end"
   ]
  },
  {
   "cell_type": "markdown",
   "metadata": {},
   "source": [
    "**Exemplo**\n",
    "\n",
    "$$\n",
    "\\frac{dy}{dt} = y - t^2 + 1, \\quad 0\\le t \\le 2, \\quad y(0) = 0.5\n",
    "$$\n",
    "\n"
   ]
  },
  {
   "cell_type": "code",
   "execution_count": null,
   "metadata": {},
   "outputs": [],
   "source": [
    "f₁(t, u) = u - t*t + 1\n",
    "N = 20\n",
    "a = 0.0\n",
    "b = 4.0\n",
    "t = range(a, b, length=N+1)\n",
    "u0 = 0.5\n",
    "uefun₁(t) = (t+1)^2 -0.5*exp(t)\n",
    "ue = uefun₁.(t)\n",
    "t1 = range(a, b, length=201)\n",
    "ue1 = uefun₁.(t1)\n",
    "\n",
    "u = euler(f₁, t, u0);\n",
    "\n"
   ]
  },
  {
   "cell_type": "code",
   "execution_count": null,
   "metadata": {},
   "outputs": [],
   "source": [
    "plot(t1, ue1, \"b-\")\n",
    "#plot(t, ue, \"bo\")\n",
    "plot(t, u, \"rs\")"
   ]
  },
  {
   "cell_type": "code",
   "execution_count": null,
   "metadata": {},
   "outputs": [],
   "source": [
    "function errfun(integr, uefun, f, a, b, u0, N)\n",
    "    t = range(a, b, length=N+1)\n",
    "    \n",
    "    ue = uefun.(t)\n",
    "    u = integr(f, t, u0)\n",
    "    \n",
    "    return abs(u[end]-ue[end])\n",
    "    \n",
    "end\n"
   ]
  },
  {
   "cell_type": "code",
   "execution_count": null,
   "metadata": {},
   "outputs": [],
   "source": [
    "N = 4:2:100\n",
    "e1 = errfun.(euler, uefun₁, f₁, 0.0, 2.0, 0.5, N);"
   ]
  },
  {
   "cell_type": "code",
   "execution_count": null,
   "metadata": {},
   "outputs": [],
   "source": [
    "loglog(N, e1, \"bo\")\n",
    "xlabel(\"Número de pontos\")\n",
    "ylabel(\"Erro\")\n",
    "title(\"Erro do método de Euler\")\n",
    "plot(N, 10 ./ N, \"r-\")\n",
    "text(20.0, 0.7, L\"$\\mathcal{O}(1/N)$\")"
   ]
  },
  {
   "cell_type": "markdown",
   "metadata": {},
   "source": [
    "## Euler modificado (uma das inúmeras versões)\n"
   ]
  },
  {
   "cell_type": "code",
   "execution_count": null,
   "metadata": {},
   "outputs": [],
   "source": [
    "function eulermelhorado(f, t, u0)\n",
    "    \n",
    "    N = length(t)\n",
    "    u = zeros(N)\n",
    "    u[1] = u0\n",
    "    der1 = f(t[1], u[1])\n",
    "    der2 = 0.0\n",
    "    for i = 2:N\n",
    "        h = t[i] - t[i-1]\n",
    "        z = u[i-1] + h * der1\n",
    "        der2 = f(t[i], z)\n",
    "        u[i] = u[i-1] + h/2*(der1 + der2)\n",
    "        der1 = der2\n",
    "    end\n",
    "    return u\n",
    "end"
   ]
  },
  {
   "cell_type": "code",
   "execution_count": null,
   "metadata": {},
   "outputs": [],
   "source": [
    "u2 = eulermelhorado(f₁, t, u0)\n",
    "e2 = errfun.(eulermelhorado, uefun₁, f₁, 0.0, 2.0, 0.5, N);\n",
    "loglog(N, e2, \"bo\")\n",
    "xlabel(\"Número de pontos\")\n",
    "ylabel(\"Erro\")\n",
    "title(\"Erro do método de Euler melhorado\")\n",
    "plot(N, 40 ./ N.^2, \"r-\")\n",
    "text(20.0, 0.2, L\"$\\mathcal{O}(1/N^2)$\")"
   ]
  },
  {
   "cell_type": "markdown",
   "metadata": {},
   "source": [
    "## Método de Runge-Kutta\n",
    "\n",
    "Métodos de ordem superior são sempre vantajosos, principalmente em problemas grandes.\n",
    "\n",
    "Pode-se desenvolver métodos a partir da expansão em série de Taylor de ordem superior. O problema nesse caso é a necessidade de calcular derivadas, o que sempre é difícil.\n",
    "\n",
    "Os métodos de Runge-Kutta são uma alternativa que permitem reduzir o erro mas não necessitam cálculo de derivadas.\n"
   ]
  },
  {
   "cell_type": "markdown",
   "metadata": {},
   "source": [
    "Seja uma EDO\n",
    "\n",
    "$$\n",
    "\\frac{dy}{dt} = f(t, y), \\quad t_n \\le t \\le t_{n+1}, \\quad y(t_n)\\: \\text{conhecido}\n",
    "$$\n",
    "\n",
    "Integrando esta equação temos\n",
    "\n",
    "$$\n",
    "\\int_{y_n}^{y_{n+1}}\\:dy = \\int_{t_n}^{t_{n+1}} f(t, y)\\:dt\n",
    "$$\n",
    "\n",
    "Assim, \n",
    "$$\n",
    "y_{n+1} = y_n + \\int_{t_n}^{t_{n+1}} f(t, y)\\:dt \\approx h\\sum_{j=1}^\\nu b_j f\\left[t_n + c_j h, y(t_n + c_j h)\\right], \\qquad n=0, 1, \\ldots\n",
    "$$\n",
    "\n",
    "O problema com esta expressão é que não conhecemos $y(t_n + c_j h)$! O que fazer? *Aproximar*!"
   ]
  },
  {
   "cell_type": "markdown",
   "metadata": {},
   "source": [
    "Como conhecemos $y_n$, é interessante fazer $c_1=0$. Chamando $\\xi_j = y(t_n + c_jh)$, temos\n",
    "$$\n",
    "\\begin{align*}\n",
    "\\xi_1 &= y_n\\\\\n",
    "\\xi_2 &= y_n + h\\cdot a_{2,1}f(t_n, \\xi_1),\\\\\n",
    "\\xi_3 &= y_n + h\\cdot a_{3,1}f(t_n, \\xi_1) + h\\cdot a_{3,2}f(t_n+c_2 h, \\xi_2),\\\\\n",
    "\\vdots &= \\vdots\\\\\n",
    "\\xi_\\nu &= y_n + h\\sum_{i=1}^{\\nu-1} a_{\\nu,i} f(t_n+c_i h, \\xi_i),\\\\\n",
    "y_{n+1} &= y_n + h\\sum_{i=1}^{\\nu} b_j f(t_n+c_i h, \\xi_i).\\\\\n",
    "\\end{align*}\n",
    "$$\n",
    "\n",
    "A matriz $A = \\left(a_{j,i}\\right)_{j,i=1,2,\\ldots,\\nu}$ onde os elementos não presentes são nulos é chamada de *matriz RK* e $b_i$ e $c_i$ são os pesos RK e nós RK. Diz-se que este esquema tem $\\nu$ estágios. Como obter a matriz RK? Expansão em série de Taylor é uma possibilidade mas para esquemas com mais de 3 estágios esta operaçõa é um pouco trabalhosa.\n",
    "\n",
    "Um jeito comum de descrever o método de Runge-Kutta é utilizar a tabela de RK onde os coeficientes estão escritas como se mostra na tabela a seguir:\n",
    "\n",
    "$$\n",
    "\\begin{array}{c|c}\n",
    "\\mathbf{c} & A\\\\\n",
    "\\hline\n",
    "   & \\mathbf{b}^T\\\\\n",
    "\\end{array}\n",
    "$$\n"
   ]
  },
  {
   "cell_type": "markdown",
   "metadata": {},
   "source": [
    "### Runge-Kutta de quarta ordem\n",
    "\n",
    "\n",
    "Os métodos de Runge-Kutta formam uma família extensa e existem alguns esquemas mais comuns como o Runge-Kutta de 4a ordem:\n",
    "\n",
    "$$\n",
    "\\begin{array}{c|cccc}\n",
    "0 & & & \\\\\n",
    "\\frac{1}{2} & \\frac{1}{2} \\\\\n",
    "\\frac{1}{2} & 0 & \\frac{1}{2} \\\\\n",
    "1 & 0 & 0 & 1  \\\\\n",
    "\\hline\n",
    "   &\\frac{1}{6} & \\frac{1}{3} & \\frac{1}{3} &\\frac{1}{6}\\\\\n",
    "\\end{array}\n",
    "$$\n",
    "\n",
    "\n"
   ]
  },
  {
   "cell_type": "code",
   "execution_count": null,
   "metadata": {},
   "outputs": [],
   "source": [
    "function rk4(f, t, u0)\n",
    "        \n",
    "    N = length(t)\n",
    "    u = zeros(N)\n",
    "    u[1] = u0\n",
    "    for i = 1:(N-1)\n",
    "        ti = t[i]\n",
    "        h = t[i+1] - ti\n",
    "        w0 = u[i]\n",
    "        k1 = h * f(ti, w0)\n",
    "        k2 = h*f(ti+h/2, w0+k1/2)\n",
    "        k3 = h*f(ti+h/2, w0+k2/2)\n",
    "        k4 = h*f(t[i+1], w0 + k3)\n",
    "        u[i+1] = u[i] + (k1 + 2k2 + 2k3 + k4)/6\n",
    "    end\n",
    "    \n",
    "    return u\n",
    "end\n"
   ]
  },
  {
   "cell_type": "code",
   "execution_count": null,
   "metadata": {},
   "outputs": [],
   "source": [
    "u3 = rk4(f₁, t, u0)"
   ]
  },
  {
   "cell_type": "code",
   "execution_count": null,
   "metadata": {},
   "outputs": [],
   "source": [
    "e3 = errfun.(rk4, uefun₁, f₁, 0.0, 2.0, 0.5, N);"
   ]
  },
  {
   "cell_type": "code",
   "execution_count": null,
   "metadata": {},
   "outputs": [],
   "source": [
    "loglog(N, e3, \"bo\")\n",
    "xlabel(\"Número de pontos\")\n",
    "ylabel(\"Erro\")\n",
    "title(\"Erro do método de Runge-Kutta 4a ordem\")\n",
    "plot(N, 5 ./ N.^4, \"r-\")\n",
    "text(20, 7e-5, L\"\\mathcal{O}(1/N^4)\")"
   ]
  },
  {
   "cell_type": "code",
   "execution_count": null,
   "metadata": {},
   "outputs": [],
   "source": [
    "plot(t1, ue1, \"b-\", label=\"Sol. exata\")\n",
    "xlabel(\"t\")\n",
    "ylabel(\"x\")\n",
    "title(L\"Solução da equação $y' = y - t^2 + 1$\")\n",
    "plot(t, u, \"ko\", label=\"Euler\")\n",
    "plot(t, u2, \"ro\", label=\"Euler melhorado\")\n",
    "plot(t, u3, \"bo\", label=\"Runge-Kutta 4a ordem\")\n",
    "legend()"
   ]
  },
  {
   "cell_type": "markdown",
   "metadata": {},
   "source": [
    "\n"
   ]
  },
  {
   "cell_type": "code",
   "execution_count": null,
   "metadata": {},
   "outputs": [],
   "source": []
  },
  {
   "cell_type": "code",
   "execution_count": null,
   "metadata": {},
   "outputs": [],
   "source": []
  },
  {
   "cell_type": "markdown",
   "metadata": {},
   "source": [
    "## Método de Multipassos\n",
    "\n",
    "Até agora foram utilizados métodos de passo único, ou seja, um ponto é conhecido e o próximo é calculado. Por que não utilizar os pontos já calculados?\n",
    "\n",
    "Novamente, vamos voltar à seguinte equação:\n",
    "$$\n",
    "\\frac{dy}{dt} = f(t, y), \\quad t_n \\le t \\le t_{n+1}, \\quad y(t_n)\\: \\text{conhecido}\n",
    "$$\n",
    "\n",
    "O método de Adams consiste em utilizar os pontos já calculados para aproximar $y'$ no intervalo de integração. Usa-se um polinômio interpolador para se fazer esta aproximação. Duas famílias são comuns:\n",
    "\n",
    " * Adams-Bashforth: explícito\n",
    " * Adams-Moulton: implícito\n",
    "\n",
    "Um método multipasso consiste na seguinte aproximação:\n",
    "\n",
    "$$\n",
    "y_{i+1} = \\sum_{k=0}^{m-1} a_k y_{i+1-k} = h\\left[\\sum_{k=0}^m b_k f\\left(t_{i+1-k},y_{i+1-k}\\right)    \\right]\n",
    "$$\n",
    "\n",
    "Se $b_m = 0$, o método é explícito, caso contrário, o método é implícito.\n"
   ]
  },
  {
   "cell_type": "markdown",
   "metadata": {},
   "source": [
    "## Equações diferenciais Rígidas (*Stiff*)\n",
    "\n",
    "Os termos de erro de todos os métodos de aproximação da solução envolve derivadas de ordem superior da solução. Se a derivada é razoavelmente limitada, as estimativas de erro funcionam bem. Caso contrário, a derivada pode mandar no erro. Se as derivadas crescem significativamente e a função tabém cresce, pode não haver problema mas caso a função não cresça tanto, está equação é *stiff* e apresenta dificuldades de solução"
   ]
  },
  {
   "cell_type": "markdown",
   "metadata": {},
   "source": [
    "Exemplo de sistema de equação *stiff*\n",
    "\n",
    "$$\n",
    "\\begin{align*}\n",
    "u_1' &= 9u_1 + 24u_2 + 5 \\cos t -\\frac{1}{3}\\sin t, \\quad u_1(0) = \\frac{4}{3}\\\\\n",
    "u_2' & = -14 u_1 -51 u_2 - 9\\cos t + \\frac{1}{3} \\sin t, \\quad u_2(0) = \\frac{2}{3}\\\\\n",
    "\\end{align*}\n",
    "$$\n",
    "\n",
    "A solução deste sistema \n",
    "$$\n",
    "\\begin{align*}\n",
    "u_1(t) &= 2e^{-3t} - e^{-39t} + \\frac{1}{3}\\cos t\\\\\n",
    "u_2(t) &= -e^{-3t} + 2e^{-39t} - \\frac{1}{3}\\cos t\\\\\n",
    "\\end{align*}\n",
    "$$\n"
   ]
  },
  {
   "cell_type": "markdown",
   "metadata": {},
   "source": [
    "## Pacotes e outras referências\n",
    "\n",
    "\n",
    "O pacote <https://github.com/JuliaDiffEq/DifferentialEquations.jl> é um meta-pacote muito genérico e poderoso para a solução de sistemas de equações diferenciais ordinárias. A documentação pode ser encontrada em <http://docs.juliadiffeq.org/latest. Existe um tutorial muito bom em <https://github.com/JuliaComputing/JuliaBoxTutorials/tree/master/introductory-tutorials/broader-topics-and-ecosystem/intro-to-solving-diffeq-in-julia>. Cuidado que algumas coisas mudaram e para usar `@ode_def`por exemplo, é necessário incluir o pacote `ParameterizedFunctions.jl`.\n",
    "\n",
    "Existe um tutorial em vídeo muito bom deste pacote <https://www.youtube.com/watch?v=KPEqYtEd-zY>. Vale a pena assistir!"
   ]
  },
  {
   "cell_type": "markdown",
   "metadata": {},
   "source": [
    "## Problemas\n",
    "\n",
    "### Problema 1\n",
    "Implementar o método de Euler para um sistema de EDO\n",
    "\n"
   ]
  },
  {
   "cell_type": "code",
   "execution_count": null,
   "metadata": {},
   "outputs": [],
   "source": []
  },
  {
   "cell_type": "markdown",
   "metadata": {},
   "source": [
    "### Problema 2\n",
    "Implementar o método de Euler melhorado para um sistema de EDO\n"
   ]
  },
  {
   "cell_type": "code",
   "execution_count": null,
   "metadata": {},
   "outputs": [],
   "source": []
  },
  {
   "cell_type": "markdown",
   "metadata": {},
   "source": [
    "### Problema 3\n",
    "Implementar o método de Runge-Kutta de 4a ordempara um sistema de EDO\n"
   ]
  },
  {
   "cell_type": "code",
   "execution_count": null,
   "metadata": {},
   "outputs": [],
   "source": []
  },
  {
   "cell_type": "markdown",
   "metadata": {},
   "source": [
    "### Problema 4\n",
    "Use o pacote DifferentialEquations.jl para resolver o sistem *stiff* acima. Compare com os métodos que você implementou nos problemas 1, 2 e 3. "
   ]
  },
  {
   "cell_type": "code",
   "execution_count": null,
   "metadata": {},
   "outputs": [],
   "source": []
  }
 ],
 "metadata": {
  "@webio": {
   "lastCommId": null,
   "lastKernelId": null
  },
  "kernelspec": {
   "display_name": "Julia 1.1.1",
   "language": "julia",
   "name": "julia-1.1"
  },
  "language_info": {
   "file_extension": ".jl",
   "mimetype": "application/julia",
   "name": "julia",
   "version": "1.1.1"
  }
 },
 "nbformat": 4,
 "nbformat_minor": 2
}
