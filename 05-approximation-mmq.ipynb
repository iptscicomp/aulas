{
 "cells": [
  {
   "cell_type": "markdown",
   "metadata": {},
   "source": [
    "# Aula 5: Aproximação e mínimos quadrados\n",
    "\n",
    "Na aula passado demos uma visão geral do que se quer neste curso e começamos a falar de aproximação. Os seguintes assuntos foram abordados:\n",
    "\n",
    " * Introdução à interpolação\n",
    " * Interpolação polinomial utilizando a matriz de Vandermonde\n",
    " * Interpolação polinomial com diferenças divididas\n",
    " * Interpolação polinomial com polinômios de Lagrange\n",
    " * Dificuldades com interpolação polinomial\n",
    " \n",
    "Os exercícios propostos mostraram sérias dificuldades na interpolação polinomial de funções relativamente simples como a função de Runge\n",
    "\n",
    "$$\n",
    "f(x) = \\frac{1}{1 + 25x^2}\n",
    "$$\n",
    "\n",
    "Mudando a posição ou usando um outro esquema de interpolação como *splines* por exemplo pode reduzir as oscilações significativamente para a função de Runge. \n",
    "\n",
    "Uma outra dificuldade é quando existem possíveis erros nos dados que foram usados na interpolação. Obrigar que a curva passe exatamente em cada ponto pode não ser a melhor idéia neste contexto. \n",
    "\n",
    "Outra possibilidade é usar uma aproximação que não necessariamente precisa passar em cada ponto mas o erro é minimizado de alguma maneira. A técnica mais comum é o método dos mínimos quadrados"
   ]
  },
  {
   "cell_type": "code",
   "execution_count": null,
   "metadata": {},
   "outputs": [],
   "source": [
    "using PyPlot"
   ]
  },
  {
   "cell_type": "markdown",
   "metadata": {},
   "source": [
    "# Introdução ao método dos mínimos quadrados\n",
    "\n",
    "Imaginemos que temos uma sequência de pontos e queremos encontrar a reta que melhor se ajusta a estes pontos:\n"
   ]
  },
  {
   "cell_type": "code",
   "execution_count": null,
   "metadata": {},
   "outputs": [],
   "source": [
    "x = 0.0:10.0\n",
    "y = 2*x + randn(length(x));\n",
    "\n",
    "plot(x, y, \"ro\")"
   ]
  },
  {
   "cell_type": "markdown",
   "metadata": {},
   "source": [
    "Existem várias maneiras de se estimar este erro:\n",
    "\n",
    "Uma possibilidade é considerar o erro máximo de todos os pontos\n",
    "$$ \\varepsilon_\\infty(a_0, a_1) = \\max_{1\\le i\\le N} \\left[ \\left|(a_0 + a_1 x_i) - y_i\\right|\\right]$$\n",
    "esta minimização é conhecida como **minimax** na literatura e não é algo simples de se conseguir.\n",
    "\n",
    "Outra possibilidade é minimizar o desvio absoluto:\n",
    "$$\n",
    "\\varepsilon_1(a_0, a_1) = \\sum_{i=1}^N \\left|(a_0 + a_1 x_i) - y_i\\right|\n",
    "$$\n",
    "Esta função não é diferenciável para desvios nulos o que dificulta o problema.\n",
    "\n",
    "Uma abordagem mais conveniente e a mais utilizada na prática é o método dos mínimos quadrados:\n",
    "\n",
    "$$\n",
    "\\varepsilon_2(a_0, a_1) = \\sum_{i=1}^N \\left[(a_0 + a_1 x_i) - y_i\\right]^2\n",
    "$$\n",
    "\n",
    "Para se minimizar $\\varepsilon_2$, basta derivar em relação a $a_0$ e $a_1$ e igualar a zero. Com isso chega-se ao seguinte sistema de equações lineares:\n",
    "$$\n",
    "a_0\\cdot N + a_1\\sum_{i=1}^N x_i = \\sum_{i=1}^N y_i\\\\\n",
    "a_0\\sum_{i=1}^N x_i + a_1\\sum_{i=1}^N x_i^2 = \\sum_{i=1}^N x_i y_i\\\\\n",
    "$$\n",
    "\n",
    "Resolvendo este sistema linear, calculam-se os coeficientes desejados."
   ]
  },
  {
   "cell_type": "code",
   "execution_count": null,
   "metadata": {},
   "outputs": [],
   "source": [
    "function linear_fit(x, y)\n",
    "\n",
    "    \n",
    "    sx = sum(x)\n",
    "    sy = sum(y)\n",
    "\n",
    "    m = length(x)\n",
    "\n",
    "    sx2 = zero(sx)\n",
    "    sy2 = zero(sy)\n",
    "    sxy = zero(sx*sy)\n",
    "\n",
    "    for i = 1:m\n",
    "        sx2 += x[i]*x[i]\n",
    "        sy2 += y[i]*y[i]\n",
    "        sxy += x[i]*y[i]\n",
    "    end\n",
    "\n",
    "    a0 = (sx2*sy - sxy*sx) / ( m*sx2 - sx*sx )\n",
    "    a1 = (m*sxy - sx*sy) / (m*sx2 - sx*sx)\n",
    "\n",
    "    return (a0, a1)\n",
    "end"
   ]
  },
  {
   "cell_type": "code",
   "execution_count": null,
   "metadata": {},
   "outputs": [],
   "source": [
    "a0, a1 = linear_fit(x, y)\n",
    "\n",
    "plot(x, y, \"rs\")\n",
    "plot(x, a0 .+ a1*x, \"b-\")"
   ]
  },
  {
   "cell_type": "markdown",
   "metadata": {},
   "source": [
    "# Será que dá para generalizar?\n",
    "\n",
    "É comum que se queira forçar que a reta passe pela origem. Ou se queira ajustar uma parábola ou um polinômio de ordem n qualquer. Pode-se desejar utilizar outras funções de ajuste.\n",
    "\n",
    "Aqui será proposto uma abordagem mais genérica para o ajuste de curva. O problema de ajuste de curva utilizando o método dos mínimos quadrados linear consiste em encontrar os coeficiente $a_i$ da expressão a seguir\n",
    "$$\n",
    "y^\\delta(x) = \\sum_{i=1}^n a_i\\phi_i(x)\n",
    "$$\n",
    "que minimiza o erro:\n",
    "$$\n",
    "\\varepsilon_2 = \\sum_{k=1}^m \\left\\{ \\left[\\sum_{i=1}^n a_i\\phi_i(x_k)\\right]^2 - y_k\\right\\}\n",
    "$$\n",
    "como os pontos $x_k$ são conhecidos, pode-se escrever isso como\n",
    "$$\n",
    "\\varepsilon_2 = \\sum_{k=1}^m \\left[ \\left(\\sum_{i=1}^n a_i\\phi_{ki}\\right)^2 - y_k\\right]\n",
    "$$\n",
    "onde $\\phi_{ki} = \\phi_i(x_k)$\n",
    "\n",
    "Para se minimizar este erro, devemos calcular as derivadas\n",
    "$$\n",
    "\\frac{\\partial\\varepsilon_2}{\\partial a_j} = 0 \\qquad 1 \\le j \\le n\n",
    "$$\n",
    "\n",
    "Com isso, chegamos ao seguinte sistema linear:\n",
    "$$\n",
    "\\sum_{i=1}^n\\left[ \\sum_{k=1}^m \\phi_{ki}\\phi_{kj}\\right] = \\sum_{k=1}^m y_k\\phi_{kj} \\qquad 1 \\le j \\le n\n",
    "$$\n",
    "\n",
    "Para o caso de uma reta, \n",
    "$$\n",
    "\\phi_{k1} = 1\\\\\n",
    "\\phi_{k2} = x_k\n",
    "$$\n",
    "onde se chega ao sistema linear obtido acima.\n",
    "\n",
    "Caso se deseje qua a reta passe pela origem, basta fazer com quq n=1 e $\\phi_{k1} = x_k$. Assim, a solução tem a seguinte forma:\n",
    "\n",
    "$$\n",
    "a = \\frac{\\sum_{i=1}^m x_i y_i}{\\sum_{i=1}^m x_i^2}\n",
    "$$"
   ]
  },
  {
   "cell_type": "code",
   "execution_count": null,
   "metadata": {},
   "outputs": [],
   "source": [
    "a = sum(x .* y) / sum(x .* x)\n",
    "\n",
    "plot(x, y, \"rs\")\n",
    "plot(x, a*x, \"b-\")"
   ]
  },
  {
   "cell_type": "code",
   "execution_count": null,
   "metadata": {},
   "outputs": [],
   "source": [
    "function least_squares(y, ϕ)\n",
    "    m = length(y)\n",
    "    n = size(ϕ, 2)\n",
    "    \n",
    "    if size(ϕ,1) != m\n",
    "        error(\"O número de linhas de ϕ deve ter o mesmo comprimento de x e y\")\n",
    "    end\n",
    "    A = zeros(n,n)\n",
    "    b = zeros(n)\n",
    "    s = 0.0\n",
    "    for i = 1:n\n",
    "        for j in 1:i\n",
    "            s = 0.0\n",
    "            for k = 1:m\n",
    "                s += ϕ[k,i] * ϕ[k,j]\n",
    "            end\n",
    "            A[j,i] = s\n",
    "            A[i,j] = s\n",
    "        end\n",
    "        s = 0.0\n",
    "        for k = 1:m\n",
    "            s += y[k] * ϕ[k,i]\n",
    "        end\n",
    "        b[i] = s\n",
    "    end\n",
    "    \n",
    "    return A\\b\n",
    "    \n",
    "end\n"
   ]
  },
  {
   "cell_type": "code",
   "execution_count": null,
   "metadata": {},
   "outputs": [],
   "source": [
    "n = length(x)\n",
    "ϕ = zeros(n, 2)\n",
    "ϕ[:,1] .= 1.0\n",
    "ϕ[:,2] .= x\n",
    "\n",
    "fit = least_squares(y, ϕ)\n",
    "fit[1] - a0, fit[2] - a1"
   ]
  },
  {
   "cell_type": "code",
   "execution_count": null,
   "metadata": {},
   "outputs": [],
   "source": [
    "ϕ₀ = collect(x)\n",
    "aa = least_squares(y, ϕ₀)[1]\n",
    "\n",
    "aa ≈ a"
   ]
  },
  {
   "cell_type": "code",
   "execution_count": null,
   "metadata": {},
   "outputs": [],
   "source": [
    "f(x) = 1.0 + x*(2.0 + 3.0x)\n",
    "x1 = 0:0.5:5\n",
    "y1 = f.(x1)\n",
    "nx = length(x1)\n",
    "ϕ₂ = [fill(1.0, nx) x1 x1.*x1]\n",
    "fit = least_squares(y1, ϕ₂)\n",
    "\n",
    "fit[1] ≈ 1.0, fit[2] ≈ 2.0, fit[3]≈3.0"
   ]
  },
  {
   "cell_type": "markdown",
   "metadata": {},
   "source": [
    "# Esta formulação é bem genérica\n",
    "\n",
    "Vamos imaginar que estamos fazendo um experimento de transferência de calor e desejamos ajustar uma curva para o número de Nusselt:\n",
    "\n",
    "$$\n",
    "Nu = a_0\\cdot Re^{a_1} \\cdot Pr^{a_2}\n",
    "$$\n",
    "\n",
    "Como determinar os coeficientes acima?"
   ]
  },
  {
   "cell_type": "code",
   "execution_count": null,
   "metadata": {},
   "outputs": [],
   "source": [
    "# Colocando uns números aleatŕios:\n",
    "np = 100\n",
    "Re = 3960 * rand(np) .+ 40  # Reynolds entre 40 e 4000\n",
    "Pr = rand(np) .+ 0.5 # Pr entre 0.5 e 1.5\n",
    "\n",
    "Nu = 0.683 * Re.^0.466 .* Pr.^ 0.3333;"
   ]
  },
  {
   "cell_type": "code",
   "execution_count": null,
   "metadata": {},
   "outputs": [],
   "source": [
    "ϕ₃ = [fill(1.0, np) log.(Re) log.(Pr)]\n",
    "\n",
    "fit = least_squares(log.(Nu), ϕ₃)\n",
    "\n",
    "a₀, a₁, a₂ = exp(fit[1]), fit[2], fit[3]\n",
    "\n",
    "a₀≈0.683, a₁≈0.466, a₂≈0.3333"
   ]
  },
  {
   "cell_type": "markdown",
   "metadata": {},
   "source": [
    "# E uma função para ajuste polinomial genérica?"
   ]
  },
  {
   "cell_type": "code",
   "execution_count": null,
   "metadata": {},
   "outputs": [],
   "source": [
    "function poly_fit(x, y, ndeg)\n",
    "    n = ndeg + 1\n",
    "    m = length(x)\n",
    "    \n",
    "    ϕ = zeros(m, n)\n",
    "    ϕ[:,1] .= 1.0\n",
    "    for i = 2:n\n",
    "        ϕ[:,i] .= x .^ (i-1)\n",
    "    end\n",
    "    \n",
    "    return least_squares(y, ϕ)\n",
    "end\n"
   ]
  },
  {
   "cell_type": "code",
   "execution_count": null,
   "metadata": {},
   "outputs": [],
   "source": [
    "poly_fit(x1, y1, 2)"
   ]
  },
  {
   "cell_type": "code",
   "execution_count": null,
   "metadata": {},
   "outputs": [],
   "source": [
    "poly_fit(x1, y1, 3)"
   ]
  },
  {
   "cell_type": "code",
   "execution_count": null,
   "metadata": {},
   "outputs": [],
   "source": [
    "poly_fit(x1, y1, 5)"
   ]
  },
  {
   "cell_type": "markdown",
   "metadata": {},
   "source": [
    "# Será que esta é a melhor abordagem para ajuste polinomial?"
   ]
  },
  {
   "cell_type": "code",
   "execution_count": null,
   "metadata": {},
   "outputs": [],
   "source": [
    "xx = 0:0.01:1\n",
    "plot(xx, xx)\n",
    "plot(xx, xx.^2)\n",
    "plot(xx, xx.^3)\n",
    "plot(xx, xx.^4)\n",
    "plot(xx, xx.^5)\n",
    "plot(xx, xx.^6)\n",
    "plot(xx, xx.^7)\n",
    "plot(xx, xx.^8)\n",
    "plot(xx, xx.^9)\n",
    "\n"
   ]
  },
  {
   "cell_type": "markdown",
   "metadata": {},
   "source": [
    "### Normas\n",
    "\n",
    "Agora precisamos pensar usando álgebra linear. Podemos definir $P_n^{a,b}$ que é o espaço dos polinômios de \n",
    "grau igual ou menor a n definidos no intervalo $a \\le x \\le b$\n",
    "\n",
    "Com $f,g \\in P_n^{a,b}$ e $\\alpha,\\beta\\in \\mathcal{R}$, podemos definir as operações de adição, multiplicação por um número real. Isto satisfaz a definição de um espaço vetorial (lembra de álgebra linear???). Definindo uma norma, temos um espaço vetorial com norma. \n",
    "\n",
    "Como se poderia definir uma norma? Existem algumas possibilidades:\n",
    "\n",
    "$$\n",
    "\\left\\| f \\right\\|_\\infty = \\max_{a\\le x \\le b} \\left| f(x)\\right|\n",
    "$$\n",
    "\n",
    "ou \n",
    "\n",
    "$$\n",
    "\\left\\| f \\right\\|_1 = \\int_a^b \\left| f(x) \\right| \\: dx\n",
    "$$\n",
    "\n",
    "ou \n",
    "\n",
    "$$\n",
    "\\left\\| f \\right\\|_2 = \\int_a^b f^2(x) \\: dx \\qquad\\text{Norma Euclidiana}\n",
    "$$\n",
    "\n",
    "ou de uma maneira mais geral:\n",
    "$$\n",
    "\\left\\| f \\right\\|_p = \\int_a^b \\left|f(x)\\right|^p \\: dx\n",
    "$$"
   ]
  },
  {
   "cell_type": "markdown",
   "metadata": {},
   "source": [
    "### Produto interno \n",
    "\n",
    "Também podemos definir um produto interno:\n",
    "$$\n",
    "\\langle f, g \\rangle = \\int_a^b f(x)\\cdot g(x) \\:dx\n",
    "$$\n",
    "\n",
    "Esse produto interno gera a norma Euclidiana:\n",
    "$$\n",
    "\\langle f, f \\rangle = \\int_a^b f^2(x) \\:dx \\equiv \\left\\| f \\right\\|_2\n",
    "$$\n",
    "\n",
    "Pode ser conveniente usar um peso:\n",
    "$$\n",
    "\\langle f, g \\rangle_w = \\int_a^b w(x) \\cdot f(x)\\cdot g(x) \\:dx\n",
    "$$\n",
    "\n"
   ]
  },
  {
   "cell_type": "markdown",
   "metadata": {},
   "source": [
    "### Bases e bases ortogonais\n",
    "\n",
    "Qualquer polinômio de grau n, pode ser escrito como\n",
    "$$\n",
    "p_n(x) = a_0 + a_1 x + a_2 x^2 + \\cdots + a_n x^n = \\sum_{i=0}^n a_i x^i\n",
    "$$\n",
    "As funções $x^i$ para $0\\le i\\le n$ formam uma base para o espaço dos polinômios de grau n. Mas esta base não é ortogonal. Usando algum processo de ortogonalização, por exemplo Gram-Schmidt pode-se chegar a uma base ortogonal.\n",
    "\n",
    "Para polinômios definidos em $-1\\le x \\le 1$, o processo de ortogonalização leva aos polinômios de Legendre:\n",
    "$$\n",
    "\\langle L_n, L_m \\rangle = \\int_{-1}^1 L_n(x) L_m(x)\\:dx = \\frac{2}{2n + 1} \\delta_{nm}\n",
    "$$\n",
    "\n",
    "Para o peso da forma \n",
    "$$\n",
    "w(x) = \\left(1 - x\\right)^\\alpha  \\left(1 + x\\right)^\\beta\n",
    "$$\n",
    "chegamos aos polinômios de Jacobi $P^{(\\alpha,\\beta)}_n(x)$:\n",
    "$$\n",
    "\\int_{-1}^1 \\left(1 - x\\right)^\\alpha  \\left(1 + x\\right)^\\beta P^{(\\alpha,\\beta)}_n(x) P^{(\\alpha,\\beta)}_m(x) \\:dx = \\frac{2^{\\alpha + \\beta + 1}}{2n + \\alpha + \\beta + 1} \\frac{\\Gamma(n+\\alpha+1)\\Gamma(n+\\beta+1)}{\\Gamma(n + \\alpha + \\beta + 1)n!} \\cdot \\delta_{nm}\n",
    "$$"
   ]
  },
  {
   "cell_type": "markdown",
   "metadata": {},
   "source": [
    "# Aproximação\n",
    "\n",
    "## Teorema da aproximação de Weierstrass\n",
    "\n",
    "Suponha que f é definida e contínua em $[a,b]$. Para cada $\\varepsilon > 0$, existe um polinômio $P(x)$ com a propriedade que \n",
    "\n",
    "$$\n",
    "\\left| f(x) - P(x) \\right| < \\varepsilon \\qquad \\text{Para todo } x \\in [a,b]\n",
    "$$\n",
    "\n",
    "Além de polinômios serem práticos e fáceis de usar, também permitem aproximar quaisquer função contínua.\n",
    "\n",
    "\n",
    "## Polynômios de Chebyshev $T_n(x)$\n",
    "\n",
    "Demonstra-se que os polinômios de Chebyshev são os que melhor aproximam funções suaves. Os polinômios de Chebyshev estão diretamente relacionados aos polinômios de Jacobi:\n",
    "\n",
    "$$\n",
    "T_n(x) = c_n \\cdot P_n^{(-\\frac{1}{2},-\\frac{1}{2})}(x)\n",
    "$$\n",
    "\n",
    "de modo que\n",
    "\n",
    "$$\n",
    "\\int_{-1}^1 \\frac{T_n(x) T_m(x)}{\\sqrt{1-x^2}}\\:dx = \\left\\{\\begin{matrix}0 & n\\ne m\\\\ \\pi & n=m=0\\\\ \\frac{\\pi}{2} & n=m\\ne 0\\end{matrix}\\right.\n",
    "$$\n",
    "\n",
    "Está relacionado com a função consseno:\n",
    "$$\n",
    "T_n(x) = \\cos\\left(n\\arccos x\\right)\n",
    "$$\n",
    "\n",
    "Lembram dos pontos $\\cos\\left(\\frac{k \\pi}{N}\\right)$ para $0 \\le k \\le N$? Estão relacionados com os extremos de $T_n(x)$ e os zeros de $T_n(x)$ são \n",
    "$$\n",
    "x_k = \\cos\\left[\\frac{\\left(k + \\frac{1}{2}\\right)\\pi}{n}\\right], \\qquad k = 0, \\ldots, n-1\n",
    "$$"
   ]
  },
  {
   "cell_type": "markdown",
   "metadata": {},
   "source": [
    "# Como aproximar funções?\n",
    "\n",
    "Seja uma função $f(x)$ como representá-las por outras funções mais simples ou convenientes?\n",
    "$$\n",
    "f(x) \\approx g(x) = \\sum_{i=1}^n a_i\\phi_i(x)\n",
    "$$\n",
    "\n",
    "Precisamos determinar $a_i$ para a família de funções $\\phi_i(x)$. Daí surgem duas questões:\n",
    "\n",
    " * Que família $\\phi_i(x)$ escolher? (qual a base que vamos usar)\n",
    " * Como calcular $a_i$?\n",
    "\n",
    "## Método dos resíduos ponderados\n",
    "\n",
    "Queremos minimizar o erro da representação. O erro é dados por \n",
    "$$\n",
    "\\varepsilon(x) = \\sum_{i=1}^n a_i\\phi_i(x) - f(x)\n",
    "$$\n",
    "\n",
    "Então escolhemos uma família de pesos $w_k(x)$ de modo que \n",
    "$$\n",
    "\\int_a^b w(x)\\varepsilon(x)\\:dx = 0 \\quad\\longrightarrow\\quad \\int_a^b w_k(x) \\cdot f(x) \\:dx = \\int_a^b w_k(x) \\cdot \\left[\\sum_{i=1}^n a_i\\phi_i(x)\\right] \\:dx \n",
    "$$\n",
    "\n",
    "### Método da colocação\n",
    "Uma possibilidade é escolher alguns pontos $x_k$ e impor que a aproximação seja exata *nesses pontos*\n",
    "\n",
    "$$\n",
    "\\sum_{i=1}^n a_i\\phi_i(x_k) = f(x_k)\n",
    "$$\n",
    "Esta situação consiste em escolher os pesos como\n",
    "$$\n",
    "w_k(x) = \\delta(x-x_k)\n",
    "$$\n",
    "Onde $\\delta(x)$ é o $\\delta$ de Dirac.\n",
    "\n",
    "### Método dos mínimos quadrados\n",
    "Outra possibilidade é minimizar o quadrado do erro:\n",
    "$$\n",
    "E(a_1, a_2, \\ldots, a_n) = \\int_a^b \\varepsilon^2(x)\\:dx\n",
    "$$\n",
    "O mínimo ocorre quando\n",
    "$$\n",
    "\\frac{\\partial E}{\\partial a_k} = 0 \\qquad k = 1, \\ldots, n\n",
    "$$\n",
    "Para se fazer isso, basta usar os pesos\n",
    "$$\n",
    "w_k(x) = \\frac{\\partial\\varepsilon}{\\partial a_k}\n",
    "$$\n",
    "\n",
    "### Método dos volumes finitos\n",
    "\n",
    "Divide-se o domínio em elementos adjacentes separados pelos pontos $a = x_0 < x_1 < x_2 < \\ldots < x_n=b$\n",
    "Definimos o elemento $V_k$ como a região com $x_{k-1} \\le x \\le x_k$ onde $k=1, \\ldots, n$. \n",
    "\n",
    "O peso $w_k(x)$ vale:\n",
    "$$\n",
    "w_k(x) = \\left\\{ \\begin{matrix} 1 & x\\in V_k \\\\ 0 & x \\not\\in V_k \\end{matrix}\\right.\n",
    "$$\n",
    "\n",
    "\n",
    "### Método de Galerkin\n",
    "Usam-se as mesmas funções para aproximar e minimizar o erro:\n",
    "$$\n",
    "w_k(x) = \\phi_k(x)\n",
    "$$\n",
    "\n",
    "Assim, \n",
    "$$\n",
    "\\int_a^b \\left\\{\\phi_k(x) \\sum_{i=1}^n a_i\\phi_i(x)\\right\\}\\:dx = \\int_a^b \\phi_k(x) f(x)\\:dx\n",
    "$$\n",
    "O que se transforma em \n",
    "$$\n",
    "\\left[M\\right]\\left\\{a\\right\\} = \\left\\{F\\right\\}\n",
    "$$\n",
    "onde \n",
    "$$\n",
    "M_{ki} = \\int_a^b \\phi_i(x)\\phi_k(x) \\:dx \\qquad \\text{é a matrix de massa}\n",
    "$$\n",
    "e\n",
    "$$\n",
    "F_k = \\int_a^b\\phi_k(x) f(x)\\:dx\n",
    "$$\n",
    "\n",
    "-------"
   ]
  },
  {
   "cell_type": "markdown",
   "metadata": {},
   "source": [
    "# Pacotes\n",
    "\n",
    " * <https://github.com/pjabardo/CurveFit.jl> Algumas funções para ajuste de curva simples\n",
    " * <https://github.com/JuliaNLSolvers/LsqFit.jl> Um pacote mais profissa e completo\n",
    " * <https://github.com/JuliaStats/GLM.jl> Um pacote geral de estatística para modelos lineares\n",
    "\n",
    " ------"
   ]
  },
  {
   "cell_type": "markdown",
   "metadata": {},
   "source": [
    "# Problemas\n",
    "\n",
    "\n"
   ]
  },
  {
   "cell_type": "markdown",
   "metadata": {},
   "source": [
    "# Problema 1:\n",
    "\n",
    "Ache uma interpolação polinomial para a curva de calibração de um anemômetro de fio quente onde para diferentes velocidades $U_i$ se conhece a resposta $E_i$ em volts do anemômetro."
   ]
  },
  {
   "cell_type": "code",
   "execution_count": null,
   "metadata": {},
   "outputs": [],
   "source": [
    "Uc= [0.495, 0.637, 0.809, 1.058, 1.331, 1.702, 2.173, 2.786, 3.561, 4.508, 5.780, 7.417, 9.449, 12.272, \n",
    "    15.637, 20.074];\n",
    "Ec = [1.46, 1.485, 1.511, 1.543, 1.574, 1.609, 1.646, 1.688, 1.732, 1.778, 1.828, 1.885, 1.944, \n",
    "    2.014, 2.084, 2.16];\n"
   ]
  },
  {
   "cell_type": "code",
   "execution_count": null,
   "metadata": {},
   "outputs": [],
   "source": [
    "plot(Uc, Ec, \"bo\")"
   ]
  },
  {
   "cell_type": "markdown",
   "metadata": {},
   "source": [
    "# Problema 2\n",
    "\n",
    "O perfil de velocidades em uma camada limite turbulenta rugosa pode ser representada por uma lei de potência:\n",
    "\n",
    "$$\n",
    "\\frac{u(z)}{u_{ref}} = \\left(\\frac{z}{z_{ref}}\\right)^\\alpha\n",
    "$$\n",
    "\n",
    "A partir dos dados medidos em túnel de vento abaixo, calcule o expoente $\\alpha$ do perfil de velocidades. A velocidade está em m/s e as alturas estão em mm."
   ]
  },
  {
   "cell_type": "code",
   "execution_count": null,
   "metadata": {},
   "outputs": [],
   "source": [
    "u = [6.36,  6.65 , 6.95,  6.97 , 7.13 , 7.30 , 7.62,  7.70 , 7.68,  7.86 , 7.97,  8.30,\n",
    "     8.12,  8.75,  8.64,  9.01,  9.16 , 9.38,  9.60,  9.72,  9.77, 10.02, 10.30, 10.30,\n",
    "    10.74, 11.04, 11.38, 11.68, 11.44, 11.67, 11.80, 12.06, 12.24, 12.52]\n",
    "z = [ 80,  90, 100, 110, 120, 130, 140, 150, 160, 170, 180, 190, 200, 220, 240, 260, 280, 300, 320,\n",
    "     340, 360, 380, 400, 420, 460, 500, 540, 580, 600, 620, 660, 700, 740, 780];"
   ]
  },
  {
   "cell_type": "code",
   "execution_count": null,
   "metadata": {},
   "outputs": [],
   "source": [
    "plot(U,z, \"bo\")"
   ]
  },
  {
   "cell_type": "markdown",
   "metadata": {},
   "source": [
    "# Problema 3\n",
    "\n",
    "A região próxima ao solo de uma camada limite turbulenta pode ser representada pela lei da parede:\n",
    "\n",
    "$$\n",
    "\\frac{u(z)}{u_*} = \\frac{1}{\\kappa}\\ln\\frac{z}{z_0}\n",
    "$$\n",
    "\n",
    "nesta equação $\\kappa \\approx 0.4$ é a constante de von Karman, $u_*$ é a velocidade de atrito que vale\n",
    "$$\n",
    "u_* = \\sqrt{\\frac{\\tau_w}{\\rho}}\n",
    "$$\n",
    "onde $\\tau_w$ é a tensão de cisalhamento na parede e $\\rho$ é a densidade do ar.\n",
    "e $z_0$ é o comprimento de rugosidade.\n",
    "\n",
    "A partir do perfil de velocidades do problema anterior, estime a velocidade de atrito $u_*$ e comprimento de rugosidade $z_0$. Use apenas os pontos abaixo de $z=400$ mm."
   ]
  },
  {
   "cell_type": "markdown",
   "metadata": {},
   "source": [
    "# Problema 4\n",
    "\n",
    "Um modelo semi-empírico para o comportamento de um anemômetro de fio quente é dado pela lei de King:\n",
    "\n",
    "$$\n",
    "E^2 = A + B \\cdot \\sqrt{U}\n",
    "$$\n",
    "onde E é a tensão no anemômetro de U a velocidade do ar.\n",
    "\n",
    "Use a curva de calibração do problema 1 para estimar as constantes A e B.\n",
    "\n",
    "Na prática o desempenho da lei de King não é muito boa. A lei de King modificada apresenta resultados melhores:\n",
    "$$\n",
    "E^2 = A + B \\cdot U^n\n",
    "$$\n",
    "Usando a mesma curva de calibração, estime as consantes A, B e n. (cuidado, este é um problema não linear)\n"
   ]
  }
 ],
 "metadata": {
  "@webio": {
   "lastCommId": "3bac0b9bf015485aa1a066a54eaf5d86",
   "lastKernelId": "01bffa3a-3cd8-4123-b27f-bb49e3717624"
  },
  "kernelspec": {
   "display_name": "Julia 1.1.0",
   "language": "julia",
   "name": "julia-1.1"
  },
  "language_info": {
   "file_extension": ".jl",
   "mimetype": "application/julia",
   "name": "julia",
   "version": "1.1.0"
  }
 },
 "nbformat": 4,
 "nbformat_minor": 2
}
