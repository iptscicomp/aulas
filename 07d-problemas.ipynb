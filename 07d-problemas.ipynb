{
 "cells": [
  {
   "cell_type": "markdown",
   "metadata": {},
   "source": [
    "# Problemas da aula 7"
   ]
  },
  {
   "cell_type": "markdown",
   "metadata": {},
   "source": [
    "## Recursos úteis para esta aula\n",
    "\n",
    "\n",
    "Além da bibliografia já recomendada, existem dois livros muito interessantes:\n",
    "\n",
    " * Um clássico e referência básica: Hildebrand, F. B. \"Introduction to Numerical Analysis\", Dover Publications, 1987.\n",
    " * Um livro prático que é muito útil neste curso: Trefethen, Lloyd N., \"Spectral Methods in MATLAB\", SIAM, 2000.\n",
    " \n",
    "Novamente, Julia já apresenta vários pacotes relevantes aos temas desta aula (algumas já citadas e usadas):\n",
    "\n",
    " * `SymPy` <https://github.com/JuliaPy/SymPy.jl>: Álgebra simbólica usando a bibliocate python `sympy`\n",
    " * `SymEngine` <https://github.com/symengine/symengine>: Álgebra simbólica usando a biblioteca C++ `symengine`\n",
    " * `Reduce` <https://github.com/chakravala/Reduce.jl>: Interface Julia para o pacote de álgebra simbólica Reduce (<https://reduce-algebra.sourceforge.io/>).\n",
    " * FDM <https://github.com/invenia/FDM.jl/blob/master/src/methods.jl>: Diferenças finitas em Julia\n",
    " * `FDM` <https://github.com/wesselb/fdm: outro pacote de diferenças finitas\n",
    " * `DiffEqOperators` <https://github.com/JuliaDiffEq/DiffEqOperators.jl>: operadores para equações diferenciais parciais usando diferenças finitas\n",
    " * `ApproxFun` <https://github.com/JuliaApproximation/ApproxFun.jl>: aproximação de funções e derivadas (e um montão de outras coisas)\n",
    " * `Jacobi` <https://github.com/pjabardo/Jacobi.jl>: Quadratura de Gauss e derivadas\n",
    " * <http://www.juliadiff.org/>: Página com links para diferentes pacotes relacionados a diferenciação automática.\n",
    " <!-- TEASER_END -->"
   ]
  },
  {
   "cell_type": "markdown",
   "metadata": {},
   "source": [
    "## Problema 1\n",
    "\n",
    "Encontre uma expressão para a segunda derivada numérica para pontos igualmente espaçados com espaçamento h"
   ]
  },
  {
   "cell_type": "code",
   "execution_count": null,
   "metadata": {},
   "outputs": [],
   "source": []
  },
  {
   "cell_type": "markdown",
   "metadata": {},
   "source": [
    "## Problema 2\n",
    "\n",
    "No notebook `07b-derivada-numerica.ipynb` foi construída um operador (uma matriz) para calcular as derivadas em todos os pontos. Use uma matriz tridiagonal para calcular a derivada $df/dx$ de uma função qualquer para $n$ nós igualmente espaçados entre os pontos a e b.\n",
    "\n"
   ]
  },
  {
   "cell_type": "code",
   "execution_count": null,
   "metadata": {},
   "outputs": [],
   "source": []
  },
  {
   "cell_type": "markdown",
   "metadata": {},
   "source": [
    "## Problema 3\n",
    "\n",
    "Use a matriz do problema anterior para calcular a segunda e terceira derivada. Compare com a solução analítica de alguma função simples\n"
   ]
  },
  {
   "cell_type": "code",
   "execution_count": null,
   "metadata": {},
   "outputs": [],
   "source": []
  },
  {
   "cell_type": "markdown",
   "metadata": {},
   "source": [
    "## Problema 4\n",
    "Um dos problemas da matriz empregada no problema 2 é que nas extremidades, a derivada é aproximada por um esquema de 1a ordem. Deduza uma expressão de segunda ordem para as duas extremidades. Calcule a segunda e terceira derivada e compare os erros, inclusive no meio do domínio.\n",
    "\n",
    "Dica: agora a matriz tridiagonal não será o suficiente. Pode-se usar matrizes cheias mas aí existe um desperdício de memória e tempo computacional. Uma alternativa é utilizar matrizes esparsas <https://docs.julialang.org/en/v1/stdlib/SparseArrays/>. Outra possibilidade melhor é utilizar matrizes em banda. Um pacote Julia para este tipo de matriz está disponível em <https://github.com/JuliaMatrices/BandedMatrices.jl>"
   ]
  },
  {
   "cell_type": "code",
   "execution_count": null,
   "metadata": {},
   "outputs": [],
   "source": []
  },
  {
   "cell_type": "markdown",
   "metadata": {},
   "source": [
    "## Problema 5\n",
    "\n",
    "A técnica básica para resolver equações não lineares do tipo\n",
    "\n",
    "$$\n",
    "f(x) = 0\n",
    "$$\n",
    "\n",
    "é o método de Newton-Raphson. Neste método, a partir de um chute inicial $x_0$, é feita uma estimativa $x_1$, em seguida, $x_2$, $\\ldots$, $\\x_n$ e se tivermos sorte este processo converge para uma solução do problema.\n",
    "\n",
    "Como $x_0$ não é solução do problema, queremos encontrar $\\Delta x$ que forneça uma estimativa melhor da solução:\n",
    "\n",
    "$$\n",
    "f(x + \\Delta x) = 0 \\:\\Longrightarrow\\: f(x+\\Delta x) \\approx f(x) + \\Delta x\\cdot f'(x) = 0 \\:\\Longrightarrow\\: \\Delta x = -\\frac{f(x)}{f'(x)}\n",
    "$$\n",
    "\n",
    "\n",
    "Escreva uma função `newtonraphson` que recebe uma função e um chute inicial para encontrar um zero."
   ]
  },
  {
   "cell_type": "code",
   "execution_count": null,
   "metadata": {},
   "outputs": [],
   "source": []
  }
 ],
 "metadata": {
  "@webio": {
   "lastCommId": "b38f3b013870437f84e07c3b680f97b0",
   "lastKernelId": "9c27fc66-e897-4497-bad2-ff2d745dd127"
  },
  "kernelspec": {
   "display_name": "Julia 1.1.0",
   "language": "julia",
   "name": "julia-1.1"
  },
  "language_info": {
   "file_extension": ".jl",
   "mimetype": "application/julia",
   "name": "julia",
   "version": "1.1.0"
  }
 },
 "nbformat": 4,
 "nbformat_minor": 2
}
