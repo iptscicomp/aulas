{
 "cells": [
  {
   "cell_type": "markdown",
   "metadata": {},
   "source": [
    "# Integração numérica\n",
    "\n",
    "Também conhecido na literatura como quadratura.\n",
    "\n",
    "Como calcular\n",
    "\n",
    "$$\n",
    "\\int_a^b f(\\xi)\\:d\\xi\n",
    "$$\n",
    "\n",
    "para uma função qualquer?\n",
    "\n",
    " * Na mão: difícil mesmo nos casos mais simples\n",
    " * No computador com cálculo simbólico: útil algumas vezes mas pouco eficiente\n",
    " * Métodos numéricos - na prático o que é usado.\n"
   ]
  },
  {
   "cell_type": "markdown",
   "metadata": {},
   "source": [
    "# Usar as funções aproximadas!\n",
    "\n",
    "É bom lembrar que chegamos em várias maneiras para aproximar uma função:\n",
    "\n",
    "$$\n",
    "y = f(x) \\approx y^\\delta = \\sum_{i=1}^n a_i\\phi_i(x)\n",
    "$$\n",
    "\n",
    "Uma primeira possibilidade é integrar termo a termo:\n",
    "\n",
    "$$\n",
    "\\int_a^bf(\\xi)\\:d\\xi \\approx \\sum_{i=1}^n a_i\\int_a^b\\phi_i(\\xi)\\:d\\xi\n",
    "$$\n",
    "\n",
    "Como $\\phi_i(x)$ foram escolhidos levando em conta simplicidade, esta abordagem pode ser utilizada. "
   ]
  },
  {
   "cell_type": "markdown",
   "metadata": {},
   "source": [
    "# Regra do ponto médio:\n",
    "\n",
    "Dados os pontos $x_1, x_2, \\ldots, x_n$, usando interpoladores constantes"
   ]
  },
  {
   "cell_type": "code",
   "execution_count": null,
   "metadata": {},
   "outputs": [],
   "source": [
    "using PyPlot\n",
    "using CurveFit\n",
    "using BenchmarkTools"
   ]
  },
  {
   "cell_type": "code",
   "execution_count": null,
   "metadata": {},
   "outputs": [],
   "source": [
    "x = 0:0.1:1\n",
    "xx = 0:0.002:1\n",
    "f(x) = sin(π*x) + 0.5 + cos(x)\n",
    "y = f.(x);\n",
    "yy = f.(xx);"
   ]
  },
  {
   "cell_type": "code",
   "execution_count": null,
   "metadata": {},
   "outputs": [],
   "source": [
    "plot(xx, yy, \"b-\")\n",
    "plot(x, y, \"rs\")\n",
    "\n",
    "nx = length(x)\n",
    "\n",
    "lty = \"k-\"\n",
    "\n",
    "for i in 1:nx-1\n",
    "    xm = 0.5 * (x[i] + x[i+1])\n",
    "    ym = f(xm)\n",
    "    plot([x[i], x[i], x[i+1], x[i+1]], [0, ym, ym, 0], lty )\n",
    "    plot([xm, xm], [0, ym], \"k:\")\n",
    "    \n",
    "end\n"
   ]
  },
  {
   "cell_type": "markdown",
   "metadata": {},
   "source": [
    "Analisando a figura acima, pode-se facilmante ver que a integral vale (para pontos igualmente espaçados):\n",
    "\n",
    "$$\n",
    "\\int_a^b f(\\xi)\\:d\\xi \\approx \\frac{b-a}{n-1} \\sum_{i=1}^{n-1}\\left[ f\\left(x_{i+\\frac{1}{2}}\\right) \\right]\n",
    "$$"
   ]
  },
  {
   "cell_type": "code",
   "execution_count": null,
   "metadata": {},
   "outputs": [],
   "source": [
    "\n",
    "function midrule(a, b, f, n)\n",
    "    dx = (b-a) / n\n",
    "    x = range(a, b, length=n+1)\n",
    "    s = 0.0\n",
    "    for i in 1:n\n",
    "        s += f(x[i]+dx/2)\n",
    "    end\n",
    "    \n",
    "    return dx * s\n",
    "end\n",
    "    "
   ]
  },
  {
   "cell_type": "code",
   "execution_count": null,
   "metadata": {},
   "outputs": [],
   "source": [
    "## Análise de convergência:\n",
    "\n",
    "nn = 2:1000\n",
    "a = 0.0\n",
    "b = 1.0\n",
    "Ie = 2/π + 0.5 + sin(1)\n",
    "\n",
    "Inn = midrule.(a, b, f, nn);\n",
    "err = abs.(Inn .- Ie);"
   ]
  },
  {
   "cell_type": "code",
   "execution_count": null,
   "metadata": {},
   "outputs": [],
   "source": [
    "power_fit(nn, err)"
   ]
  },
  {
   "cell_type": "code",
   "execution_count": null,
   "metadata": {},
   "outputs": [],
   "source": [
    "loglog(nn, err, \"bo\")\n",
    "xlabel(\"n\")\n",
    "ylabel(\"ε\")\n",
    "nn1 = 10:300\n",
    "ee1 = 5 .* nn1.^(-2)\n",
    "plot(nn1, ee1, \"r--\")\n",
    "text(50, 0.005, L\"$\\mathcal{O}(n^{-2})$\")"
   ]
  },
  {
   "cell_type": "code",
   "execution_count": null,
   "metadata": {},
   "outputs": [],
   "source": [
    "@benchmark midrule(a, b, f, 100000)"
   ]
  },
  {
   "cell_type": "markdown",
   "metadata": {},
   "source": [
    "Assim, a estimativa do erro vale:\n",
    "\n",
    "$$\n",
    "\\varepsilon = \\mathcal{O}\\left(n^{-2}\\right)\n",
    "$$"
   ]
  },
  {
   "cell_type": "markdown",
   "metadata": {},
   "source": [
    "# Regra do trapézio\n",
    "\n",
    "Agora, ao invés de usar interpolação consante entre os pontos, pode-se ligar os pontos por retas."
   ]
  },
  {
   "cell_type": "code",
   "execution_count": null,
   "metadata": {},
   "outputs": [],
   "source": [
    "function trapezoidal(a, b, f, n)\n",
    "    x = range(a, b, length=n+1)\n",
    "    \n",
    "    s = f(x[1])/2 + f(x[end])/2\n",
    "    \n",
    "    for i in 2:n\n",
    "        s += f(x[i])\n",
    "    end\n",
    "    \n",
    "    return (b-a) * s/n\n",
    "end\n",
    "    "
   ]
  },
  {
   "cell_type": "code",
   "execution_count": null,
   "metadata": {},
   "outputs": [],
   "source": [
    "\n",
    "Inn2 = trapezoidal.(a, b, f, nn);\n",
    "err2 = abs.(Inn2 .- Ie);"
   ]
  },
  {
   "cell_type": "code",
   "execution_count": null,
   "metadata": {},
   "outputs": [],
   "source": [
    "loglog(nn, err2, \"bo\")\n",
    "xlabel(\"n\")\n",
    "ylabel(\"ε\")\n",
    "nn1 = 10:300\n",
    "ee1 = 5 .* nn1.^(-2)\n",
    "plot(nn1, ee1, \"r--\")\n",
    "text(50, 0.005, L\"$\\mathcal{O}(n^{-2})$\")"
   ]
  },
  {
   "cell_type": "code",
   "execution_count": null,
   "metadata": {},
   "outputs": [],
   "source": [
    "@benchmark trapezoidal(a, b, f, 100000)"
   ]
  },
  {
   "cell_type": "code",
   "execution_count": null,
   "metadata": {},
   "outputs": [],
   "source": [
    "trapezoidal(a, b, f, 100000) - Ie"
   ]
  },
  {
   "cell_type": "code",
   "execution_count": null,
   "metadata": {},
   "outputs": [],
   "source": [
    "lmid = loglog(nn, err, \"b-\", label=\"Mid Point\")\n",
    "xlabel(\"n\")\n",
    "ylabel(\"ε\")\n",
    "ltrap = plot(nn, err2, \"r-\", label=\"Trapezoidal\")\n",
    "ltrap2 = plot(nn, 2err, \"g:\", label=L\"2 $\\times$ Mid Point\")\n",
    "legend()\n"
   ]
  },
  {
   "cell_type": "markdown",
   "metadata": {},
   "source": [
    "# Regra de Simpson\n",
    "\n",
    "Usa três pontos para aproximar uma parábola:\n",
    "\n",
    "$$\n",
    "\\int_{i-1}^{i+1} f(x)\\:dx = S_i(h) = \\frac{h}{3}\\left[f(x_{i-1}) + 4f(x_i) + f(x_{i+1})\\right]\n",
    "$$\n",
    "\n",
    "Assim, no domínio inteiro, \n",
    "\n",
    "$$\n",
    "\\int_a^b f(x)\\:dx \\approx \\frac{h}{3}\\left[f(x_1) + 4f(x_2) + 2f(x_3) + 4f(x_4) + \\ldots + 2f(x_{n-2}) + 4f(x_{n-1}) + f(x_n)\\right]\n",
    "$$"
   ]
  },
  {
   "cell_type": "code",
   "execution_count": null,
   "metadata": {},
   "outputs": [],
   "source": [
    "# Detalhe n tem que ser divisível por 2.\n",
    "function simpsonsrule(a, b, f, n)\n",
    "    x = range(a, b, length=n+1)\n",
    "    \n",
    "    s = f(x[1]) + f(x[end])\n",
    "    w, w2 = 4,2\n",
    "    for i = 2:n\n",
    "        s += w*f(x[i])\n",
    "        w, w2 = w2, w\n",
    "    end\n",
    "    \n",
    "    return s * (b-a)/(3n)\n",
    "end"
   ]
  },
  {
   "cell_type": "code",
   "execution_count": null,
   "metadata": {},
   "outputs": [],
   "source": [
    "nn2 = 2:2:1000\n",
    "Inn3 = simpsonsrule.(a, b, f, nn2);\n",
    "err3 = abs.(Inn3 .- Ie);"
   ]
  },
  {
   "cell_type": "code",
   "execution_count": null,
   "metadata": {},
   "outputs": [],
   "source": [
    "loglog(nn2, err3, \"bo\")\n",
    "xlabel(\"n\")\n",
    "ylabel(\"ε\")\n",
    "nn1 = 10:300\n",
    "ee1 = 5 .* nn1.^(-4)\n",
    "plot(nn1, ee1, \"r--\")\n",
    "text(50, 0.000002, L\"$\\mathcal{O}(n^{-4})$\")"
   ]
  },
  {
   "cell_type": "code",
   "execution_count": null,
   "metadata": {},
   "outputs": [],
   "source": [
    "@benchmark simpsonsrule(a, b, f, 100000)"
   ]
  },
  {
   "cell_type": "code",
   "execution_count": null,
   "metadata": {},
   "outputs": [],
   "source": [
    "simpsonsrule(a, b, f, 300) - Ie"
   ]
  },
  {
   "cell_type": "code",
   "execution_count": null,
   "metadata": {},
   "outputs": [],
   "source": [
    "@benchmark simpsonsrule(a, b, f, 300)\n",
    "\n"
   ]
  },
  {
   "cell_type": "markdown",
   "metadata": {},
   "source": [
    "# Generalização do processo\n",
    "\n",
    "Usando as idéias acima com interpoladores polinomiais de ordem crescente pode-se obter regras de ordem superior para a integração. Com isso se chegam às formulas de Newton-Cotes (<https://en.wikipedia.org/wiki/Newton%E2%80%93Cotes_formulas>)\n",
    "\n",
    "**Cuidado com isso!!!** Lembre-se das oscilações dos polinômios de Lagrange.\n"
   ]
  },
  {
   "cell_type": "markdown",
   "metadata": {},
   "source": [
    "# Integração de Romberg\n",
    "\n",
    "Um processo parecido com a extrapolação de Richardson (veremos isso mais tarde). Suponhamos que queremos estimar\n",
    "\n",
    "$$\n",
    "\\int_a^b f(\\xi) \\: d\\xi\n",
    "$$\n",
    "\n",
    "Uma primeira aproximação é usar a regra do trapézio nas extremidades:\n",
    "\n",
    "$$\n",
    "I = \\int_a^b f(\\xi) \\: d\\xi \\approx T_0 = \\frac{h_0}{2}\\left[f(x_0) + f(x_0+h_0)\\right] \\qquad h_0 = b-a\n",
    "$$\n",
    "\n",
    "Dividindo os intervalos por dois sequencialmente, obtém-se:\n",
    "\n",
    "$$\n",
    "\\begin{align*}\n",
    "T_0 &= \\frac{h_0}{2}\\left[f(x_0) + f(x_0+h_0)\\right] \\\\\n",
    "T_1 &= \\frac{h_1}{2}\\left[f(x_0) + 2f(x_0+h_1) + f(x_0 + 2h_1)\\right] \\\\\n",
    "\\vdots & \\\\\n",
    "T_k &= \\frac{h_k}{2}\\left[f(x_0) + 2\\sum_{i=1}^{2^k-1}f(x_0+ih_k) + f(x_0 + 2^kh_k)\\right]\n",
    "\\end{align*}\n",
    "$$\n",
    "onde \n",
    "\n",
    "$$h_k = \\frac{b-a}{2^k}$$\n",
    "\n",
    "O erro da integral vale:\n",
    "\n",
    "$$\n",
    "\\epsilon_k = I - T_k\n",
    "$$\n",
    "\n",
    "Lembrando que a regra do trapézio tem convergência quadrática,\n",
    "\n",
    "$$\n",
    "\\epsilon_{k+1} \\approx \\frac{1}{4}\\epsilon_k\n",
    "$$\n",
    "\n",
    "Assim, para $k=0, 1, \\ldots$\n",
    "$$\n",
    "I = T_0 + \\epsilon_0,\\\\\n",
    "I = T_1 + \\epsilon_1 \\simeq  T_1 + \\frac{1}{4}\\epsilon_0 = T_1 + \\frac{1}{4}(I - T_0) \\Longrightarrow I \\simeq \\frac{4T_1 - T_0}{3}\n",
    "$$\n",
    "\n",
    "Este processo pode ser generalizado:\n",
    "\n",
    "$$\n",
    "I^1_k = \\frac{4T_k - T_{k-1}}{3}\n",
    "$$"
   ]
  },
  {
   "cell_type": "code",
   "execution_count": null,
   "metadata": {},
   "outputs": [],
   "source": [
    "function romberg1(a, b, f, n)\n",
    "    R = zeros(n, n)\n",
    "    h = Float64(b-a)\n",
    "    R[1,1] = h/2 * (f(a) - f(b))\n",
    "    \n",
    "    for i in 2:n\n",
    "        s = 0.0\n",
    "        for k in 1:(2^(i-2))\n",
    "            s += f(a + (k-0.5)*h)\n",
    "        end\n",
    "        R[1,i] = 0.5 * (R[1,i-1] + h * s)\n",
    "        for k in 2:i\n",
    "            R[k,i] = R[k-1,i] + (R[k-1,i] - R[k-1,i-1]) / (4^(k-1) - 1)\n",
    "        end\n",
    "        h = h/2\n",
    "    end\n",
    "    \n",
    "    return R\n",
    "end\n"
   ]
  },
  {
   "cell_type": "code",
   "execution_count": null,
   "metadata": {},
   "outputs": [],
   "source": [
    "romberg1(0, π, sin, 6)"
   ]
  },
  {
   "cell_type": "code",
   "execution_count": null,
   "metadata": {},
   "outputs": [],
   "source": [
    "function romberg(a, b, f, n)\n",
    "    R1 = zeros(n)\n",
    "    R2 = zeros(n)\n",
    "    h = Float64(b-a)\n",
    "    R1[1] = h/2 * (f(a) - f(b))\n",
    "    for i in 2:n\n",
    "        s = 0.0\n",
    "        for k in 1:(2^(i-2))\n",
    "            s += f(a + (k-0.5)*h)\n",
    "        end\n",
    "        R2[1] = 0.5 * (R1[1] + h * s)\n",
    "        for k in 2:i\n",
    "            R2[k] = R2[k-1] + (R2[k-1] - R1[k-1]) / (4^(k-1) - 1)\n",
    "        end\n",
    "        for k in 1:i\n",
    "            R1[k] = R2[k]\n",
    "        end\n",
    "        h = h/2\n",
    "    end\n",
    "    \n",
    "    return R2[n]\n",
    "    \n",
    "end\n"
   ]
  },
  {
   "cell_type": "code",
   "execution_count": null,
   "metadata": {},
   "outputs": [],
   "source": [
    "function romberg(a, b, f, n)\n",
    "    R1 = zeros(n)\n",
    "    R2 = zeros(n)\n",
    "    h = Float64(b-a)\n",
    "    R1[1] = h/2 * (f(a) - f(b))\n",
    "    for i in 2:n\n",
    "        s = 0.0\n",
    "        for k in 1:(2^(i-2))\n",
    "            s += f(a + (k-0.5)*h)\n",
    "        end\n",
    "        R2[1] = 0.5 * (R1[1] + h * s)\n",
    "        for k in 2:i\n",
    "            R2[k] = R2[k-1] + (R2[k-1] - R1[k-1]) / (4^(k-1) - 1)\n",
    "        end\n",
    "        for k in 1:i\n",
    "            R1[k] = R2[k]\n",
    "        end\n",
    "        h = h/2\n",
    "    end\n",
    "    \n",
    "    return R2[n]\n",
    "    \n",
    "end\n"
   ]
  },
  {
   "cell_type": "code",
   "execution_count": null,
   "metadata": {},
   "outputs": [],
   "source": [
    "@btime romberg(a, b, f, 20)"
   ]
  },
  {
   "cell_type": "code",
   "execution_count": null,
   "metadata": {},
   "outputs": [],
   "source": [
    "\n",
    "nn4 = 1:20\n",
    "Inn4 = romberg.(a, b, f, nn4);\n",
    "nh4 = 2 .^ nn3\n",
    "err4 = abs.(Inn4 .- Ie);"
   ]
  },
  {
   "cell_type": "code",
   "execution_count": null,
   "metadata": {},
   "outputs": [],
   "source": [
    "loglog(nn3, err4, \"bo\")"
   ]
  },
  {
   "cell_type": "code",
   "execution_count": null,
   "metadata": {},
   "outputs": [],
   "source": [
    "f\n"
   ]
  },
  {
   "cell_type": "markdown",
   "metadata": {},
   "source": [
    "## Abordagem usual\n",
    "\n",
    "A abordagem mais comum é escolher uns nós e escolher pesos de integração adequados:\n",
    "\n",
    "$$\n",
    "\\int_a^bf(\\xi)\\:d\\xi \\approx \\sum_{i=1}^n w_i f(x_i)\n",
    "$$\n",
    "\n",
    "Falta agora determinar os pesos $w_i$. No caso de interpolação polynomial, usando os nós $x_i$,  *sempre* se pode encontrar interpoladores de Lagrange equivalentes:\n",
    "\n",
    "$$\n",
    "\\sum_{i=1}^n a_i \\phi_i(x) \\equiv \\sum_{i=1}^n f(x_i) h_i(x)\n",
    "$$\n",
    "onde $\\phi_i(x)$ é parte de alguma família de *polinômios* e $h_i(x)$ é o interpolador de Lagrange\n"
   ]
  },
  {
   "cell_type": "code",
   "execution_count": null,
   "metadata": {},
   "outputs": [],
   "source": []
  },
  {
   "cell_type": "code",
   "execution_count": null,
   "metadata": {},
   "outputs": [],
   "source": []
  },
  {
   "cell_type": "code",
   "execution_count": null,
   "metadata": {},
   "outputs": [],
   "source": []
  },
  {
   "cell_type": "code",
   "execution_count": null,
   "metadata": {},
   "outputs": [],
   "source": [
    "?text"
   ]
  },
  {
   "cell_type": "code",
   "execution_count": null,
   "metadata": {},
   "outputs": [],
   "source": []
  },
  {
   "cell_type": "code",
   "execution_count": null,
   "metadata": {},
   "outputs": [],
   "source": []
  },
  {
   "cell_type": "code",
   "execution_count": null,
   "metadata": {},
   "outputs": [],
   "source": []
  },
  {
   "cell_type": "code",
   "execution_count": null,
   "metadata": {},
   "outputs": [],
   "source": []
  },
  {
   "cell_type": "code",
   "execution_count": null,
   "metadata": {},
   "outputs": [],
   "source": []
  },
  {
   "cell_type": "code",
   "execution_count": null,
   "metadata": {},
   "outputs": [],
   "source": []
  },
  {
   "cell_type": "markdown",
   "metadata": {},
   "source": [
    "# Problemas\n",
    "\n",
    "## Problema 1\n",
    "\n",
    "Faça uma função para calcular a integral usando a regra do ponto médio com pontos cujo espaçamento não é igual\n"
   ]
  },
  {
   "cell_type": "code",
   "execution_count": null,
   "metadata": {},
   "outputs": [],
   "source": []
  },
  {
   "cell_type": "markdown",
   "metadata": {},
   "source": [
    "## Problema 2\n",
    "Faça uma função para calcular a integral usando a regra do trapézio com pontos cujo espaçamento não é igual\n"
   ]
  },
  {
   "cell_type": "code",
   "execution_count": null,
   "metadata": {},
   "outputs": [],
   "source": []
  }
 ],
 "metadata": {
  "@webio": {
   "lastCommId": "7f593d56a8e945d38b2d7d7c9a3026a9",
   "lastKernelId": "a750d2cb-3d24-4f3c-b4bf-d86c70fdd087"
  },
  "kernelspec": {
   "display_name": "Julia 1.1.0",
   "language": "julia",
   "name": "julia-1.1"
  },
  "language_info": {
   "file_extension": ".jl",
   "mimetype": "application/julia",
   "name": "julia",
   "version": "1.1.0"
  }
 },
 "nbformat": 4,
 "nbformat_minor": 2
}
