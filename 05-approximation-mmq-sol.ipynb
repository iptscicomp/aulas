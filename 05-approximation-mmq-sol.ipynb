{
 "cells": [
  {
   "cell_type": "markdown",
   "metadata": {},
   "source": [
    "# Aula 5: Solução dos exercícios\n",
    "\n",
    "Este notebook apresenta a solução dos problemas propostos na aula 5.\n",
    "\n",
    "A solução utiliza as subrotinas apresentadas na aula 5 e repetidas neste notebook.\n",
    "\n",
    "-----\n",
    "\n",
    "<!-- TEASER_END -->"
   ]
  },
  {
   "cell_type": "code",
   "execution_count": null,
   "metadata": {},
   "outputs": [],
   "source": [
    "using PyPlot"
   ]
  },
  {
   "cell_type": "code",
   "execution_count": null,
   "metadata": {},
   "outputs": [],
   "source": [
    "function linear_fit(x, y)\n",
    "\n",
    "    \n",
    "    sx = sum(x)\n",
    "    sy = sum(y)\n",
    "\n",
    "    m = length(x)\n",
    "\n",
    "    sx2 = zero(sx)\n",
    "    sy2 = zero(sy)\n",
    "    sxy = zero(sx*sy)\n",
    "\n",
    "    for i = 1:m\n",
    "        sx2 += x[i]*x[i]\n",
    "        sy2 += y[i]*y[i]\n",
    "        sxy += x[i]*y[i]\n",
    "    end\n",
    "\n",
    "    a0 = (sx2*sy - sxy*sx) / ( m*sx2 - sx*sx )\n",
    "    a1 = (m*sxy - sx*sy) / (m*sx2 - sx*sx)\n",
    "\n",
    "    return (a0, a1)\n",
    "end"
   ]
  },
  {
   "cell_type": "code",
   "execution_count": null,
   "metadata": {},
   "outputs": [],
   "source": [
    "function least_squares(y, ϕ)\n",
    "    m = length(y)\n",
    "    n = size(ϕ, 2)\n",
    "    \n",
    "    if size(ϕ,1) != m\n",
    "        error(\"O número de linhas de ϕ deve ter o mesmo comprimento de x e y\")\n",
    "    end\n",
    "    A = zeros(n,n)\n",
    "    b = zeros(n)\n",
    "    s = 0.0\n",
    "    for i = 1:n\n",
    "        for j in 1:i\n",
    "            s = 0.0\n",
    "            for k = 1:m\n",
    "                s += ϕ[k,i] * ϕ[k,j]\n",
    "            end\n",
    "            A[j,i] = s\n",
    "            A[i,j] = s\n",
    "        end\n",
    "        s = 0.0\n",
    "        for k = 1:m\n",
    "            s += y[k] * ϕ[k,i]\n",
    "        end\n",
    "        b[i] = s\n",
    "    end\n",
    "    \n",
    "    return A\\b\n",
    "    \n",
    "end\n"
   ]
  },
  {
   "cell_type": "code",
   "execution_count": null,
   "metadata": {},
   "outputs": [],
   "source": [
    "function poly_fit(x, y, ndeg)\n",
    "    n = ndeg + 1\n",
    "    m = length(x)\n",
    "    \n",
    "    ϕ = zeros(m, n)\n",
    "    ϕ[:,1] .= 1.0\n",
    "    for i = 2:n\n",
    "        ϕ[:,i] .= x .^ (i-1)\n",
    "    end\n",
    "    \n",
    "    return least_squares(y, ϕ)\n",
    "end\n"
   ]
  },
  {
   "cell_type": "markdown",
   "metadata": {},
   "source": [
    "# Pacotes\n",
    "\n",
    " * <https://github.com/pjabardo/CurveFit.jl> Algumas funções para ajuste de curva simples\n",
    " * <https://github.com/JuliaNLSolvers/LsqFit.jl> Um pacote mais profissa e completo\n",
    " * <https://github.com/JuliaStats/GLM.jl> Um pacote geral de estatística para modelos lineares\n",
    " ------"
   ]
  },
  {
   "cell_type": "markdown",
   "metadata": {},
   "source": [
    "# Problemas\n",
    "\n",
    "\n"
   ]
  },
  {
   "cell_type": "markdown",
   "metadata": {},
   "source": [
    "# Problema 1:\n",
    "\n",
    "Ache uma interpolação polinomial para a curva de calibração de um anemômetro de fio quente onde para diferentes velocidades $U_i$ se conhece a resposta $E_i$ em volts do anemômetro."
   ]
  },
  {
   "cell_type": "code",
   "execution_count": null,
   "metadata": {},
   "outputs": [],
   "source": [
    "Uc= [0.495, 0.637, 0.809, 1.058, 1.331, 1.702, 2.173, 2.786, 3.561, 4.508, 5.780, 7.417, 9.449, 12.272, \n",
    "    15.637, 20.074];\n",
    "Ec = [1.46, 1.485, 1.511, 1.543, 1.574, 1.609, 1.646, 1.688, 1.732, 1.778, 1.828, 1.885, 1.944, \n",
    "    2.014, 2.084, 2.16];\n"
   ]
  },
  {
   "cell_type": "code",
   "execution_count": null,
   "metadata": {},
   "outputs": [],
   "source": [
    "plot(Uc, Ec, \"bo\")"
   ]
  },
  {
   "cell_type": "code",
   "execution_count": null,
   "metadata": {},
   "outputs": [],
   "source": [
    "using Polynomials"
   ]
  },
  {
   "cell_type": "code",
   "execution_count": null,
   "metadata": {},
   "outputs": [],
   "source": [
    "ee = range(1.3, 2.3, length=101)\n",
    "p1 = Poly(poly_fit(Ec, Uc, 2))\n",
    "plot(Uc, Ec, \"bo\")\n",
    "plot(p1.(ee), ee, \"r-\")\n"
   ]
  },
  {
   "cell_type": "code",
   "execution_count": null,
   "metadata": {},
   "outputs": [],
   "source": [
    "p1 = Poly(poly_fit(Ec, Uc, 3))\n",
    "plot(Uc, Ec, \"bo\")\n",
    "plot(p1.(ee), ee, \"r-\")\n"
   ]
  },
  {
   "cell_type": "code",
   "execution_count": null,
   "metadata": {},
   "outputs": [],
   "source": [
    "p1 = Poly(poly_fit(Ec, Uc, 4))\n",
    "plot(Uc, Ec, \"bo\")\n",
    "plot(p1.(ee), ee, \"r-\")\n"
   ]
  },
  {
   "cell_type": "code",
   "execution_count": null,
   "metadata": {},
   "outputs": [],
   "source": [
    "p1 = Poly(poly_fit(Ec, Uc, 5))\n",
    "plot(Uc, Ec, \"bo\")\n",
    "plot(p1.(ee), ee, \"r-\")\n"
   ]
  },
  {
   "cell_type": "code",
   "execution_count": null,
   "metadata": {},
   "outputs": [],
   "source": [
    "p1 = Poly(poly_fit(Ec, Uc, 6))\n",
    "plot(Uc, Ec, \"bo\")\n",
    "plot(p1.(ee), ee, \"r-\")\n"
   ]
  },
  {
   "cell_type": "code",
   "execution_count": null,
   "metadata": {},
   "outputs": [],
   "source": [
    "p1 = Poly(poly_fit(Ec, Uc, 7))\n",
    "plot(Uc, Ec, \"bo\")\n",
    "plot(p1.(ee), ee, \"r-\")\n",
    "\n"
   ]
  },
  {
   "cell_type": "code",
   "execution_count": null,
   "metadata": {},
   "outputs": [],
   "source": [
    "p1 = Poly(poly_fit(Ec, Uc, 10))\n",
    "plot(Uc, Ec, \"bo\")\n",
    "plot(p1.(ee), ee, \"r-\")\n"
   ]
  },
  {
   "cell_type": "markdown",
   "metadata": {},
   "source": [
    "# Problema 2\n",
    "\n",
    "O perfil de velocidades em uma camada limite turbulenta rugosa pode ser representada por uma lei de potência:\n",
    "\n",
    "$$\n",
    "\\frac{u(z)}{u_{ref}} = \\left(\\frac{z}{z_{ref}}\\right)^\\alpha\n",
    "$$\n",
    "\n",
    "A partir dos dados medidos em túnel de vento abaixo, calcule o expoente $\\alpha$ do perfil de velocidades. A velocidade está em m/s e as alturas estão em mm."
   ]
  },
  {
   "cell_type": "code",
   "execution_count": null,
   "metadata": {},
   "outputs": [],
   "source": [
    "u = [6.36,  6.65 , 6.95,  6.97 , 7.13 , 7.30 , 7.62,  7.70 , 7.68,  7.86 , 7.97,  8.30,\n",
    "     8.12,  8.75,  8.64,  9.01,  9.16 , 9.38,  9.60,  9.72,  9.77, 10.02, 10.30, 10.30,\n",
    "    10.74, 11.04, 11.38, 11.68, 11.44, 11.67, 11.80, 12.06, 12.24, 12.52]\n",
    "z = [ 80,  90, 100, 110, 120, 130, 140, 150, 160, 170, 180, 190, 200, 220, 240, 260, 280, 300, 320,\n",
    "     340, 360, 380, 400, 420, 460, 500, 540, 580, 600, 620, 660, 700, 740, 780];"
   ]
  },
  {
   "cell_type": "code",
   "execution_count": null,
   "metadata": {},
   "outputs": [],
   "source": [
    "zref = 50.0\n",
    "logu = log.(u)\n",
    "logz = log.(z/zref)\n",
    "fit = linear_fit(logz, logu)\n",
    "α = fit[2]\n",
    "uref = exp(fit[1])\n",
    "\n",
    "zz = 1:1000\n",
    "ufun(z, α, uref, zref=10) = uref * (z/zref)^α\n",
    "uu = ufun.(zz, α, uref, zref)\n",
    "\n",
    "plot(u,z, \"bo\")\n",
    "plot(uu, zz, \"r-\")\n",
    "\n",
    "\n",
    "println(\"α = \", round(α, digits=3))"
   ]
  },
  {
   "cell_type": "markdown",
   "metadata": {},
   "source": [
    "# Problema 3\n",
    "\n",
    "A região próxima ao solo de uma camada limite turbulenta pode ser representada pela lei da parede:\n",
    "\n",
    "$$\n",
    "\\frac{u(z)}{u_*} = \\frac{1}{\\kappa}\\ln\\frac{z}{z_0}\n",
    "$$\n",
    "\n",
    "nesta equação $\\kappa \\approx 0.4$ é a constante de von Karman, $u_*$ é a velocidade de atrito que vale\n",
    "$$\n",
    "u_* = \\sqrt{\\frac{\\tau_w}{\\rho}}\n",
    "$$\n",
    "onde $\\tau_w$ é a tensão de cisalhamento na parede e $\\rho$ é a densidade do ar.\n",
    "e $z_0$ é o comprimento de rugosidade.\n",
    "\n",
    "A partir do perfil de velocidades do problema anterior, estime a velocidade de atrito $u_*$ e comprimento de rugosidade $z_0$. Use apenas os pontos abaixo de $z=400$ mm."
   ]
  },
  {
   "cell_type": "code",
   "execution_count": null,
   "metadata": {},
   "outputs": [],
   "source": [
    "κ = 0.4\n",
    "idx = z .< 400\n",
    "z1 = z[idx]\n",
    "u1 = u[idx]\n",
    "logz = log.(z1)\n",
    "\n",
    "fit = linear_fit(logz, u1)\n",
    "uₜ = fit[2] * κ\n",
    "z₀ = exp(-fit[1]/fit[2])\n",
    "ufun2(z, uₜ, z₀, κ=0.4) = uₜ/κ * log(z/z₀)\n",
    "\n",
    "uu2 = ufun2.(zz, uₜ, z₀)\n",
    "\n",
    "plot(u, z, \"bo\")\n",
    "plot(u1, z1, \"rs\")\n",
    "plot(uu2, zz, \"r-\")\n",
    "\n",
    "println(\"Modelo z₀ = \", round(z₀, digits=2), \" mm\")\n",
    "println(\"Protótipo z₀ = \", round(z₀/5, digits=2), \" m\")\n"
   ]
  },
  {
   "cell_type": "code",
   "execution_count": null,
   "metadata": {},
   "outputs": [],
   "source": [
    "semilogy(u, z, \"bo\")\n",
    "plot(u1, z1, \"rs\")\n",
    "zz3 = 80:800\n",
    "uu3 = ufun2.(zz3, uₜ, z₀)\n",
    "plot(uu3, zz3, \"r-\")\n"
   ]
  },
  {
   "cell_type": "markdown",
   "metadata": {},
   "source": [
    "# Problema 4\n",
    "\n",
    "Um modelo semi-empírico para o comportamento de um anemômetro de fio quente é dado pela lei de King:\n",
    "\n",
    "$$\n",
    "E^2 = A + B \\cdot \\sqrt{U}\n",
    "$$\n",
    "onde E é a tensão no anemômetro de U a velocidade do ar.\n",
    "\n",
    "Use a curva de calibração do problema 1 para estimar as constantes A e B.\n",
    "\n",
    "Na prática o desempenho da lei de King não é muito boa. A lei de King modificada apresenta resultados melhores:\n",
    "$$\n",
    "E^2 = A + B \\cdot U^n\n",
    "$$\n",
    "Usando a mesma curva de calibração, estime as consantes A, B e n. (cuidado, este é um problema não linear)\n"
   ]
  },
  {
   "cell_type": "code",
   "execution_count": null,
   "metadata": {},
   "outputs": [],
   "source": [
    "E2 = Ec.*Ec\n",
    "sU = sqrt.(Uc)\n",
    "plot(sU, E2, \"bo\")\n",
    "fit = linear_fit(E2, sU)\n",
    "sUcalc = fit[1] .+ fit[2] .* E2\n",
    "plot(sUcalc, E2, \"r-\")"
   ]
  },
  {
   "cell_type": "code",
   "execution_count": null,
   "metadata": {},
   "outputs": [],
   "source": [
    "ucalc = sUcalc.^2\n",
    "plot(Uc, Ec, \"bo\")\n",
    "plot(ucalc, Ec, \"r-\")"
   ]
  },
  {
   "cell_type": "markdown",
   "metadata": {},
   "source": [
    "### Método dos mínimos quadrados não linear\n",
    "\n",
    "Até o momento, tratamos de ajuste de curva do seguinte formato:\n",
    "\n",
    "$$\n",
    "y \\approx y^\\delta = \\sum_{i=1}^n a_i\\phi_i(x)\n",
    "$$\n",
    "Este ajuste é linear nos coeficientes $a_i$. Mas o que fazer quando esta linearidade não existe. Em alguns casos pode-se transformar a equação e se obter uma outra equação com outras variáveis que é linear. Isto foi visto ao se ajustar uma lei de potência na camada limite ou a lei da parede (log). Também se usou este expediante para se ajustar a lei de King. \n",
    "\n",
    "No entanto, esta abordagem nem sempre é conveniente ou possível. Uma outra possibilidade é tentar fazer o ajuste não linear diretamente. Neste caso, vamos utilizar um processo iterativo inspirado no método de Newton-Raphson para a solução de problemas não lineares. A equação de ajuste neste caso tem a seguinte forma:\n",
    "\n",
    "$$\n",
    "y \\approx y^\\delta = f(x, a_1, \\ldots, a_n)\n",
    "$$\n",
    "\n",
    "A partir de estimativas iniciais dos coeficientes $a_i$, $a_i^{(0)}$, expandindo este problema com uma série de Taylor, podemos chegamos à seguinte relação:\n",
    "\n",
    "$$\n",
    "y^\\delta =  f(x, a_1, \\ldots, a_n) \\approx   f(x, a_1^{(0)}, \\ldots, a_n^{(0)}) + \\sum_{i=1}^n \\Delta a_i\\left.\\frac{\\partial f}{\\partial a_i}\\right|_{a_1^{(0)}, \\ldots, a_n^{(0)}}\n",
    "$$\n",
    "\n",
    "Agora basta fazer o *ajuste linear* de \n",
    "$$\n",
    "\\tilde{y} = y -  f(x, a_1^{(0)}, \\ldots, a_n^{(0)})  = \\sum_{i=1}^n \\Delta a_i\\left.\\frac{\\partial f}{\\partial a_i}\\right|_{a_1^{(0)}, \\ldots, a_n^{(0)}}\n",
    "$$\n",
    "\n",
    "Calculado $\\Delta a_i$, \n",
    "$$\n",
    "a_i^{(1)} = a_i^{(0)} + \\Delta a_i\n",
    "$$\n",
    "O processo pode ser repetido até que $\\Delta a_i$ seja muito pequeno (critério de convergência).\n",
    "\n",
    "Observe que nas equações acima, a matrix $\\phi$ usada para fazer o ajuste tem colunas da seguinte forma:\n",
    "\n",
    "$$\n",
    "\\phi[:,i] = \\left.\\frac{\\partial f}{\\partial a_i}\\right|_{a_1^{(0)}, \\ldots, a_n^{(0)}}\n",
    "$$\n",
    "\n",
    "Em cada iteração usa-se a função para ajuste linear desenvolvida acima para se convergir a solução."
   ]
  },
  {
   "cell_type": "code",
   "execution_count": null,
   "metadata": {},
   "outputs": [],
   "source": [
    "## Mínimos quadrados não linear\n",
    "function fit_king(E, U)\n",
    "    E2 = E .* E\n",
    "    sU = sqrt.(U)\n",
    "    fit = linear_fit(sU, E2)\n",
    "    A = fit[1]\n",
    "    B = fit[2]\n",
    "    \n",
    "    return A,B\n",
    "end\n",
    "\n",
    "function fit_mod_king(E, U, err=1e-8, maxiter=100)\n",
    "    np = length(E)\n",
    "    m = 3\n",
    "    \n",
    "    A0, B0 = fit_king(E, U)\n",
    "    n0 = 0.5\n",
    "    \n",
    "    E2 = E .* E\n",
    "    \n",
    "    ϕ = zeros(np, m)\n",
    "    ϕ[:,1] .= 1.0\n",
    "    \n",
    "    \n",
    "    y = zeros(np)\n",
    "    niter = 1\n",
    "    converged = false\n",
    "    for i = 1:maxiter\n",
    "        @. y = E2 - (A0 + B0 * U^n0)\n",
    "        ϕ[:, 2] .= U.^n0\n",
    "        ϕ[:, 3] .= U.^n0 .* B0 .* log.(U)\n",
    "        fit = least_squares(y, ϕ)\n",
    "        \n",
    "        dA, dB, dn = fit[1], fit[2], fit[3]\n",
    "        A0 = A0 + dA\n",
    "        B0 = B0 + dB\n",
    "        n0 = n0 + dn\n",
    "        niter = i\n",
    "        if max(abs(dA), abs(dB), abs(dn)) < err\n",
    "            converged = true\n",
    "            break\n",
    "        end\n",
    "        \n",
    "    end\n",
    "    \n",
    "    return A0, B0, n0, niter, converged\n",
    "    \n",
    "end"
   ]
  },
  {
   "cell_type": "code",
   "execution_count": null,
   "metadata": {},
   "outputs": [],
   "source": [
    "A, B = fit_king(Ec, Uc)"
   ]
  },
  {
   "cell_type": "code",
   "execution_count": null,
   "metadata": {},
   "outputs": [],
   "source": [
    "A1, B1, n1, niter, converged = fit_mod_king(Ec, Uc, 1e-12)"
   ]
  },
  {
   "cell_type": "code",
   "execution_count": null,
   "metadata": {},
   "outputs": [],
   "source": [
    "king(E, A, B) = ( (E^2-A)/B )^2\n",
    "modking(E, A, B, n) = ( (E^2-A)/B)^(1/n)\n",
    "p4 = Poly(poly_fit(Ec, Uc, 4))\n",
    "p5 = Poly(poly_fit(Ec, Uc, 5))\n",
    "p6 = Poly(poly_fit(Ec, Uc, 6))\n",
    "\n",
    "\n",
    "Uk = king.(Ec, A, B)\n",
    "Umk = modking.(Ec, A1, B1, n1);\n",
    "\n",
    "Up4 = p4.(Ec)\n",
    "Up5 = p5.(Ec)\n",
    "Up6 = p6.(Ec)\n",
    "\n",
    "errk = (Uk - Uc) ./ Uc\n",
    "errmk = (Umk - Uc) ./ Uc\n",
    "\n",
    "errp4 = (Up4 - Uc) ./ Uc\n",
    "errp5 = (Up5 - Uc) ./ Uc\n",
    "errp6 = (Up6 - Uc) ./ Uc\n",
    "\n",
    "plot(Uc, Ec, \"bo\")\n",
    "plot(Uk, Ec, \"r-\")\n",
    "plot(Umk, Ec, \"g--\")"
   ]
  },
  {
   "cell_type": "code",
   "execution_count": null,
   "metadata": {},
   "outputs": [],
   "source": [
    "plot(Uc, errk*100, \"r-\")\n",
    "plot(Uc, errmk*100, \"b--\")\n",
    "plot(Uc, errp4*100, \"g-\")\n",
    "plot(Uc, errp5*100, \"g--\")\n",
    "\n"
   ]
  },
  {
   "cell_type": "code",
   "execution_count": null,
   "metadata": {},
   "outputs": [],
   "source": [
    "plot(Uc, errmk*100, \"b-\")\n",
    "plot(Uc, errp4*100, \"g-\")\n",
    "plot(Uc, errp5*100, \"g--\")\n",
    "plot(Uc, errp6*100, \"g:\")\n",
    "axhline(0.0)\n"
   ]
  },
  {
   "cell_type": "code",
   "execution_count": null,
   "metadata": {},
   "outputs": [],
   "source": []
  }
 ],
 "metadata": {
  "@webio": {
   "lastCommId": "c7e26c855b02439882afe30aa3ccb47d",
   "lastKernelId": "3c566f6c-be4e-4b50-804f-e1f9835e6ce9"
  },
  "kernelspec": {
   "display_name": "Julia 1.1.0",
   "language": "julia",
   "name": "julia-1.1"
  },
  "language_info": {
   "file_extension": ".jl",
   "mimetype": "application/julia",
   "name": "julia",
   "version": "1.1.0"
  }
 },
 "nbformat": 4,
 "nbformat_minor": 2
}
