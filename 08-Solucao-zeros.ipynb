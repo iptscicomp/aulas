{
 "cells": [
  {
   "cell_type": "markdown",
   "metadata": {},
   "source": [
    "# Solução dos exercícios da aula 8"
   ]
  },
  {
   "cell_type": "code",
   "execution_count": null,
   "metadata": {},
   "outputs": [],
   "source": [
    "using ForwardDiff"
   ]
  },
  {
   "cell_type": "markdown",
   "metadata": {},
   "source": [
    "# Problemas\n",
    "\n",
    "## Problema 1: Método da secante para sistemas de equações não lineares\n",
    "\n",
    "Implemente o método da secante para sistemas de equações não lineares e resolva o problema do exemplo acima\n",
    "\n",
    "<!-- TEASER_END -->"
   ]
  },
  {
   "cell_type": "markdown",
   "metadata": {},
   "source": [
    "## Solução\n",
    "\n",
    "Neste caso, não existe uma solução simples como o método da secante. Tente que você verá. O método da secante é possível pois só existe uma direção para onde a solução pode andar: ao longo do eixo x e assim é fácil \"estimar\" a derivada. \n",
    "\n",
    "No caso de um sistema, existem mais graus de liberdade e simplesmente 2 pontos não serve para estimar o Jacobiano. Posto de outra forma, para estimar o Jacobiano numericamente é necessário variar cada parâmetro de maneira independente e 2 pontos apenas não funcionam.\n",
    "\n",
    "Mas o problema básico que inspirou o método da secante ainda existe e na verdade, para sistemas de equações não lineares o problema é bem maior:\n",
    "\n",
    " * Calcular o Jacobiano $n^2$ derivadas\n",
    " * Inverter o Jacobiano, em geral com um custo de $\\mathcal{O}(n^3)$ \n",
    " \n",
    "Existem vários métodos que inspirados no método de Newton que permitem estimar a solução de sistemas de equações não lineares. Em particular existe o método de Broyden."
   ]
  },
  {
   "cell_type": "markdown",
   "metadata": {},
   "source": [
    "## Problema 2: Método de Newton para sistema\n",
    "\n",
    "Implementar o método de Newton para sistemas de equações algébricas usando diferenciação automática (use o pacote `ForwardDiff`)"
   ]
  },
  {
   "cell_type": "code",
   "execution_count": null,
   "metadata": {},
   "outputs": [],
   "source": [
    "function newtonraphson(n, f!, J!, xinit::AbstractVector, tol=1e-10, maxiter=100)\n",
    "        \n",
    "    x0 = [x for x in xinit]\n",
    "    \n",
    "    J = zeros(n,n)\n",
    "    y = zeros(n)\n",
    "    for i in 1:maxiter\n",
    "        f!(y, x0)\n",
    "        y .= .- y\n",
    "        \n",
    "        if maximum(abs, y) < tol\n",
    "            return x0, i\n",
    "        end\n",
    "        \n",
    "        J!(J, x0)\n",
    "        \n",
    "        δx = J\\y\n",
    "        \n",
    "        x0 .= x0 .+ δx\n",
    "            \n",
    "        \n",
    "    end\n",
    "    error(\"Não convergiu\")\n",
    "end\n"
   ]
  },
  {
   "cell_type": "code",
   "execution_count": null,
   "metadata": {},
   "outputs": [],
   "source": [
    "function f!(y, x)\n",
    "    y[1] = 3x[1] - cos(x[2]*x[3]) - 0.5\n",
    "    y[2] = x[1]^2 - 81*(x[2] + 0.1)^2 + sin(x[3]) + 1.06\n",
    "    y[3] = exp(-x[1]*x[2]) + 20x[3] + (10π-3)/3\n",
    "end\n",
    "\n",
    "function J!(J, x)\n",
    "    J[1,1] = 3.0\n",
    "    J[1,2] = x[3]*sin(x[2]*x[3])\n",
    "    J[1,3] = x[2]*sin(x[2]*x[3])\n",
    "    \n",
    "    J[2,1] = 2x[1]\n",
    "    J[2,2] = -162*x[2] - 16;2\n",
    "    J[2,3] = cos(x[3])\n",
    "    \n",
    "    J[3,1] = -x[2] * exp(-x[1]*x[2])\n",
    "    J[3,2] = -x[1] * exp(-x[1]*x[2])\n",
    "    J[3,3] = 20.0\n",
    "    \n",
    "end\n",
    "\n"
   ]
  },
  {
   "cell_type": "code",
   "execution_count": null,
   "metadata": {},
   "outputs": [],
   "source": [
    "newtonraphson(3, f!, J!, [0.1, 0.1, -0.1])"
   ]
  },
  {
   "cell_type": "markdown",
   "metadata": {},
   "source": [
    "Usando diferenciação automática"
   ]
  },
  {
   "cell_type": "code",
   "execution_count": null,
   "metadata": {},
   "outputs": [],
   "source": [
    "function newtonraphson2(n, f!, xinit::AbstractVector, tol=1e-10, maxiter=100)\n",
    "        \n",
    "    x0 = [x for x in xinit]\n",
    "    \n",
    "    J = zeros(n,n)\n",
    "    y0 = zeros(n)\n",
    "    y = zeros(n)\n",
    "    for i in 1:maxiter\n",
    "        f!(y, x0)\n",
    "        y .= .- y\n",
    "        \n",
    "        if maximum(abs, y) < tol\n",
    "            return x0, i\n",
    "        end\n",
    "        \n",
    "        ForwardDiff.jacobian!(J, f!, y0, x0)\n",
    "        \n",
    "        δx = J\\y\n",
    "        \n",
    "        x0 .= x0 .+ δx\n",
    "            \n",
    "        \n",
    "    end\n",
    "    error(\"Não convergiu\")\n",
    "end\n"
   ]
  },
  {
   "cell_type": "code",
   "execution_count": null,
   "metadata": {},
   "outputs": [],
   "source": [
    "newtonraphson2(3, f!, [0.1, 0.1, -0.1])"
   ]
  }
 ],
 "metadata": {
  "@webio": {
   "lastCommId": null,
   "lastKernelId": null
  },
  "kernelspec": {
   "display_name": "Julia 1.1.1",
   "language": "julia",
   "name": "julia-1.1"
  },
  "language_info": {
   "file_extension": ".jl",
   "mimetype": "application/julia",
   "name": "julia",
   "version": "1.1.1"
  }
 },
 "nbformat": 4,
 "nbformat_minor": 2
}
