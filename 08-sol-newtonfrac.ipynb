{
 "cells": [
  {
   "cell_type": "markdown",
   "metadata": {},
   "source": [
    "# Fractais de Newton\n",
    "\n",
    "## Solução do Problema 3 da aula 08\n",
    "\n",
    "\n",
    "Ao se usar o método de Newton para se resolver uma equação que possui mais de uma solução, dependendo do valor inicial o método irá convergir para alguma das soluções. \n",
    "\n",
    "O senso comum diz que haverá uma fronteira dividindo regiões que convregem para diferentes soluções. Mas a realidade é muito mais interessante.\n",
    "\n",
    "Os fractais de Newton são construídos aplicando o método de Newton a polinômios de grau qualquer *em um domínio complexo*. A wikipedia (<https://en.wikipedia.org/wiki/Newton_fractal>) mostra alguns exemplos de fractais de Newton.\n",
    "\n",
    "O problema é fazer uma função que desenhe os fractais de Newton para um polinômio qualquer.\n",
    "\n",
    "(O programa XaoS <http://matek.hu/xaos/doku.php> permite visualizar diversos tipos de fractais)\n",
    "<!-- TEASER_END -->"
   ]
  },
  {
   "cell_type": "code",
   "execution_count": null,
   "metadata": {},
   "outputs": [],
   "source": [
    "using Polynomials\n",
    "using Images\n"
   ]
  },
  {
   "cell_type": "code",
   "execution_count": null,
   "metadata": {},
   "outputs": [],
   "source": [
    "x = 2*rand(5) .- 1\n",
    "y = 2*rand(5) .- 1"
   ]
  },
  {
   "cell_type": "code",
   "execution_count": null,
   "metadata": {},
   "outputs": [],
   "source": [
    "P = Poly(x)"
   ]
  },
  {
   "cell_type": "code",
   "execution_count": null,
   "metadata": {},
   "outputs": [],
   "source": [
    "function newtonraphson(x0, f, df, tol=1e-8, maxiter=50)\n",
    "    \n",
    "    for i in 1:maxiter\n",
    "        y = f(x0)\n",
    "        dy = df(x0)\n",
    "        \n",
    "        dx = -y / dy\n",
    "        x0 = x0 + dx\n",
    "        if abs(y) < tol\n",
    "            return x0, i, true\n",
    "        end\n",
    "    end\n",
    "    \n",
    "    return x0, maxiter, false\n",
    "    \n",
    "end\n"
   ]
  },
  {
   "cell_type": "code",
   "execution_count": null,
   "metadata": {},
   "outputs": [],
   "source": [
    "struct NewtonFrac{T <: Real}\n",
    "    P::Poly{Complex{T}}\n",
    "    D::Poly{Complex{T}}\n",
    "    z::Vector{Complex{T}}\n",
    "    maxiter::Int\n",
    "    tol::T\n",
    "    function NewtonFrac(a::AbstractVector{Complex{T}}, maxiter=100, tol=1e-8) where T\n",
    "        P = Poly{Complex{T}}(a)\n",
    "        D = polyder(P)\n",
    "        z = complex(roots(P))\n",
    "        new{T}(P, D, z, maxiter, T(tol))\n",
    "    end\n",
    "end\n",
    "NewtonFrac(a::AbstractVector{T}, maxiter=100, tol=1e-8) where {T<:Real} = NewtonFrac(complex(a), maxiter, tol)\n",
    "\n",
    "import Polynomials.roots\n",
    "roots(N::NewtonFrac) = N.z\n",
    "\n",
    "nroots(N::NewtonFrac) = length(N.z)\n",
    "\n",
    "import Polynomials.poly\n",
    "import Polynomials.polyder\n",
    "\n",
    "poly(N::NewtonFrac) = N.P\n",
    "polyder(N::NewtonFrac) = N.D\n",
    "maxiter(N::NewtonFrac) = N.maxiter\n",
    "tol(N::NewtonFrac) = N.tol\n"
   ]
  },
  {
   "cell_type": "code",
   "execution_count": null,
   "metadata": {},
   "outputs": [],
   "source": [
    "NewtonFrac(1.0:10)"
   ]
  },
  {
   "cell_type": "code",
   "execution_count": null,
   "metadata": {},
   "outputs": [],
   "source": [
    "function newtonraphson(x0, N::NewtonFrac)\n",
    "    return newtonraphson(x0, poly(N), polyder(N), tol(N), maxiter(N))\n",
    "end\n"
   ]
  },
  {
   "cell_type": "code",
   "execution_count": null,
   "metadata": {},
   "outputs": [],
   "source": [
    "function cfdcolors(n)\n",
    "    x = range(0, 4, length=n)\n",
    "    \n",
    "    r = zeros(n)\n",
    "    g = zeros(n)\n",
    "    b = zeros(n)\n",
    "    \n",
    "    for i in 1:n\n",
    "        xx = x[i]\n",
    "        if xx <= 1\n",
    "            r[i] = 1.0\n",
    "            g[i] = xx\n",
    "            b[i] = 0.0\n",
    "        elseif xx <= 2\n",
    "            r[i] = 1.0 - (xx-1.0)\n",
    "            g[i] = 1.0\n",
    "            b[i] = 0.0\n",
    "        elseif xx <= 3\n",
    "            r[i] = 0.0\n",
    "            g[i] = 1.0\n",
    "            b[i] = xx-2.0\n",
    "        elseif xx <= 4.0\n",
    "            r[i] = 0.0\n",
    "            g[i] = 1.0 - (xx-3.0)\n",
    "            b[i] = 1.0\n",
    "        end\n",
    "    end\n",
    "    \n",
    "    return RGB{Float64}.(r, g, b)\n",
    "end\n",
    "        \n",
    "        "
   ]
  },
  {
   "cell_type": "code",
   "execution_count": null,
   "metadata": {},
   "outputs": [],
   "source": [
    "function rainbowcolors(n)\n",
    "\n",
    "    x = range(0, 6, length=n)\n",
    "    \n",
    "    r = zeros(n)\n",
    "    g = zeros(n)\n",
    "    b = zeros(n)\n",
    "    \n",
    "    for i in 1:n\n",
    "        xx = x[i]\n",
    "        if xx <= 1\n",
    "            r[i] = 1.0\n",
    "            g[i] = xx\n",
    "            b[i] = 0.0\n",
    "        elseif xx <= 2\n",
    "            r[i] = 1.0 - (xx-1.0)\n",
    "            g[i] = 1.0\n",
    "            b[i] = 0.0\n",
    "        elseif xx <= 3\n",
    "            r[i] = 0.0\n",
    "            g[i] = 1.0\n",
    "            b[i] = xx-2.0\n",
    "        elseif xx <= 4.0\n",
    "            r[i] = 0.0\n",
    "            g[i] = 1.0 - (xx-3.0)\n",
    "            b[i] = 1.0\n",
    "        elseif xx <= 5\n",
    "            r[i] = xx-4\n",
    "            b[i] = 1.0\n",
    "            g[i] = 0.0\n",
    "        elseif xx <= 6\n",
    "            r[i] = 1.0\n",
    "            g[i] = 0.0\n",
    "            b[i] = 1.0 - (xx-5.0)\n",
    "        end\n",
    "    end\n",
    "    \n",
    "    return RGB{Float64}.(r, g, b)\n",
    "    end\n",
    "\n",
    "    "
   ]
  },
  {
   "cell_type": "code",
   "execution_count": null,
   "metadata": {},
   "outputs": [],
   "source": [
    "rainbowcolors(12)"
   ]
  },
  {
   "cell_type": "code",
   "execution_count": null,
   "metadata": {},
   "outputs": [],
   "source": [
    "cfdcolors(12)"
   ]
  },
  {
   "cell_type": "code",
   "execution_count": null,
   "metadata": {},
   "outputs": [],
   "source": [
    "function conv2rgb(z, niter, zlst, clst, imin, imax, amin=0.6)\n",
    "    \n",
    "    nz = length(zlst)\n",
    "    \n",
    "    errmin = 1e10\n",
    "    idx = 1\n",
    "    \n",
    "    for i in 1:nz\n",
    "        err = abs(z-zlst[i])\n",
    "        if err < errmin\n",
    "            idx = i\n",
    "            errmin = err\n",
    "        end\n",
    "    end\n",
    "    \n",
    "    r = clst[idx].r\n",
    "    g = clst[idx].g\n",
    "    b = clst[idx].b\n",
    "    if imin < niter < imax\n",
    "        a = (imax - niter) / (imax-imin) * (1.0-amin) + amin\n",
    "    elseif niter <= imin\n",
    "        a = 1.0\n",
    "    else\n",
    "        a = amin\n",
    "    end\n",
    "    \n",
    "    return RGB{Float64}(r*a, g*a, b*a)\n",
    "end\n",
    "        \n",
    "    "
   ]
  },
  {
   "cell_type": "code",
   "execution_count": null,
   "metadata": {},
   "outputs": [],
   "source": [
    "function newtonfrac(N::NewtonFrac{T}, corners; dpi=200,\n",
    "            itermin=4, itermax=20, amin=0.7, blacknc=true, palette=rainbowcolors) where T\n",
    "    xleft, ybottom, xright, ytop = corners[1], corners[2], corners[3], corners[4]\n",
    "\n",
    "    Δx = xright - xleft\n",
    "    Δy = ytop - ybottom\n",
    "    \n",
    "    if Δx < Δy\n",
    "        nx = dpi\n",
    "        ny = Int(round(dpi * Δy / Δx))\n",
    "    else\n",
    "        ny = dpi\n",
    "        nx = Int(round(dpi * Δx / Δy))\n",
    "    end\n",
    "        \n",
    "    x = range(T(xleft), T(xright), length=nx)\n",
    "    y = range(T(ybottom), T(ytop), length=ny)\n",
    "    \n",
    "    nz = nroots(N)\n",
    "    zlst = roots(N)\n",
    "    clst = palette(nz)\n",
    "    \n",
    "    img = Matrix{RGB{Float64}}(undef, ny, nx)\n",
    "    \n",
    "    for i in 1:nx\n",
    "        xi = x[i]\n",
    "        for k in 1:ny\n",
    "            yk = y[k]\n",
    "            z, niter, conv = newtonraphson(xi + im*yk, N)\n",
    "            if !conv && blacknc\n",
    "                img[k,i] = RGB{Float64}(0,0,0)\n",
    "            else\n",
    "                img[k,i] = conv2rgb(z, niter, zlst, clst, \n",
    "                    itermin, itermax, amin)\n",
    "            end\n",
    "        end\n",
    "    end\n",
    "    \n",
    "    return img\n",
    "end"
   ]
  },
  {
   "cell_type": "code",
   "execution_count": null,
   "metadata": {},
   "outputs": [],
   "source": [
    "function newtonfrac(N::NewtonFrac{T}; dpi=200,\n",
    "        itermin=4, itermax=20, amin=0.7, blacknc=true, palette=rainbowcolors) where T\n",
    "    z = roots(N)\n",
    "    x = real.(z)\n",
    "    y = imag.(z)\n",
    "    \n",
    "    xmin = minimum(x)\n",
    "    xmax = maximum(x)\n",
    "    ymin = minimum(y)\n",
    "    ymax = maximum(y)\n",
    "    Δx = xmax - xmin\n",
    "    Δy = ymax - ymin\n",
    "    \n",
    "    if Δx < 0.5Δy\n",
    "        Δx = 0.5Δy\n",
    "    elseif Δy < 0.5Δx\n",
    "        Δy = 0.5Δx\n",
    "    end\n",
    "    xleft = xmin - 0.5Δx\n",
    "    xright = xmax + 0.5Δx\n",
    "\n",
    "    ybottom = ymin - 0.5Δy\n",
    "    ytop = ymax + 0.5Δy\n",
    "    \n",
    "    return newtonfrac(N, (xleft, ybottom, xright, ytop); dpi=dpi, \n",
    "        itermin=itermin, itermax=itermax, amin=amin, blacknc=blacknc, palette=palette)\n",
    "\n",
    "end\n",
    "\n",
    "    \n",
    "    \n",
    "    "
   ]
  },
  {
   "cell_type": "code",
   "execution_count": null,
   "metadata": {},
   "outputs": [],
   "source": [
    "N = NewtonFrac([1.0, 0, 0, -1, 0,0,0,0, 1.0], 500, 1e-6)\n",
    "roots(N)"
   ]
  },
  {
   "cell_type": "code",
   "execution_count": null,
   "metadata": {},
   "outputs": [],
   "source": [
    "img = newtonfrac(N, itermax=10, amin=0.5, dpi=800)"
   ]
  },
  {
   "cell_type": "code",
   "execution_count": null,
   "metadata": {},
   "outputs": [],
   "source": []
  },
  {
   "cell_type": "code",
   "execution_count": null,
   "metadata": {},
   "outputs": [],
   "source": [
    "N2 = NewtonFrac([-10.0, 2, -7, -7, -1.0, 7, 2, -6, -9, 4, 7, 1], 500, 1e-5)\n",
    "roots(N2)"
   ]
  },
  {
   "cell_type": "code",
   "execution_count": null,
   "metadata": {},
   "outputs": [],
   "source": [
    "img = newtonfrac(N2, (-1.7, -1, 1.5, 1), itermax=20, amin=0.2, dpi=500)"
   ]
  },
  {
   "cell_type": "code",
   "execution_count": null,
   "metadata": {},
   "outputs": [],
   "source": [
    "using FileIO"
   ]
  },
  {
   "cell_type": "code",
   "execution_count": null,
   "metadata": {},
   "outputs": [],
   "source": [
    "save(\"newton.png\", img)"
   ]
  },
  {
   "cell_type": "code",
   "execution_count": null,
   "metadata": {},
   "outputs": [],
   "source": []
  }
 ],
 "metadata": {
  "@webio": {
   "lastCommId": null,
   "lastKernelId": null
  },
  "kernelspec": {
   "display_name": "Julia 1.1.1",
   "language": "julia",
   "name": "julia-1.1"
  },
  "language_info": {
   "file_extension": ".jl",
   "mimetype": "application/julia",
   "name": "julia",
   "version": "1.1.1"
  }
 },
 "nbformat": 4,
 "nbformat_minor": 2
}
