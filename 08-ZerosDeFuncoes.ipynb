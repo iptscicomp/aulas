{
 "cells": [
  {
   "cell_type": "markdown",
   "metadata": {},
   "source": [
    "# Solução de sistemas de equações algébricas"
   ]
  },
  {
   "cell_type": "markdown",
   "metadata": {},
   "source": [
    "Um problema muito comum é encontrar o zero de funções, ou seja, encontrar $x$ de modo que\n",
    "\n",
    "$$\n",
    "f(x) = 0\n",
    "$$\n",
    "\n",
    "A dificuldade deste tipo de problema é que pode não haver nenhuma solução, uma ou mais de uma! \n",
    "\n",
    "São raros os casos onde existe uma solução explícita. Iteração se torna necessário. \n",
    "\n",
    "Existem várias estratégias para se encontrar a raíz. Uma abordagem bem genérica é encontrar uma outra função $g(x)$ de modo que\n",
    "\n",
    "$$\n",
    "x_{n+1} = g(x_n)\n",
    "$$\n",
    "\n",
    "convirja para a solução do problema original. O teorema do ponto fixo mostra em que condições este processo converge.\n",
    "\n",
    "<!-- TEASER_END -->"
   ]
  },
  {
   "cell_type": "markdown",
   "metadata": {},
   "source": [
    "## Método da bisecção\n",
    "\n",
    "Caso saibamos que existe uma raíz em um intervalo, podemos ir sistematicamente dividindo o domínio em dois até chegar à solução"
   ]
  },
  {
   "cell_type": "code",
   "execution_count": null,
   "metadata": {},
   "outputs": [],
   "source": [
    "function bisection(a, b, f, tol=1e-10, maxiter=1000)\n",
    "    fa = f(a)\n",
    "    fb = f(b)\n",
    "    if fa==0.0\n",
    "        return a,0\n",
    "    elseif fb==0.0\n",
    "        return fb,0\n",
    "    elseif fa*fb > 0\n",
    "        error(\"f(a) e f(b) devem ter sinais diferentes!\")\n",
    "    end\n",
    "    p = 0.0\n",
    "    for i in 1:maxiter\n",
    "        dx = (b-a) / 2\n",
    "        p = a + dx\n",
    "        fp = f(p)\n",
    "        if fp==0 || dx < tol\n",
    "            return p,i\n",
    "        end\n",
    "        if fa*fp > 0\n",
    "            a = p\n",
    "            fa = fp\n",
    "        else\n",
    "            b = p\n",
    "            fb = fp\n",
    "        end\n",
    "    end\n",
    "    \n",
    "    return p, maxiter\n",
    "    \n",
    "        \n",
    "end\n"
   ]
  },
  {
   "cell_type": "code",
   "execution_count": null,
   "metadata": {},
   "outputs": [],
   "source": [
    "g(x) = x*x-2.0\n",
    "dg(x) = 2x"
   ]
  },
  {
   "cell_type": "code",
   "execution_count": null,
   "metadata": {},
   "outputs": [],
   "source": [
    "bisection(0.0, 2.0, g)"
   ]
  },
  {
   "cell_type": "code",
   "execution_count": null,
   "metadata": {},
   "outputs": [],
   "source": [
    "function plotbisection(a, b, f, tol=1e-10, maxiter=1000)\n",
    "    fa = f(a)\n",
    "    fb = f(b)\n",
    "    if fa==0.0\n",
    "        return a,0\n",
    "    elseif fb==0.0\n",
    "        return fb,0\n",
    "    elseif fa*fb > 0\n",
    "        error(\"f(a) e f(b) devem ter sinais diferentes!\")\n",
    "    end\n",
    "    \n",
    "    xx = range(a, b, length=201)\n",
    "    plot(xx, f.(xx))\n",
    "    axvline(x=a)\n",
    "    axvline(x=b)\n",
    "    p = 0.0\n",
    "    for i in 1:maxiter\n",
    "        dx = (b-a) / 2\n",
    "        p = a + dx\n",
    "        axvline(x=p)\n",
    "        fp = f(p)\n",
    "        if fp==0 || dx < tol\n",
    "            return p,i\n",
    "        end\n",
    "        if fa*fp > 0\n",
    "            a = p\n",
    "            fa = fp\n",
    "        else\n",
    "            b = p\n",
    "            fb = fp\n",
    "        end\n",
    "    end\n",
    "    \n",
    "    return p, maxiter\n",
    "    \n",
    "    \n",
    "end"
   ]
  },
  {
   "cell_type": "code",
   "execution_count": null,
   "metadata": {},
   "outputs": [],
   "source": [
    "plotbisection(0.0, 2.0, g)"
   ]
  },
  {
   "cell_type": "markdown",
   "metadata": {},
   "source": [
    "## Método de Newton-Raphson\n",
    "\n",
    "Este é o método básico para a solução de uma equação algébrica. A idéia é expandir a função em série de Taylor em torno de um chute inicial. Mantendo apenas os dois primeiros termos da expansão, \n",
    "\n",
    "$$\n",
    "f(x + \\Delta x) = 0 \\:\\Longrightarrow\\: f(x+\\Delta x) \\approx f(x) + \\Delta x\\cdot f'(x) = 0 \\:\\Longrightarrow\\: \\Delta x = -\\frac{f(x)}{f'(x)}\n",
    "$$\n",
    "\n",
    "espera-se chegar a uma estimativa melhor da solução. Este processo pode ser repetido até que a solução convirja. Este método já foi analisado no problema 5 da aula 7.\n",
    "\n",
    "Repare que este método vai ter problema se na raíz\n",
    "\n",
    "$$\n",
    "f'(x) = 0\n",
    "$$"
   ]
  },
  {
   "cell_type": "code",
   "execution_count": null,
   "metadata": {},
   "outputs": [],
   "source": [
    "using ForwardDiff\n",
    "using PyPlot"
   ]
  },
  {
   "cell_type": "code",
   "execution_count": null,
   "metadata": {},
   "outputs": [],
   "source": [
    "function newtonraphson(f, df, x0, err=1e-10, maxiter=100)\n",
    "    niter = 0\n",
    "    for i = 1:maxiter\n",
    "        dx = f(x0) / df(x0)\n",
    "        x0 -= dx\n",
    "        niter = i\n",
    "        if abs(dx) < err\n",
    "            break\n",
    "        end\n",
    "    end\n",
    "    \n",
    "    return x0, niter\n",
    "end\n"
   ]
  },
  {
   "cell_type": "code",
   "execution_count": null,
   "metadata": {},
   "outputs": [],
   "source": [
    "newtonraphson(x->x^2-2.0, x->2x, 2)"
   ]
  },
  {
   "cell_type": "code",
   "execution_count": null,
   "metadata": {},
   "outputs": [],
   "source": [
    "newtonraphson(x->x^2-0.0, x->2x, 2)\n"
   ]
  },
  {
   "cell_type": "code",
   "execution_count": null,
   "metadata": {},
   "outputs": [],
   "source": [
    "function plotnewton(f, df, x0, a, b, err=1e-5, maxiter=100)\n",
    "    nn = 200\n",
    "    xx = range(a,b, length=nn)\n",
    "    yy = f.(xx)\n",
    "    \n",
    "    plot(xx, yy)\n",
    "    axhline(\"k\")\n",
    "    iter = 0\n",
    "    for i = 1:maxiter\n",
    "        y = f(x0)\n",
    "        dy = df(x0)\n",
    "        dx = y / dy\n",
    "        plot([x0, x0], [0.0, y], \"k:\")\n",
    "        plot([x0, x0-dx], [y, 0.0], \"k-\")\n",
    "        x0 = x0 - dx\n",
    "        if abs(dx) < err\n",
    "            return x0, i\n",
    "        end\n",
    "    end\n",
    "        \n",
    "        \n",
    "end"
   ]
  },
  {
   "cell_type": "code",
   "execution_count": null,
   "metadata": {},
   "outputs": [],
   "source": [
    "plotnewton(x->x^2-2.0, x->2x, 2.0, 1.0, 2.0)"
   ]
  },
  {
   "cell_type": "code",
   "execution_count": null,
   "metadata": {},
   "outputs": [],
   "source": [
    "plotnewton(x->x^2, x->2x, 1.0, -0.2, 1)"
   ]
  },
  {
   "cell_type": "code",
   "execution_count": null,
   "metadata": {},
   "outputs": [],
   "source": [
    "plotnewton(x->x^4, x->4x^3, 1.0, -0.2, 1)"
   ]
  },
  {
   "cell_type": "code",
   "execution_count": null,
   "metadata": {},
   "outputs": [],
   "source": [
    "plotnewton(x->x^5, x->5x^4, 1.0, -1, 1)"
   ]
  },
  {
   "cell_type": "code",
   "execution_count": null,
   "metadata": {},
   "outputs": [],
   "source": [
    "function newtonraphson2(f, x0, err=1e-10, maxiter=100)\n",
    "    niter = 0\n",
    "    for i = 1:maxiter\n",
    "        dx = f(x0) / ForwardDiff.derivative(f,x0)\n",
    "        x0 -= dx\n",
    "        niter = i\n",
    "        if abs(dx) < err\n",
    "            break\n",
    "        end\n",
    "    end\n",
    "    \n",
    "    return x0, niter\n",
    "    \n",
    "\n",
    "end"
   ]
  },
  {
   "cell_type": "markdown",
   "metadata": {},
   "source": [
    "## Método da secante\n",
    "\n",
    "Uma dificuldade do método de Newton-Raphson é a necessidade de calcular derivadas. Isto já não é um problema se diferenciação automática é utilizada. Mas o custo computacional pode ser alto. \n",
    "\n",
    "Outra possibilidade é usar derivadas numéricas. Usando uma derivada numérica simples e incorporando isso diretamente no algorítmo, chega-se ao método da secante.\n",
    "\n",
    "Dado dois chutes iniciais $x_0$ e $x_1$, existe uma reta que passa por ambos os pontos:\n",
    "\n"
   ]
  },
  {
   "cell_type": "code",
   "execution_count": null,
   "metadata": {},
   "outputs": [],
   "source": [
    "function secant(f, x0, x1, tol=1e-10, maxiter=100)\n",
    "    f0 = f(x0)\n",
    "    f1 = f(x1)\n",
    "    \n",
    "    for i in 1:maxiter\n",
    "        a = (f1-f0) / (x1-x0)\n",
    "        b = f0 - a*x0\n",
    "        \n",
    "        x0 = x1\n",
    "        f0 = f1\n",
    "        x1 = -b / a\n",
    "        f1 = f(x1)\n",
    "        if abs(f1) < tol\n",
    "            return x1, i\n",
    "        end\n",
    "    end\n",
    "    error(\"Não convergiu!\")\n",
    "end"
   ]
  },
  {
   "cell_type": "code",
   "execution_count": null,
   "metadata": {},
   "outputs": [],
   "source": [
    "secant(x->x^2-2.0, 2.5, 2.0)"
   ]
  },
  {
   "cell_type": "code",
   "execution_count": null,
   "metadata": {},
   "outputs": [],
   "source": [
    "function plotsecant(f, xl, xr, x0, x1, tol=1e-10, maxiter=100)\n",
    "    f0 = f(x0)\n",
    "    f1 = f(x1)\n",
    "    xx = range(xl, xr, length=200)\n",
    "    \n",
    "    plot(xx, f.(xx), \"k-\")\n",
    "    axhline(0)\n",
    "    plot([x0, x0], [0, f0], \"k:\")\n",
    "    plot([x1, x1], [0, f1], \"k:\")\n",
    "    \n",
    "    for i in 1:maxiter\n",
    "        a = (f1-f0) / (x1-x0)\n",
    "        b = f0 - a*x0\n",
    "        \n",
    "        \n",
    "        xn = -b/a\n",
    "        \n",
    "        plot([x0, xn], [f0, 0], \"k-\")\n",
    "        \n",
    "        x0 = x1\n",
    "        f0 = f1\n",
    "        x1 = xn\n",
    "        f1 = f(x1)\n",
    "        plot([x1, x1], [0, f1], \"k:\")\n",
    "        if abs(f1) < tol\n",
    "            return x1, i\n",
    "        end\n",
    "    end\n",
    "    error(\"Não convergiu!\")\n",
    "\n",
    "end"
   ]
  },
  {
   "cell_type": "code",
   "execution_count": null,
   "metadata": {},
   "outputs": [],
   "source": [
    "plotsecant(x->1-(x+1.5)^2, -0.5, 3.0, 2.5, 2.0)"
   ]
  },
  {
   "cell_type": "markdown",
   "metadata": {},
   "source": [
    "# Sistema de equações não lineares\n",
    "\n",
    "O problema é o mesmo mas agora queremos resolver\n",
    "\n",
    "$$\n",
    "f_1(x_1, x_2, \\ldots, x_n) = 0\\\\\n",
    "f_2(x_1, x_2, \\ldots, x_n) = 0\\\\\n",
    "\\vdots\\\\\n",
    "f_n(x_1, x_2, \\ldots, x_n) = 0\\\\\n",
    "$$\n",
    "\n",
    "Newton Raphson pode ser prontamente generalizado para sistemas:\n",
    "\n",
    "$$\n",
    "f_i\\left(x_1+\\delta x_1, x_2 + \\delta x_2, \\ldots, x_n + \\delta x_n\\right) \\approx f_i(x_1, x_2, \\ldots, x_n) + \\delta x_1 \\frac{\\partial f_i}{\\partial x_1} + \\delta x_2 \\frac{\\partial f_i}{\\partial x_2} + \\ldots + \\delta x_n \\frac{\\partial f_i}{\\partial x_n} = 0\n",
    "$$\n",
    "\n",
    "Portanto \n",
    "\n",
    "$$\n",
    "\\left[J\\right] \\cdot \\left\\{ \\delta x\\right\\} = -\\left\\{f\\right\\}\n",
    "$$\n",
    "\n",
    "onde $[J]$ é a matriz Jacobiana e vale\n",
    "\n",
    "$$\n",
    "J_{i,k} = \\left.\\frac{\\partial f_i}{\\partial x_k}\\right|_{x_1, x_2, \\ldots, x_n}\n",
    "$$\n",
    "\n",
    "Assim o algorítmo é:\n",
    "\n",
    " 1. Chute inicial $x_1^0, x_2^0, \\ldots, x_n^0$\n",
    " 2. Calcular a matriz Jacobiana\n",
    " 3. Resolver o sistema linear $\\left[J\\right] \\cdot \\left\\{ \\delta x\\right\\} = -\\left\\{f\\right\\}$\n",
    " 4. Calcular $x^1_i = x_i^0 + \\delta x_i$\n",
    " 5. Repetir até convergir\n",
    " "
   ]
  },
  {
   "cell_type": "code",
   "execution_count": null,
   "metadata": {},
   "outputs": [],
   "source": [
    "function newtonraphson(n, f!, J!, xinit::AbstractVector, tol=1e-10, maxiter=100)\n",
    "        \n",
    "    x0 = [x for x in xinit]\n",
    "    \n",
    "    J = zeros(n,n)\n",
    "    y = zeros(n)\n",
    "    for i in 1:maxiter\n",
    "        f!(y, x0)\n",
    "        y .= .- y\n",
    "        \n",
    "        if maximum(abs, y) < tol\n",
    "            return x0, i\n",
    "        end\n",
    "        \n",
    "        J!(J, x0)\n",
    "        \n",
    "        δx = J\\y\n",
    "        \n",
    "        x0 .= x0 .+ δx\n",
    "            \n",
    "        \n",
    "    end\n",
    "    error(\"Não convergiu\")\n",
    "end\n"
   ]
  },
  {
   "cell_type": "markdown",
   "metadata": {},
   "source": [
    "### Exemplo\n"
   ]
  },
  {
   "cell_type": "code",
   "execution_count": null,
   "metadata": {},
   "outputs": [],
   "source": [
    "function f!(y, x)\n",
    "    y[1] = 3x[1] - cos(x[2]*x[3]) - 0.5\n",
    "    y[2] = x[1]^2 - 81*(x[2] + 0.1)^2 + sin(x[3]) + 1.06\n",
    "    y[3] = exp(-x[1]*x[2]) + 20x[3] + (10π-3)/3\n",
    "end\n",
    "\n",
    "function J!(J, x)\n",
    "    J[1,1] = 3.0\n",
    "    J[1,2] = x[3]*sin(x[2]*x[3])\n",
    "    J[1,3] = x[2]*sin(x[2]*x[3])\n",
    "    \n",
    "    J[2,1] = 2x[1]\n",
    "    J[2,2] = -162*x[2] - 16;2\n",
    "    J[2,3] = cos(x[3])\n",
    "    \n",
    "    J[3,1] = -x[2] * exp(-x[1]*x[2])\n",
    "    J[3,2] = -x[1] * exp(-x[1]*x[2])\n",
    "    J[3,3] = 20.0\n",
    "    \n",
    "end\n",
    "\n"
   ]
  },
  {
   "cell_type": "code",
   "execution_count": null,
   "metadata": {},
   "outputs": [],
   "source": [
    "newtonraphson(3, f!, J!, [0.1, 0.1, -0.1])"
   ]
  },
  {
   "cell_type": "markdown",
   "metadata": {},
   "source": [
    "Podemos usar diferenciação automática"
   ]
  },
  {
   "cell_type": "markdown",
   "metadata": {},
   "source": [
    "# Zero de uma função como um problema de otimização\n",
    "\n",
    "Encontrar a raíz de um equação não linear pode ser reescrito como um problema de otimização. \n",
    "Se x é uma raíz de \n",
    "\n",
    "$$\n",
    "f(x) = 0\n",
    "$$\n",
    "\n",
    "então x também é o ponto que mnimiza a seguinte fução:\n",
    "\n",
    "$$\n",
    "g(x) = \\left[ f(x) \\right]^2\n",
    "$$\n",
    "\n",
    "Achar o mínimo de g(x) é o mesmo que achar o zero de f(x)\n",
    "\n",
    "**Steepest Descent**\n"
   ]
  },
  {
   "cell_type": "code",
   "execution_count": null,
   "metadata": {},
   "outputs": [],
   "source": []
  },
  {
   "cell_type": "markdown",
   "metadata": {},
   "source": [
    "# Pacotes Julia interessantes\n",
    "\n",
    "Julia possui uma diversidade de pacotes para resolver equações e sistemas de equações não lineares.\n",
    "\n",
    " * <https://github.com/JuliaMath/Roots.jl>: implementa diversos métodos para resolver equações não lineares.\n",
    " * <https://github.com/JuliaIntervals/IntervalRootFinding.jl> é um pacote muito interessantes que permite encontrar *todas* as raízed de uma equação ou sistema em um intervalo\n",
    " * <https://github.com/JuliaNLSolvers/NLsolve.jl>: implementa métodos para resolver sistemas de equações não lineares\n",
    " * <https://github.com/JuliaMath/Polynomials.jl>: Este nosso velho amigo permite encontrar todas as raízes de um polinômio\n",
    " * <https://github.com/giordano/PolynomialRoots.jl>: Pacote para encontrar *todas* as raízes de polinômios\n",
    " * <https://github.com/JuliaApproximation/ApproxFun.jl> também permite encontrar as raízes de aproximações"
   ]
  },
  {
   "cell_type": "markdown",
   "metadata": {},
   "source": [
    "# Problemas\n",
    "\n",
    "## Problema 1: Método da secante para sistemas de equações não lineares\n",
    "\n",
    "Implemente o método da secante para sistemas de equações não lineares e resolva o problema do exemplo acima\n"
   ]
  },
  {
   "cell_type": "code",
   "execution_count": null,
   "metadata": {},
   "outputs": [],
   "source": []
  },
  {
   "cell_type": "markdown",
   "metadata": {},
   "source": [
    "## Problema 2: Fractais de Newton\n",
    "\n",
    "Ao se usar o método de Newton para se resolver uma equação que possui mais de uma solução, dependendo do valor inicial o método irá convergir para alguma das soluções. \n",
    "\n",
    "O senso comum diz que haverá uma fronteira dividindo regiões que convregem para diferentes soluções. Mas a realidade é muito mais interessante.\n",
    "\n",
    "Os fractais de Newton são construídos aplicando o método de Newton a polinômios de grau qualquer *em um domínio complexo*. A wikipedia (<https://en.wikipedia.org/wiki/Newton_fractal>) mostra alguns exemplos de fractais de Newton.\n",
    "\n",
    "O problema é fazer uma função que desenhe os fractais de Newton para um polinômio qualquer.\n",
    "\n",
    "(O programa XaoS <http://matek.hu/xaos/doku.php> permite visualizar diversos tipos de fractais)"
   ]
  },
  {
   "cell_type": "code",
   "execution_count": null,
   "metadata": {},
   "outputs": [],
   "source": []
  }
 ],
 "metadata": {
  "@webio": {
   "lastCommId": "22deafc3dc564c42994b267d6d92a4e4",
   "lastKernelId": "9d056bee-15ed-42dc-a68a-a0393db6408d"
  },
  "kernelspec": {
   "display_name": "Julia 1.1.0",
   "language": "julia",
   "name": "julia-1.1"
  },
  "language_info": {
   "file_extension": ".jl",
   "mimetype": "application/julia",
   "name": "julia",
   "version": "1.1.0"
  }
 },
 "nbformat": 4,
 "nbformat_minor": 2
}
