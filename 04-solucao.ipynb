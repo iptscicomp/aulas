{
 "cells": [
  {
   "cell_type": "markdown",
   "metadata": {},
   "source": [
    "# Solução dos exercícios propostos na aula 4\n",
    "\n",
    "Ao fim da aula 4, foram propostos alguns exercícios envolvendo interpolação. A seguir estão os exercícios. Em seguida, vem uma breve recapitulação da aula. A solução está logo após."
   ]
  },
  {
   "cell_type": "markdown",
   "metadata": {},
   "source": [
    "## Exercícios\n",
    "\n",
    "### Problema 1\n",
    "\n",
    "Interpole a função de Runge com $-1 \\le x \\le 1$:\n",
    "$$\n",
    "f(x) = \\frac{1}{1 + 25x^2}\n",
    "$$\n",
    "\n",
    " 1. Use 11 pontos uniformemente distribuídos\n",
    " 2. Aumente o número de pontos\n",
    " 3. Tente usar os pontos $x_k = \\cos\\left(\\frac{k\\pi}{N}\\right)$ para $k = 0\\ldots N$.\n",
    " 4. Brinque com o número de pontos\n",
    "\n",
    "### Problema 2\n",
    "\n",
    "Procure na Net o método de diferenças divididas de Newton a interpole a função anterior nos mesmos pontos. Este método é simplesmente um jeito inteligente de resolver a matriz apresentada lá em cima.\n",
    "\n",
    "### Problema 3\n",
    "\n",
    "Use a biblioteca Interpolations.jl e Dierckx.jl para fazer as interpolações. Compare a interpolação linear com os splines.\n",
    "\n"
   ]
  },
  {
   "cell_type": "markdown",
   "metadata": {},
   "source": [
    "<!-- TEASER_END -->"
   ]
  },
  {
   "cell_type": "markdown",
   "metadata": {},
   "source": [
    "# Interpolação\n",
    "\n",
    "Dado um conjunto de n pontos $(x_i, y_i)$, qual o poliômio que passa por todos?\n",
    "\n",
    "$$\n",
    "y_i = a_0 + a_1 x_i + a_2 x_i^2 + \\ldots a_n x_i^n \\qquad i=1, \\ldots, m\n",
    "$$"
   ]
  },
  {
   "cell_type": "markdown",
   "metadata": {},
   "source": [
    "## Vandermonde\n",
    "\n",
    "Com n+1 pontos distintos, se o polinômio for de grau n, pode-se montar o seguinte sistema linear:\n",
    "\n",
    "$$\n",
    "\\begin{bmatrix}\n",
    "1 & x_0 & x_0^2 & \\cdots & x_0^n \\\\\n",
    "1 & x_1 & x_1^2 & \\cdots & x_1^n \\\\\n",
    "\\vdots & \\vdots & \\vdots & \\ddots & \\vdots\\\\\n",
    "1 & x_n & x_n^2 & \\cdots & x_n^n\\\\\n",
    "\\end{bmatrix}\\cdot\n",
    "\\left\\{ \\begin{matrix} a_0 \\\\ a_1 \\\\ \\vdots \\\\ a_n\\\\ \\end{matrix}\\right\\}\n",
    "= \\left\\{\\begin{matrix} y_0 \\\\ y_1 \\\\ \\vdots \\\\ y_n\\\\\\end{matrix}\\right\\}\n",
    "$$\n",
    "\n",
    "Mas esta é uma operação cara, $\\mathcal{O}(n^3)$!"
   ]
  },
  {
   "cell_type": "markdown",
   "metadata": {},
   "source": [
    "## Outra possibilidade\n",
    "\n",
    "$$\n",
    "y = f(x) \\approx a_0 + a_1(x-x_0) + a_2(x-x_0)(x-x_1) + \\cdots + a_n(x-x_0)(x-x_1)\\cdots(x - x_{n-1})\n",
    "$$\n",
    "\n",
    "Com isso chegamos ao seguinte sistema linear triangular:\n",
    "$$\n",
    "\\begin{bmatrix}\n",
    "1 & 0 & 0 &  0 &\\cdots & 0\\\\\n",
    "1 & (x_1-x_0) & 0 & 0 &  \\cdots & 0\\\\\n",
    "1 & (x_2 - x_0) &  (x_2 - x_0)(x_2 - x_1) & 0 & \\cdots & 0\\\\\n",
    "\\vdots & \\vdots & \\vdots & \\vdots & \\ddots & \\vdots\\\\\n",
    "1 & (x_n - x_0) &  (x_n - x_0)(x_n - x_1) & (x_n - x_0)(x_n - x_1)(x_n-x_2) & \\cdots &(x_n-x_0)(x_n-x_1)\\cdots(x_n-x_{n-1})\\\\\n",
    "\\end{bmatrix}\\cdot\\left\\{\\begin{matrix} a_0\\\\ a_1 \\\\ a_2 \\\\ \\vdots \\\\ a_n\\end{matrix}\\right\\} = \n",
    "\\left\\{\\begin{matrix} y_0\\\\ y_1 \\\\ y_2 \\\\ \\vdots \\\\ y_n\\end{matrix}\\right\\}\n",
    "$$\n",
    "\n",
    "Resolver este sistema é muito mais barato: $\\mathcal{O}(n^2)$"
   ]
  },
  {
   "cell_type": "markdown",
   "metadata": {},
   "source": [
    "## Interpolação de Lagrange:\n",
    "\n",
    "$$\n",
    "y(x) = \\sum_{i=1}^n y_i h_i(x)\n",
    "$$\n",
    "\n",
    "onde $h_i(x)$ é o interpolador de Lagrange:\n",
    "\n",
    "$$\n",
    "h_k(x) = \\prod_{i=1\\ldots n,}^n \\frac{x - x_i}{x_k - x_i} \\qquad i\\ne k\n",
    "$$\n",
    "\n",
    "Propriedade:\n",
    "$$\n",
    "h_i(x_i) = \\delta_{ij} \\quad \\text{onde} \\quad \\delta_{ij} = \\left\\{\\begin{matrix}1, \\: i=j \\\\ 0, i\\ne j\\\\ \\end{matrix}\\right.\n",
    "$$"
   ]
  },
  {
   "cell_type": "markdown",
   "metadata": {},
   "source": [
    "### Vamos organizar a interpolação de Lagrange"
   ]
  },
  {
   "cell_type": "code",
   "execution_count": null,
   "metadata": {},
   "outputs": [],
   "source": [
    "struct Lagrange\n",
    "    x::Vector{Float64}\n",
    "    y::Vector{Float64}\n",
    "    Lagrange(x, y) = new(copy(x), copy(y))\n",
    "end\n",
    "Base.Broadcast.broadcastable(lgr::Lagrange) = Ref(lgr)\n",
    "\n",
    "function lagrange(k, z, x)\n",
    " h = 1.0\n",
    "    n = length(z)\n",
    "    for i = 1:(k-1)\n",
    "        h *= (x - z[i]) / (z[k] - z[i])\n",
    "    end\n",
    "    \n",
    "    for i = (k+1):n\n",
    "        h *= (x - z[i]) / (z[k] - z[i])\n",
    "    end\n",
    "    return h\n",
    "end\n",
    "\n",
    "function interp(lgr::Lagrange, x)\n",
    "    \n",
    "    y = lgr.y[1] * lagrange(1, lgr.x, x)\n",
    "    \n",
    "    for i = 2:length(lgr.x)\n",
    "        y += lgr.y[i] * lagrange(i, lgr.x, x)\n",
    "    end\n",
    "    \n",
    "    return y\n",
    "end\n",
    "\n",
    "    \n",
    "(lgr::Lagrange)(x) = interp(lgr, x)    "
   ]
  },
  {
   "cell_type": "markdown",
   "metadata": {},
   "source": [
    "## Interpolação Linear\n",
    "\n"
   ]
  },
  {
   "cell_type": "code",
   "execution_count": null,
   "metadata": {},
   "outputs": [],
   "source": [
    "struct LinearInterp\n",
    "    x::Vector{Float64}\n",
    "    y::Vector{Float64}\n",
    "    LinearInterp(x, y) = new(copy(x), copy(y))\n",
    "end\n",
    "Base.Broadcast.broadcastable(lin::LinearInterp) = Ref(lin)\n",
    "\n",
    "function interp1(lin::LinearInterp, x)\n",
    "    \n",
    "    if x < lin.x[1] || x > lin.x[end]\n",
    "        error(\"Fora do Range\")\n",
    "    end\n",
    "    \n",
    "    index = 2\n",
    "    n = length(lin.x)\n",
    "    for i = 2:n\n",
    "        if lin.x[i] >= x\n",
    "            index = i\n",
    "            break\n",
    "        end\n",
    "    end\n",
    "    i1 = index-1\n",
    "    return lin.y[i1] + (lin.y[index] - lin.y[i1]) * (x - lin.x[i1]) / (lin.x[index] - lin.x[i1])\n",
    "    \n",
    "end\n",
    "    \n",
    "function interp2(lin::LinearInterp, x)\n",
    "    index = searchsortedfirst(lin.x, x)\n",
    "    if index == 1\n",
    "        index = 2\n",
    "    end\n",
    "    i1 = index-1\n",
    "    return lin.y[i1] + (lin.y[index] - lin.y[i1]) * (x - lin.x[i1]) / (lin.x[index] - lin.x[i1])\n",
    "    \n",
    "end\n",
    "\n",
    "(lin::LinearInterp)(x) = interp1(lin, x)\n"
   ]
  },
  {
   "cell_type": "markdown",
   "metadata": {},
   "source": [
    "# Pacotes\n",
    "\n",
    " * [Interpolations](https://github.com/JuliaMath/Interpolations.jl)\n",
    " * [Dierckx](https://github.com/kbarbary/Dierckx.jl)\n",
    " * [GridInterpolations](https://github.com/sisl/GridInterpolations.jl)"
   ]
  },
  {
   "cell_type": "code",
   "execution_count": null,
   "metadata": {},
   "outputs": [],
   "source": [
    "using PyPlot\n",
    "using BenchmarkTools\n",
    "using LinearAlgebra"
   ]
  },
  {
   "cell_type": "markdown",
   "metadata": {},
   "source": [
    "# Problema 1"
   ]
  },
  {
   "cell_type": "code",
   "execution_count": null,
   "metadata": {},
   "outputs": [],
   "source": [
    "f(x) = 1.0 / (1.0 + 25x^2)\n",
    "\n",
    "xx = -1:0.001:1\n",
    "yy = f.(xx);"
   ]
  },
  {
   "cell_type": "markdown",
   "metadata": {},
   "source": [
    "## Pontos igualmente espaçados"
   ]
  },
  {
   "cell_type": "code",
   "execution_count": null,
   "metadata": {},
   "outputs": [],
   "source": [
    "function ploteqspacing(N, dx=0.001)\n",
    "    xp = range(-1.0, 1.0, length=N)\n",
    "    yp = f.(xp)\n",
    "    lgr = Lagrange(xp, yp)\n",
    "    x1 = -1:dx:1\n",
    "    y1 = lgr.(x1)\n",
    "    y0 = f.(x1)\n",
    "    plot(xp, yp, \"ro\")\n",
    "    plot(x1, y0, \"r-\")\n",
    "    plot(x1, y1)    \n",
    "end\n"
   ]
  },
  {
   "cell_type": "code",
   "execution_count": null,
   "metadata": {},
   "outputs": [],
   "source": [
    "ploteqspacing(11)\n"
   ]
  },
  {
   "cell_type": "code",
   "execution_count": null,
   "metadata": {},
   "outputs": [],
   "source": [
    "ploteqspacing(5)"
   ]
  },
  {
   "cell_type": "code",
   "execution_count": null,
   "metadata": {},
   "outputs": [],
   "source": [
    "ploteqspacing(8)"
   ]
  },
  {
   "cell_type": "code",
   "execution_count": null,
   "metadata": {},
   "outputs": [],
   "source": [
    "ploteqspacing(15)"
   ]
  },
  {
   "cell_type": "code",
   "execution_count": null,
   "metadata": {},
   "outputs": [],
   "source": [
    "ploteqspacing(16)"
   ]
  },
  {
   "cell_type": "markdown",
   "metadata": {},
   "source": [
    "## Distribuição do cosseno\n"
   ]
  },
  {
   "cell_type": "code",
   "execution_count": null,
   "metadata": {},
   "outputs": [],
   "source": [
    "function plotcosspacing(N, dx=0.001)\n",
    "    xp = [cos(k*π/N) for k in 0:N]\n",
    "    yp = f.(xp)\n",
    "    lgr = Lagrange(xp, yp)\n",
    "    x1 = -1:dx:1\n",
    "    y1 = lgr.(x1)\n",
    "    y0 = f.(x1)\n",
    "    plot(xp, yp, \"ro\")\n",
    "    plot(x1, y0, \"r-\")\n",
    "    plot(x1, y1)    \n",
    "end"
   ]
  },
  {
   "cell_type": "code",
   "execution_count": null,
   "metadata": {},
   "outputs": [],
   "source": [
    "plotcosspacing(10)"
   ]
  },
  {
   "cell_type": "code",
   "execution_count": null,
   "metadata": {},
   "outputs": [],
   "source": [
    "plotcosspacing(4)"
   ]
  },
  {
   "cell_type": "code",
   "execution_count": null,
   "metadata": {},
   "outputs": [],
   "source": [
    "plotcosspacing(8)"
   ]
  },
  {
   "cell_type": "code",
   "execution_count": null,
   "metadata": {},
   "outputs": [],
   "source": [
    "plotcosspacing(16)"
   ]
  },
  {
   "cell_type": "code",
   "execution_count": null,
   "metadata": {},
   "outputs": [],
   "source": [
    "plotcosspacing(20)"
   ]
  },
  {
   "cell_type": "markdown",
   "metadata": {},
   "source": [
    "# Problema 2\n",
    "\n",
    "Diferenças divididas"
   ]
  },
  {
   "cell_type": "code",
   "execution_count": null,
   "metadata": {},
   "outputs": [],
   "source": [
    "function divdiffmat(x)\n",
    "    n = length(x)\n",
    "    \n",
    "    A = zeros(n,n)\n",
    "    for i = 1:n\n",
    "        A[i,1] = 1.0\n",
    "        for k in 2:i\n",
    "            A[i, k] = A[i,k-1] * (x[i] - x[k-1])\n",
    "        end\n",
    "    end\n",
    "    \n",
    "    return A\n",
    "    \n",
    "end\n"
   ]
  },
  {
   "cell_type": "code",
   "execution_count": null,
   "metadata": {},
   "outputs": [],
   "source": [
    "struct DividedDiff\n",
    "    x::Vector{Float64}\n",
    "    a::Vector{Float64}\n",
    "end\n",
    "function divideddiff(x, y)\n",
    "    A = LowerTriangular(divdiffmat(x))\n",
    "    a = A\\y\n",
    "    return DividedDiff(copy(x), a)\n",
    "end\n",
    "Base.Broadcast.broadcastable(ddif::DividedDiff) = Ref(ddif)\n",
    "\n",
    "\n",
    "function interp(ddif, x)\n",
    "    xx = ddif.x\n",
    "    a = ddif.a\n",
    "    \n",
    "    y = a[end] \n",
    "    \n",
    "    for i in (lastindex(a)-1):-1:1\n",
    "        y = a[i] + (x-xx[i])*y\n",
    "    end\n",
    "    return y\n",
    "end\n",
    "(ddif::DividedDiff)(x) = interp(ddif, x)"
   ]
  },
  {
   "cell_type": "code",
   "execution_count": null,
   "metadata": {},
   "outputs": [],
   "source": [
    "fun2(x) = 1.0 + 2.0*x + 3.0*x*(x-1.0) + 4.0*x*(x-1.0)*(x-2.0) + 5.0*x*(x-1.0)*(x-2.0)*(x-3.0)\n",
    "x1 = [0.0, 1.0, 2.0, 3.0, 4.0]\n",
    "y1 = fun2.(x1);"
   ]
  },
  {
   "cell_type": "code",
   "execution_count": null,
   "metadata": {},
   "outputs": [],
   "source": [
    "diff = divideddiff(x1, y1)"
   ]
  },
  {
   "cell_type": "code",
   "execution_count": null,
   "metadata": {},
   "outputs": [],
   "source": [
    "x2 = 0:0.01:4\n",
    "y2 = fun2.(x2)\n",
    "y2b = diff.(x2);"
   ]
  },
  {
   "cell_type": "code",
   "execution_count": null,
   "metadata": {},
   "outputs": [],
   "source": [
    "plot(x1, y1, \"rs\")\n",
    "plot(x2, y2, \"r-\")\n",
    "plot(x2, y2b, \"b:\")\n"
   ]
  },
  {
   "cell_type": "code",
   "execution_count": null,
   "metadata": {},
   "outputs": [],
   "source": [
    "x = -1:0.4:1\n",
    "y = sin.(π*x);"
   ]
  },
  {
   "cell_type": "code",
   "execution_count": null,
   "metadata": {},
   "outputs": [],
   "source": [
    "diff = divideddiff(x, y)"
   ]
  },
  {
   "cell_type": "code",
   "execution_count": null,
   "metadata": {},
   "outputs": [],
   "source": [
    "y1 = diff.(x);"
   ]
  },
  {
   "cell_type": "code",
   "execution_count": null,
   "metadata": {},
   "outputs": [],
   "source": [
    "xx = -1:0.01:1\n",
    "yy = sin.(π*xx)\n",
    "yy1 = diff.(xx);"
   ]
  },
  {
   "cell_type": "code",
   "execution_count": null,
   "metadata": {},
   "outputs": [],
   "source": [
    "plot(x, y, \"rs\")\n",
    "plot(xx, yy, \"r-\")\n",
    "plot(xx, yy1, \"b:\")"
   ]
  },
  {
   "cell_type": "markdown",
   "metadata": {},
   "source": [
    "## Algorítmo de Newton\n",
    "\n",
    "Um jeito interessante de calcular a interpolação usando diferenças divididas. Ao se resolver o sistema linear, pode-se escrever a solução como:\n",
    "\n",
    "$$\n",
    "\\begin{align}\n",
    "a_0 &= f(x_0)\\\\\n",
    "a_1 & = \\frac{f(x_1) - f(y_0)}{x_1 - x_0}\\\\\n",
    "a_2 &= \\frac{\\frac{f(x_2)-f(x_0)}{x_2-x_0} - \\frac{f(x_1) - f(x_0)}{x_1-x_0} }{x_2 - x_1}\\\\\n",
    "\\vdots &=  \\vdots\\\\\n",
    "\\end{align}\n",
    "$$\n",
    "\n",
    "o k-ésimo coeficiente vale:\n",
    "$$\n",
    "a_k = \\mathcal{F}\\left(x_0, x_1, \\ldots, x_k\\right)\n",
    "$$\n",
    "\n",
    "com \n",
    "$$\n",
    "\\mathcal{F}\\left(x_0, x_1, \\ldots, x_k\\right) = \\frac{\\mathcal{F}\\left(x_0, x_1, \\ldots, x_{k-1}\\right) -\\mathcal{F}\\left(x_1, x_1, \\ldots, x_k\\right)}{x_0-x_k}\n",
    "$$"
   ]
  },
  {
   "cell_type": "code",
   "execution_count": null,
   "metadata": {},
   "outputs": [],
   "source": [
    "function newton_divdiff(x, y)\n",
    "    \n",
    "    n = length(x)\n",
    "    F = zeros(n,n)\n",
    "    \n",
    "    for i in 1:n\n",
    "        F[i,1] = y[i]\n",
    "    end\n",
    "    \n",
    "    for i = 2:n\n",
    "        for k in 2:i\n",
    "            F[i,k] = (F[i,k-1] - F[i-1,k-1]) / (x[i] - x[i-k+1])\n",
    "        end\n",
    "    end\n",
    "    a = [F[i,i] for i in 1:n]\n",
    "    \n",
    "    return DividedDiff(copy(x), a)\n",
    "    \n",
    "end\n"
   ]
  },
  {
   "cell_type": "code",
   "execution_count": null,
   "metadata": {},
   "outputs": [],
   "source": [
    "fun2(x) = 1.0 + 2.0*x + 3.0*x*(x-1.0) + 4.0*x*(x-1.0)*(x-2.0) + 5.0*x*(x-1.0)*(x-2.0)*(x-3.0)\n",
    "x1 = [0.0, 1.0, 2.0, 3.0, 4.0]\n",
    "y1 = fun2.(x1);\n",
    "diff2 = newton_divdiff(x1, y1)\n"
   ]
  },
  {
   "cell_type": "markdown",
   "metadata": {},
   "source": [
    "## Uma abordagem que aloca menos memória\n",
    "\n",
    "Mesmo algorítmo anterior mas não aloca a matriz inteira."
   ]
  },
  {
   "cell_type": "code",
   "execution_count": null,
   "metadata": {},
   "outputs": [],
   "source": [
    "function newton_divdiff2(x, y)\n",
    "    \n",
    "    n = length(x)\n",
    "    F = zeros(n)\n",
    "    F0 = zeros(n)\n",
    "    F1 = zeros(n)\n",
    "    \n",
    "    F0[1] = y[1]\n",
    "    F1[1] = y[1]\n",
    "    F[1] = y[1]\n",
    "    \n",
    "    for i = 2:n\n",
    "        F1[1] = y[i]\n",
    "        for k in 2:i\n",
    "            F1[k] = (F1[k-1] - F0[k-1]) / (x[i] - x[i-k+1])\n",
    "        end\n",
    "        F[i] = F1[i]\n",
    "        for k in 1:i\n",
    "            F0[k] = F1[k]\n",
    "        end\n",
    "    end\n",
    "    \n",
    "    return DividedDiff(copy(x), F)\n",
    "    \n",
    "end\n"
   ]
  },
  {
   "cell_type": "code",
   "execution_count": null,
   "metadata": {},
   "outputs": [],
   "source": [
    "fun2(x) = 1.0 + 2.0*x + 3.0*x*(x-1.0) + 4.0*x*(x-1.0)*(x-2.0) + 5.0*x*(x-1.0)*(x-2.0)*(x-3.0)\n",
    "x1 = [0.0, 1.0, 2.0, 3.0, 4.0]\n",
    "y1 = fun2.(x1);\n",
    "diff2 = newton_divdiff2(x1, y1)\n"
   ]
  },
  {
   "cell_type": "markdown",
   "metadata": {},
   "source": [
    "# Problema 3\n",
    "\n",
    "Usando a biblioteca Interpolations"
   ]
  },
  {
   "cell_type": "code",
   "execution_count": null,
   "metadata": {},
   "outputs": [],
   "source": [
    "using Interpolations"
   ]
  },
  {
   "cell_type": "code",
   "execution_count": null,
   "metadata": {},
   "outputs": [],
   "source": [
    "x = -1:0.2:1\n",
    "y = f.(x);"
   ]
  },
  {
   "cell_type": "markdown",
   "metadata": {},
   "source": [
    "# Interpolação com malha (*grid*)"
   ]
  },
  {
   "cell_type": "code",
   "execution_count": null,
   "metadata": {},
   "outputs": [],
   "source": [
    "itp1 = interpolate((x,),  y, Gridded(Constant()));\n",
    "itp2 = interpolate((x,),  y, Gridded(Linear()));"
   ]
  },
  {
   "cell_type": "code",
   "execution_count": null,
   "metadata": {},
   "outputs": [],
   "source": [
    "xx = -1:0.001:1\n",
    "yy = f.(xx)\n",
    "yy1 = itp1.(xx);\n",
    "yy2 = itp2.(xx);\n",
    "plot(x, y, \"rs\")\n",
    "plot(xx, yy, \"r-\")\n",
    "plot(xx, yy1, \"b-\")\n",
    "plot(xx, yy2, \"b--\")\n"
   ]
  },
  {
   "cell_type": "code",
   "execution_count": null,
   "metadata": {},
   "outputs": [],
   "source": [
    "itp3 = CubicSplineInterpolation((x,), y; bc=Line(OnGrid()));\n",
    "\n",
    "yy3 = itp3.(xx)\n",
    "\n",
    "plot(x, y, \"rs\")\n",
    "plot(xx, yy, \"r-\")\n",
    "plot(xx, yy3, \"b:\")"
   ]
  },
  {
   "cell_type": "code",
   "execution_count": null,
   "metadata": {},
   "outputs": [],
   "source": [
    "function compare(h, x)\n",
    "    xp = -1:h:1\n",
    "    yp = f.(xp)\n",
    "    \n",
    "    \n",
    "    itp1 =  interpolate((xp,),  yp, Gridded(Constant()));\n",
    "    itp2 =  interpolate((xp,),  yp, Gridded(Linear()));\n",
    "    itp3 = CubicSplineInterpolation((xp,), yp, bc=Flat(OnGrid()));\n",
    "    fx = f(x)\n",
    "    return itp1(x)-fx, itp2(x)-fx, itp3(x)-fx\n",
    "end"
   ]
  },
  {
   "cell_type": "code",
   "execution_count": null,
   "metadata": {},
   "outputs": [],
   "source": [
    "hstep = [1.0, 0.5, 0.4, 0.2, 0.1, 0.05, 0.02, 0.01, 0.001]\n",
    "nn = 2.0 ./ hstep\n",
    "erra = [compare(h, -1+h/4) for h in hstep]\n",
    "errb = [compare(h, h/4) for h in hstep];\n",
    "errc = [compare(h, -0.9905) for h in hstep];\n",
    "errd = [compare(h, 0.0005) for h in hstep];"
   ]
  },
  {
   "cell_type": "code",
   "execution_count": null,
   "metadata": {},
   "outputs": [],
   "source": [
    "ea1 = [abs(e[1]) for e in erra]\n",
    "ea2 = [abs(e[2]) for e in erra]\n",
    "ea3 = [abs(e[3]) for e in erra]\n",
    "\n",
    "eb1 = [abs(e[1]) for e in errb]\n",
    "eb2 = [abs(e[2]) for e in errb]\n",
    "eb3 = [abs(e[3]) for e in errb];\n",
    "\n",
    "ec1 = [abs(e[1]) for e in errc]\n",
    "ec2 = [abs(e[2]) for e in errc]\n",
    "ec3 = [abs(e[3]) for e in errc];\n",
    "\n",
    "ed1 = [abs(e[1]) for e in errd]\n",
    "ed2 = [abs(e[2]) for e in errd]\n",
    "ed3 = [abs(e[3]) for e in errd];\n"
   ]
  },
  {
   "cell_type": "code",
   "execution_count": null,
   "metadata": {},
   "outputs": [],
   "source": [
    "loglog(nn, ea1, \"ro-\")\n",
    "loglog(nn, ea2, \"bo-\")\n",
    "loglog(nn, ea3, \"go-\")\n",
    "\n"
   ]
  },
  {
   "cell_type": "code",
   "execution_count": null,
   "metadata": {},
   "outputs": [],
   "source": [
    "loglog(nn, eb1, \"rs-\")\n",
    "loglog(nn, eb2, \"bo-\")\n",
    "loglog(nn, eb3, \"g^-\")\n"
   ]
  },
  {
   "cell_type": "code",
   "execution_count": null,
   "metadata": {},
   "outputs": [],
   "source": [
    "loglog(nn, ec1, \"rs-\")\n",
    "loglog(nn, ec2, \"bo-\")\n",
    "loglog(nn, ec3, \"g^-\")\n"
   ]
  },
  {
   "cell_type": "code",
   "execution_count": null,
   "metadata": {},
   "outputs": [],
   "source": [
    "loglog(nn, ed1, \"rs-\")\n",
    "loglog(nn, ed2, \"bo-\")\n",
    "loglog(nn, ed3, \"g^-\")\n"
   ]
  }
 ],
 "metadata": {
  "@webio": {
   "lastCommId": "d35a89f28ede474e81490bacf6ef7f7b",
   "lastKernelId": "f58175c3-1eca-422d-999a-ee3e7039be30"
  },
  "kernelspec": {
   "display_name": "Julia 1.1.0",
   "language": "julia",
   "name": "julia-1.1"
  },
  "language_info": {
   "file_extension": ".jl",
   "mimetype": "application/julia",
   "name": "julia",
   "version": "1.1.0"
  }
 },
 "nbformat": 4,
 "nbformat_minor": 2
}
